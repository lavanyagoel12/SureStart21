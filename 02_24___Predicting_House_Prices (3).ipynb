{
  "nbformat": 4,
  "nbformat_minor": 0,
  "metadata": {
    "colab": {
      "name": "02-25 ~ Predicting House Prices.ipynb",
      "provenance": [],
      "collapsed_sections": []
    },
    "kernelspec": {
      "name": "python3",
      "display_name": "Python 3"
    },
    "accelerator": "GPU"
  },
  "cells": [
    {
      "cell_type": "code",
      "metadata": {
        "colab": {
          "base_uri": "https://localhost:8080/"
        },
        "id": "iAaNY0tTp4Vv",
        "outputId": "4f966011-be4b-499d-8387-61f589a608e1"
      },
      "source": [
        "import pandas as pd\r\n",
        "\r\n",
        "from google.colab import drive\r\n",
        "drive.mount('/content/drive')\r\n",
        "\r\n",
        "\r\n",
        "df = pd.read_csv(\"/content/drive/MyDrive/SS Data/housepricedata.csv\")\r\n"
      ],
      "execution_count": 1,
      "outputs": [
        {
          "output_type": "stream",
          "text": [
            "Mounted at /content/drive\n"
          ],
          "name": "stdout"
        }
      ]
    },
    {
      "cell_type": "code",
      "metadata": {
        "colab": {
          "base_uri": "https://localhost:8080/",
          "height": 419
        },
        "id": "DpJx5tadq4--",
        "outputId": "ad1f687e-f2bb-4c6f-93b5-d24b9c0e3d07"
      },
      "source": [
        "df"
      ],
      "execution_count": 2,
      "outputs": [
        {
          "output_type": "execute_result",
          "data": {
            "text/html": [
              "<div>\n",
              "<style scoped>\n",
              "    .dataframe tbody tr th:only-of-type {\n",
              "        vertical-align: middle;\n",
              "    }\n",
              "\n",
              "    .dataframe tbody tr th {\n",
              "        vertical-align: top;\n",
              "    }\n",
              "\n",
              "    .dataframe thead th {\n",
              "        text-align: right;\n",
              "    }\n",
              "</style>\n",
              "<table border=\"1\" class=\"dataframe\">\n",
              "  <thead>\n",
              "    <tr style=\"text-align: right;\">\n",
              "      <th></th>\n",
              "      <th>LotArea</th>\n",
              "      <th>OverallQual</th>\n",
              "      <th>OverallCond</th>\n",
              "      <th>TotalBsmtSF</th>\n",
              "      <th>FullBath</th>\n",
              "      <th>HalfBath</th>\n",
              "      <th>BedroomAbvGr</th>\n",
              "      <th>TotRmsAbvGrd</th>\n",
              "      <th>Fireplaces</th>\n",
              "      <th>GarageArea</th>\n",
              "      <th>AboveMedianPrice</th>\n",
              "    </tr>\n",
              "  </thead>\n",
              "  <tbody>\n",
              "    <tr>\n",
              "      <th>0</th>\n",
              "      <td>8450</td>\n",
              "      <td>7</td>\n",
              "      <td>5</td>\n",
              "      <td>856</td>\n",
              "      <td>2</td>\n",
              "      <td>1</td>\n",
              "      <td>3</td>\n",
              "      <td>8</td>\n",
              "      <td>0</td>\n",
              "      <td>548</td>\n",
              "      <td>1</td>\n",
              "    </tr>\n",
              "    <tr>\n",
              "      <th>1</th>\n",
              "      <td>9600</td>\n",
              "      <td>6</td>\n",
              "      <td>8</td>\n",
              "      <td>1262</td>\n",
              "      <td>2</td>\n",
              "      <td>0</td>\n",
              "      <td>3</td>\n",
              "      <td>6</td>\n",
              "      <td>1</td>\n",
              "      <td>460</td>\n",
              "      <td>1</td>\n",
              "    </tr>\n",
              "    <tr>\n",
              "      <th>2</th>\n",
              "      <td>11250</td>\n",
              "      <td>7</td>\n",
              "      <td>5</td>\n",
              "      <td>920</td>\n",
              "      <td>2</td>\n",
              "      <td>1</td>\n",
              "      <td>3</td>\n",
              "      <td>6</td>\n",
              "      <td>1</td>\n",
              "      <td>608</td>\n",
              "      <td>1</td>\n",
              "    </tr>\n",
              "    <tr>\n",
              "      <th>3</th>\n",
              "      <td>9550</td>\n",
              "      <td>7</td>\n",
              "      <td>5</td>\n",
              "      <td>756</td>\n",
              "      <td>1</td>\n",
              "      <td>0</td>\n",
              "      <td>3</td>\n",
              "      <td>7</td>\n",
              "      <td>1</td>\n",
              "      <td>642</td>\n",
              "      <td>0</td>\n",
              "    </tr>\n",
              "    <tr>\n",
              "      <th>4</th>\n",
              "      <td>14260</td>\n",
              "      <td>8</td>\n",
              "      <td>5</td>\n",
              "      <td>1145</td>\n",
              "      <td>2</td>\n",
              "      <td>1</td>\n",
              "      <td>4</td>\n",
              "      <td>9</td>\n",
              "      <td>1</td>\n",
              "      <td>836</td>\n",
              "      <td>1</td>\n",
              "    </tr>\n",
              "    <tr>\n",
              "      <th>...</th>\n",
              "      <td>...</td>\n",
              "      <td>...</td>\n",
              "      <td>...</td>\n",
              "      <td>...</td>\n",
              "      <td>...</td>\n",
              "      <td>...</td>\n",
              "      <td>...</td>\n",
              "      <td>...</td>\n",
              "      <td>...</td>\n",
              "      <td>...</td>\n",
              "      <td>...</td>\n",
              "    </tr>\n",
              "    <tr>\n",
              "      <th>1455</th>\n",
              "      <td>7917</td>\n",
              "      <td>6</td>\n",
              "      <td>5</td>\n",
              "      <td>953</td>\n",
              "      <td>2</td>\n",
              "      <td>1</td>\n",
              "      <td>3</td>\n",
              "      <td>7</td>\n",
              "      <td>1</td>\n",
              "      <td>460</td>\n",
              "      <td>1</td>\n",
              "    </tr>\n",
              "    <tr>\n",
              "      <th>1456</th>\n",
              "      <td>13175</td>\n",
              "      <td>6</td>\n",
              "      <td>6</td>\n",
              "      <td>1542</td>\n",
              "      <td>2</td>\n",
              "      <td>0</td>\n",
              "      <td>3</td>\n",
              "      <td>7</td>\n",
              "      <td>2</td>\n",
              "      <td>500</td>\n",
              "      <td>1</td>\n",
              "    </tr>\n",
              "    <tr>\n",
              "      <th>1457</th>\n",
              "      <td>9042</td>\n",
              "      <td>7</td>\n",
              "      <td>9</td>\n",
              "      <td>1152</td>\n",
              "      <td>2</td>\n",
              "      <td>0</td>\n",
              "      <td>4</td>\n",
              "      <td>9</td>\n",
              "      <td>2</td>\n",
              "      <td>252</td>\n",
              "      <td>1</td>\n",
              "    </tr>\n",
              "    <tr>\n",
              "      <th>1458</th>\n",
              "      <td>9717</td>\n",
              "      <td>5</td>\n",
              "      <td>6</td>\n",
              "      <td>1078</td>\n",
              "      <td>1</td>\n",
              "      <td>0</td>\n",
              "      <td>2</td>\n",
              "      <td>5</td>\n",
              "      <td>0</td>\n",
              "      <td>240</td>\n",
              "      <td>0</td>\n",
              "    </tr>\n",
              "    <tr>\n",
              "      <th>1459</th>\n",
              "      <td>9937</td>\n",
              "      <td>5</td>\n",
              "      <td>6</td>\n",
              "      <td>1256</td>\n",
              "      <td>1</td>\n",
              "      <td>1</td>\n",
              "      <td>3</td>\n",
              "      <td>6</td>\n",
              "      <td>0</td>\n",
              "      <td>276</td>\n",
              "      <td>0</td>\n",
              "    </tr>\n",
              "  </tbody>\n",
              "</table>\n",
              "<p>1460 rows × 11 columns</p>\n",
              "</div>"
            ],
            "text/plain": [
              "      LotArea  OverallQual  ...  GarageArea  AboveMedianPrice\n",
              "0        8450            7  ...         548                 1\n",
              "1        9600            6  ...         460                 1\n",
              "2       11250            7  ...         608                 1\n",
              "3        9550            7  ...         642                 0\n",
              "4       14260            8  ...         836                 1\n",
              "...       ...          ...  ...         ...               ...\n",
              "1455     7917            6  ...         460                 1\n",
              "1456    13175            6  ...         500                 1\n",
              "1457     9042            7  ...         252                 1\n",
              "1458     9717            5  ...         240                 0\n",
              "1459     9937            5  ...         276                 0\n",
              "\n",
              "[1460 rows x 11 columns]"
            ]
          },
          "metadata": {
            "tags": []
          },
          "execution_count": 2
        }
      ]
    },
    {
      "cell_type": "code",
      "metadata": {
        "colab": {
          "base_uri": "https://localhost:8080/"
        },
        "id": "2gUxVmFwrBE3",
        "outputId": "e72dfe8b-f213-4c75-c778-f3c572059052"
      },
      "source": [
        "dataset = df.values\r\n",
        "\r\n",
        "dataset"
      ],
      "execution_count": 3,
      "outputs": [
        {
          "output_type": "execute_result",
          "data": {
            "text/plain": [
              "array([[ 8450,     7,     5, ...,     0,   548,     1],\n",
              "       [ 9600,     6,     8, ...,     1,   460,     1],\n",
              "       [11250,     7,     5, ...,     1,   608,     1],\n",
              "       ...,\n",
              "       [ 9042,     7,     9, ...,     2,   252,     1],\n",
              "       [ 9717,     5,     6, ...,     0,   240,     0],\n",
              "       [ 9937,     5,     6, ...,     0,   276,     0]])"
            ]
          },
          "metadata": {
            "tags": []
          },
          "execution_count": 3
        }
      ]
    },
    {
      "cell_type": "code",
      "metadata": {
        "id": "1dn-rwdIrKVs"
      },
      "source": [
        "X = dataset[:,0:10]\r\n",
        "Y = dataset[:,10]"
      ],
      "execution_count": 4,
      "outputs": []
    },
    {
      "cell_type": "code",
      "metadata": {
        "colab": {
          "base_uri": "https://localhost:8080/"
        },
        "id": "aES6l0uvrViw",
        "outputId": "0d8460c9-6e2f-4455-8482-d45a15d63a03"
      },
      "source": [
        "from sklearn import preprocessing\r\n",
        "\r\n",
        "min_max_scaler = preprocessing.MinMaxScaler()\r\n",
        "X_scale = min_max_scaler.fit_transform(X)\r\n",
        "\r\n",
        "X_scale"
      ],
      "execution_count": 5,
      "outputs": [
        {
          "output_type": "execute_result",
          "data": {
            "text/plain": [
              "array([[0.0334198 , 0.66666667, 0.5       , ..., 0.5       , 0.        ,\n",
              "        0.3864598 ],\n",
              "       [0.03879502, 0.55555556, 0.875     , ..., 0.33333333, 0.33333333,\n",
              "        0.32440056],\n",
              "       [0.04650728, 0.66666667, 0.5       , ..., 0.33333333, 0.33333333,\n",
              "        0.42877292],\n",
              "       ...,\n",
              "       [0.03618687, 0.66666667, 1.        , ..., 0.58333333, 0.66666667,\n",
              "        0.17771509],\n",
              "       [0.03934189, 0.44444444, 0.625     , ..., 0.25      , 0.        ,\n",
              "        0.16925247],\n",
              "       [0.04037019, 0.44444444, 0.625     , ..., 0.33333333, 0.        ,\n",
              "        0.19464034]])"
            ]
          },
          "metadata": {
            "tags": []
          },
          "execution_count": 5
        }
      ]
    },
    {
      "cell_type": "code",
      "metadata": {
        "colab": {
          "base_uri": "https://localhost:8080/"
        },
        "id": "MlMXSrH_rpKK",
        "outputId": "543397d8-5ecb-4086-a060-34009c3c96c0"
      },
      "source": [
        "from sklearn.model_selection import train_test_split\r\n",
        "\r\n",
        "X_train, X_val_and_test, Y_train, Y_val_and_test = train_test_split(X_scale, Y, test_size=0.3)\r\n",
        "X_val, X_test, Y_val, Y_test = train_test_split(X_val_and_test, Y_val_and_test, test_size=0.5)\r\n",
        "\r\n",
        "print(X_train.shape, X_val.shape, X_test.shape, Y_train.shape, Y_val.shape, Y_test.shape)\r\n"
      ],
      "execution_count": 6,
      "outputs": [
        {
          "output_type": "stream",
          "text": [
            "(1022, 10) (219, 10) (219, 10) (1022,) (219,) (219,)\n"
          ],
          "name": "stdout"
        }
      ]
    },
    {
      "cell_type": "code",
      "metadata": {
        "id": "--rIdRhrsCz9"
      },
      "source": [
        "from keras.models import Sequential\r\n",
        "from keras.layers import Dense\r\n",
        "#from keras.metrics import MeanSquaredError"
      ],
      "execution_count": 7,
      "outputs": []
    },
    {
      "cell_type": "code",
      "metadata": {
        "id": "t6oXRbgTs37n"
      },
      "source": [
        "model = Sequential([\r\n",
        "    Dense(32, activation='relu', input_shape=(10,)),\r\n",
        "    Dense(32, activation='relu'),\r\n",
        "    Dense(1, activation='sigmoid'),\r\n",
        "])"
      ],
      "execution_count": 8,
      "outputs": []
    },
    {
      "cell_type": "code",
      "metadata": {
        "id": "c2Y3MasXs9rq"
      },
      "source": [
        "model.compile(optimizer='sgd',\r\n",
        "              loss='binary_crossentropy',\r\n",
        "              metrics=['mse'])\r\n",
        "\r\n",
        "#binary_crossentropy"
      ],
      "execution_count": 9,
      "outputs": []
    },
    {
      "cell_type": "code",
      "metadata": {
        "colab": {
          "base_uri": "https://localhost:8080/"
        },
        "id": "E-LSlXuLtMkO",
        "outputId": "d9fc54ac-2db4-40ab-b0cf-27eb49102f34"
      },
      "source": [
        "hist = model.fit(X_train, Y_train,\r\n",
        "          batch_size=32, epochs=100,\r\n",
        "          validation_data=(X_val, Y_val))"
      ],
      "execution_count": 10,
      "outputs": [
        {
          "output_type": "stream",
          "text": [
            "Epoch 1/100\n",
            "32/32 [==============================] - 3s 18ms/step - loss: 0.7004 - mse: 0.2536 - val_loss: 0.6889 - val_mse: 0.2479\n",
            "Epoch 2/100\n",
            "32/32 [==============================] - 0s 4ms/step - loss: 0.6928 - mse: 0.2498 - val_loss: 0.6831 - val_mse: 0.2450\n",
            "Epoch 3/100\n",
            "32/32 [==============================] - 0s 4ms/step - loss: 0.6895 - mse: 0.2482 - val_loss: 0.6774 - val_mse: 0.2422\n",
            "Epoch 4/100\n",
            "32/32 [==============================] - 0s 4ms/step - loss: 0.6874 - mse: 0.2472 - val_loss: 0.6719 - val_mse: 0.2395\n",
            "Epoch 5/100\n",
            "32/32 [==============================] - 0s 4ms/step - loss: 0.6764 - mse: 0.2417 - val_loss: 0.6662 - val_mse: 0.2366\n",
            "Epoch 6/100\n",
            "32/32 [==============================] - 0s 4ms/step - loss: 0.6726 - mse: 0.2398 - val_loss: 0.6602 - val_mse: 0.2337\n",
            "Epoch 7/100\n",
            "32/32 [==============================] - 0s 4ms/step - loss: 0.6642 - mse: 0.2357 - val_loss: 0.6538 - val_mse: 0.2305\n",
            "Epoch 8/100\n",
            "32/32 [==============================] - 0s 4ms/step - loss: 0.6530 - mse: 0.2301 - val_loss: 0.6476 - val_mse: 0.2274\n",
            "Epoch 9/100\n",
            "32/32 [==============================] - 0s 4ms/step - loss: 0.6478 - mse: 0.2275 - val_loss: 0.6417 - val_mse: 0.2245\n",
            "Epoch 10/100\n",
            "32/32 [==============================] - 0s 4ms/step - loss: 0.6468 - mse: 0.2270 - val_loss: 0.6353 - val_mse: 0.2214\n",
            "Epoch 11/100\n",
            "32/32 [==============================] - 0s 4ms/step - loss: 0.6425 - mse: 0.2249 - val_loss: 0.6290 - val_mse: 0.2183\n",
            "Epoch 12/100\n",
            "32/32 [==============================] - 0s 4ms/step - loss: 0.6252 - mse: 0.2164 - val_loss: 0.6232 - val_mse: 0.2154\n",
            "Epoch 13/100\n",
            "32/32 [==============================] - 0s 4ms/step - loss: 0.6188 - mse: 0.2133 - val_loss: 0.6168 - val_mse: 0.2123\n",
            "Epoch 14/100\n",
            "32/32 [==============================] - 0s 4ms/step - loss: 0.6170 - mse: 0.2124 - val_loss: 0.6098 - val_mse: 0.2089\n",
            "Epoch 15/100\n",
            "32/32 [==============================] - 0s 4ms/step - loss: 0.6077 - mse: 0.2079 - val_loss: 0.6029 - val_mse: 0.2056\n",
            "Epoch 16/100\n",
            "32/32 [==============================] - 0s 4ms/step - loss: 0.6010 - mse: 0.2047 - val_loss: 0.5961 - val_mse: 0.2023\n",
            "Epoch 17/100\n",
            "32/32 [==============================] - 0s 4ms/step - loss: 0.5955 - mse: 0.2021 - val_loss: 0.5891 - val_mse: 0.1990\n",
            "Epoch 18/100\n",
            "32/32 [==============================] - 0s 4ms/step - loss: 0.5858 - mse: 0.1974 - val_loss: 0.5817 - val_mse: 0.1955\n",
            "Epoch 19/100\n",
            "32/32 [==============================] - 0s 4ms/step - loss: 0.5805 - mse: 0.1948 - val_loss: 0.5740 - val_mse: 0.1918\n",
            "Epoch 20/100\n",
            "32/32 [==============================] - 0s 4ms/step - loss: 0.5723 - mse: 0.1910 - val_loss: 0.5663 - val_mse: 0.1882\n",
            "Epoch 21/100\n",
            "32/32 [==============================] - 0s 4ms/step - loss: 0.5591 - mse: 0.1846 - val_loss: 0.5583 - val_mse: 0.1845\n",
            "Epoch 22/100\n",
            "32/32 [==============================] - 0s 4ms/step - loss: 0.5624 - mse: 0.1864 - val_loss: 0.5501 - val_mse: 0.1807\n",
            "Epoch 23/100\n",
            "32/32 [==============================] - 0s 4ms/step - loss: 0.5472 - mse: 0.1793 - val_loss: 0.5424 - val_mse: 0.1772\n",
            "Epoch 24/100\n",
            "32/32 [==============================] - 0s 4ms/step - loss: 0.5288 - mse: 0.1707 - val_loss: 0.5346 - val_mse: 0.1736\n",
            "Epoch 25/100\n",
            "32/32 [==============================] - 0s 4ms/step - loss: 0.5305 - mse: 0.1715 - val_loss: 0.5260 - val_mse: 0.1698\n",
            "Epoch 26/100\n",
            "32/32 [==============================] - 0s 4ms/step - loss: 0.5234 - mse: 0.1684 - val_loss: 0.5169 - val_mse: 0.1659\n",
            "Epoch 27/100\n",
            "32/32 [==============================] - 0s 4ms/step - loss: 0.5041 - mse: 0.1597 - val_loss: 0.5091 - val_mse: 0.1624\n",
            "Epoch 28/100\n",
            "32/32 [==============================] - 0s 4ms/step - loss: 0.5040 - mse: 0.1598 - val_loss: 0.5002 - val_mse: 0.1587\n",
            "Epoch 29/100\n",
            "32/32 [==============================] - 0s 4ms/step - loss: 0.4980 - mse: 0.1573 - val_loss: 0.4925 - val_mse: 0.1553\n",
            "Epoch 30/100\n",
            "32/32 [==============================] - 0s 4ms/step - loss: 0.4749 - mse: 0.1471 - val_loss: 0.4852 - val_mse: 0.1522\n",
            "Epoch 31/100\n",
            "32/32 [==============================] - 0s 4ms/step - loss: 0.4762 - mse: 0.1482 - val_loss: 0.4779 - val_mse: 0.1491\n",
            "Epoch 32/100\n",
            "32/32 [==============================] - 0s 4ms/step - loss: 0.4581 - mse: 0.1401 - val_loss: 0.4689 - val_mse: 0.1455\n",
            "Epoch 33/100\n",
            "32/32 [==============================] - 0s 4ms/step - loss: 0.4516 - mse: 0.1375 - val_loss: 0.4607 - val_mse: 0.1423\n",
            "Epoch 34/100\n",
            "32/32 [==============================] - 0s 5ms/step - loss: 0.4427 - mse: 0.1343 - val_loss: 0.4531 - val_mse: 0.1393\n",
            "Epoch 35/100\n",
            "32/32 [==============================] - 0s 5ms/step - loss: 0.4367 - mse: 0.1317 - val_loss: 0.4465 - val_mse: 0.1367\n",
            "Epoch 36/100\n",
            "32/32 [==============================] - 0s 5ms/step - loss: 0.4363 - mse: 0.1321 - val_loss: 0.4385 - val_mse: 0.1337\n",
            "Epoch 37/100\n",
            "32/32 [==============================] - 0s 4ms/step - loss: 0.4299 - mse: 0.1296 - val_loss: 0.4304 - val_mse: 0.1309\n",
            "Epoch 38/100\n",
            "32/32 [==============================] - 0s 4ms/step - loss: 0.4121 - mse: 0.1224 - val_loss: 0.4249 - val_mse: 0.1287\n",
            "Epoch 39/100\n",
            "32/32 [==============================] - 0s 4ms/step - loss: 0.4010 - mse: 0.1183 - val_loss: 0.4182 - val_mse: 0.1263\n",
            "Epoch 40/100\n",
            "32/32 [==============================] - 0s 4ms/step - loss: 0.4000 - mse: 0.1184 - val_loss: 0.4134 - val_mse: 0.1245\n",
            "Epoch 41/100\n",
            "32/32 [==============================] - 0s 4ms/step - loss: 0.3960 - mse: 0.1165 - val_loss: 0.4070 - val_mse: 0.1223\n",
            "Epoch 42/100\n",
            "32/32 [==============================] - 0s 4ms/step - loss: 0.3697 - mse: 0.1058 - val_loss: 0.4014 - val_mse: 0.1204\n",
            "Epoch 43/100\n",
            "32/32 [==============================] - 0s 4ms/step - loss: 0.3722 - mse: 0.1080 - val_loss: 0.3967 - val_mse: 0.1188\n",
            "Epoch 44/100\n",
            "32/32 [==============================] - 0s 4ms/step - loss: 0.3689 - mse: 0.1072 - val_loss: 0.3918 - val_mse: 0.1172\n",
            "Epoch 45/100\n",
            "32/32 [==============================] - 0s 4ms/step - loss: 0.3717 - mse: 0.1081 - val_loss: 0.3867 - val_mse: 0.1156\n",
            "Epoch 46/100\n",
            "32/32 [==============================] - 0s 4ms/step - loss: 0.3687 - mse: 0.1082 - val_loss: 0.3818 - val_mse: 0.1140\n",
            "Epoch 47/100\n",
            "32/32 [==============================] - 0s 4ms/step - loss: 0.3614 - mse: 0.1053 - val_loss: 0.3763 - val_mse: 0.1124\n",
            "Epoch 48/100\n",
            "32/32 [==============================] - 0s 5ms/step - loss: 0.3584 - mse: 0.1045 - val_loss: 0.3718 - val_mse: 0.1110\n",
            "Epoch 49/100\n",
            "32/32 [==============================] - 0s 4ms/step - loss: 0.3569 - mse: 0.1045 - val_loss: 0.3693 - val_mse: 0.1102\n",
            "Epoch 50/100\n",
            "32/32 [==============================] - 0s 4ms/step - loss: 0.3386 - mse: 0.0970 - val_loss: 0.3639 - val_mse: 0.1086\n",
            "Epoch 51/100\n",
            "32/32 [==============================] - 0s 4ms/step - loss: 0.3255 - mse: 0.0930 - val_loss: 0.3618 - val_mse: 0.1081\n",
            "Epoch 52/100\n",
            "32/32 [==============================] - 0s 4ms/step - loss: 0.3340 - mse: 0.0968 - val_loss: 0.3612 - val_mse: 0.1080\n",
            "Epoch 53/100\n",
            "32/32 [==============================] - 0s 5ms/step - loss: 0.3219 - mse: 0.0917 - val_loss: 0.3576 - val_mse: 0.1070\n",
            "Epoch 54/100\n",
            "32/32 [==============================] - 0s 4ms/step - loss: 0.3231 - mse: 0.0938 - val_loss: 0.3523 - val_mse: 0.1054\n",
            "Epoch 55/100\n",
            "32/32 [==============================] - 0s 4ms/step - loss: 0.3125 - mse: 0.0895 - val_loss: 0.3485 - val_mse: 0.1043\n",
            "Epoch 56/100\n",
            "32/32 [==============================] - 0s 4ms/step - loss: 0.3152 - mse: 0.0910 - val_loss: 0.3470 - val_mse: 0.1040\n",
            "Epoch 57/100\n",
            "32/32 [==============================] - 0s 4ms/step - loss: 0.3234 - mse: 0.0951 - val_loss: 0.3497 - val_mse: 0.1051\n",
            "Epoch 58/100\n",
            "32/32 [==============================] - 0s 4ms/step - loss: 0.3359 - mse: 0.0994 - val_loss: 0.3408 - val_mse: 0.1022\n",
            "Epoch 59/100\n",
            "32/32 [==============================] - 0s 4ms/step - loss: 0.3045 - mse: 0.0883 - val_loss: 0.3405 - val_mse: 0.1023\n",
            "Epoch 60/100\n",
            "32/32 [==============================] - 0s 4ms/step - loss: 0.3095 - mse: 0.0898 - val_loss: 0.3434 - val_mse: 0.1034\n",
            "Epoch 61/100\n",
            "32/32 [==============================] - 0s 4ms/step - loss: 0.3121 - mse: 0.0917 - val_loss: 0.3352 - val_mse: 0.1008\n",
            "Epoch 62/100\n",
            "32/32 [==============================] - 0s 4ms/step - loss: 0.2902 - mse: 0.0837 - val_loss: 0.3361 - val_mse: 0.1012\n",
            "Epoch 63/100\n",
            "32/32 [==============================] - 0s 4ms/step - loss: 0.3031 - mse: 0.0877 - val_loss: 0.3379 - val_mse: 0.1020\n",
            "Epoch 64/100\n",
            "32/32 [==============================] - 0s 4ms/step - loss: 0.2996 - mse: 0.0878 - val_loss: 0.3299 - val_mse: 0.0994\n",
            "Epoch 65/100\n",
            "32/32 [==============================] - 0s 4ms/step - loss: 0.2891 - mse: 0.0843 - val_loss: 0.3330 - val_mse: 0.1005\n",
            "Epoch 66/100\n",
            "32/32 [==============================] - 0s 4ms/step - loss: 0.3000 - mse: 0.0887 - val_loss: 0.3327 - val_mse: 0.1006\n",
            "Epoch 67/100\n",
            "32/32 [==============================] - 0s 4ms/step - loss: 0.2945 - mse: 0.0872 - val_loss: 0.3296 - val_mse: 0.0996\n",
            "Epoch 68/100\n",
            "32/32 [==============================] - 0s 4ms/step - loss: 0.2722 - mse: 0.0779 - val_loss: 0.3255 - val_mse: 0.0983\n",
            "Epoch 69/100\n",
            "32/32 [==============================] - 0s 4ms/step - loss: 0.2755 - mse: 0.0793 - val_loss: 0.3270 - val_mse: 0.0990\n",
            "Epoch 70/100\n",
            "32/32 [==============================] - 0s 4ms/step - loss: 0.2986 - mse: 0.0890 - val_loss: 0.3250 - val_mse: 0.0984\n",
            "Epoch 71/100\n",
            "32/32 [==============================] - 0s 4ms/step - loss: 0.2870 - mse: 0.0858 - val_loss: 0.3199 - val_mse: 0.0968\n",
            "Epoch 72/100\n",
            "32/32 [==============================] - 0s 4ms/step - loss: 0.2806 - mse: 0.0828 - val_loss: 0.3192 - val_mse: 0.0966\n",
            "Epoch 73/100\n",
            "32/32 [==============================] - 0s 4ms/step - loss: 0.2685 - mse: 0.0781 - val_loss: 0.3218 - val_mse: 0.0975\n",
            "Epoch 74/100\n",
            "32/32 [==============================] - 0s 4ms/step - loss: 0.2857 - mse: 0.0849 - val_loss: 0.3224 - val_mse: 0.0978\n",
            "Epoch 75/100\n",
            "32/32 [==============================] - 0s 4ms/step - loss: 0.2861 - mse: 0.0846 - val_loss: 0.3156 - val_mse: 0.0956\n",
            "Epoch 76/100\n",
            "32/32 [==============================] - 0s 4ms/step - loss: 0.2807 - mse: 0.0837 - val_loss: 0.3210 - val_mse: 0.0975\n",
            "Epoch 77/100\n",
            "32/32 [==============================] - 0s 4ms/step - loss: 0.2809 - mse: 0.0837 - val_loss: 0.3127 - val_mse: 0.0949\n",
            "Epoch 78/100\n",
            "32/32 [==============================] - 0s 4ms/step - loss: 0.2759 - mse: 0.0815 - val_loss: 0.3152 - val_mse: 0.0956\n",
            "Epoch 79/100\n",
            "32/32 [==============================] - 0s 4ms/step - loss: 0.3036 - mse: 0.0906 - val_loss: 0.3143 - val_mse: 0.0954\n",
            "Epoch 80/100\n",
            "32/32 [==============================] - 0s 4ms/step - loss: 0.2607 - mse: 0.0766 - val_loss: 0.3152 - val_mse: 0.0958\n",
            "Epoch 81/100\n",
            "32/32 [==============================] - 0s 4ms/step - loss: 0.2847 - mse: 0.0858 - val_loss: 0.3137 - val_mse: 0.0953\n",
            "Epoch 82/100\n",
            "32/32 [==============================] - 0s 4ms/step - loss: 0.2883 - mse: 0.0879 - val_loss: 0.3140 - val_mse: 0.0955\n",
            "Epoch 83/100\n",
            "32/32 [==============================] - 0s 5ms/step - loss: 0.3002 - mse: 0.0928 - val_loss: 0.3150 - val_mse: 0.0958\n",
            "Epoch 84/100\n",
            "32/32 [==============================] - 0s 4ms/step - loss: 0.2895 - mse: 0.0875 - val_loss: 0.3105 - val_mse: 0.0944\n",
            "Epoch 85/100\n",
            "32/32 [==============================] - 0s 4ms/step - loss: 0.2963 - mse: 0.0914 - val_loss: 0.3100 - val_mse: 0.0943\n",
            "Epoch 86/100\n",
            "32/32 [==============================] - 0s 4ms/step - loss: 0.2665 - mse: 0.0803 - val_loss: 0.3115 - val_mse: 0.0948\n",
            "Epoch 87/100\n",
            "32/32 [==============================] - 0s 5ms/step - loss: 0.2584 - mse: 0.0768 - val_loss: 0.3088 - val_mse: 0.0939\n",
            "Epoch 88/100\n",
            "32/32 [==============================] - 0s 4ms/step - loss: 0.2821 - mse: 0.0853 - val_loss: 0.3140 - val_mse: 0.0957\n",
            "Epoch 89/100\n",
            "32/32 [==============================] - 0s 4ms/step - loss: 0.3005 - mse: 0.0912 - val_loss: 0.3078 - val_mse: 0.0937\n",
            "Epoch 90/100\n",
            "32/32 [==============================] - 0s 4ms/step - loss: 0.2811 - mse: 0.0866 - val_loss: 0.3064 - val_mse: 0.0933\n",
            "Epoch 91/100\n",
            "32/32 [==============================] - 0s 4ms/step - loss: 0.2535 - mse: 0.0751 - val_loss: 0.3100 - val_mse: 0.0945\n",
            "Epoch 92/100\n",
            "32/32 [==============================] - 0s 4ms/step - loss: 0.2484 - mse: 0.0729 - val_loss: 0.3044 - val_mse: 0.0927\n",
            "Epoch 93/100\n",
            "32/32 [==============================] - 0s 4ms/step - loss: 0.2622 - mse: 0.0777 - val_loss: 0.3060 - val_mse: 0.0932\n",
            "Epoch 94/100\n",
            "32/32 [==============================] - 0s 4ms/step - loss: 0.2607 - mse: 0.0788 - val_loss: 0.3082 - val_mse: 0.0940\n",
            "Epoch 95/100\n",
            "32/32 [==============================] - 0s 4ms/step - loss: 0.2466 - mse: 0.0723 - val_loss: 0.3105 - val_mse: 0.0948\n",
            "Epoch 96/100\n",
            "32/32 [==============================] - 0s 4ms/step - loss: 0.2579 - mse: 0.0768 - val_loss: 0.3073 - val_mse: 0.0937\n",
            "Epoch 97/100\n",
            "32/32 [==============================] - 0s 4ms/step - loss: 0.2669 - mse: 0.0815 - val_loss: 0.3038 - val_mse: 0.0926\n",
            "Epoch 98/100\n",
            "32/32 [==============================] - 0s 4ms/step - loss: 0.2704 - mse: 0.0816 - val_loss: 0.3051 - val_mse: 0.0930\n",
            "Epoch 99/100\n",
            "32/32 [==============================] - 0s 4ms/step - loss: 0.2720 - mse: 0.0831 - val_loss: 0.3020 - val_mse: 0.0921\n",
            "Epoch 100/100\n",
            "32/32 [==============================] - 0s 4ms/step - loss: 0.2865 - mse: 0.0877 - val_loss: 0.3003 - val_mse: 0.0916\n"
          ],
          "name": "stdout"
        }
      ]
    },
    {
      "cell_type": "code",
      "metadata": {
        "colab": {
          "base_uri": "https://localhost:8080/"
        },
        "id": "gV-8drQ5tShz",
        "outputId": "19449b22-8cee-4695-d6ee-be9739a9e372"
      },
      "source": [
        "model.evaluate(X_test, Y_test)[1]"
      ],
      "execution_count": 11,
      "outputs": [
        {
          "output_type": "stream",
          "text": [
            "7/7 [==============================] - 0s 2ms/step - loss: 0.3362 - mse: 0.0897\n"
          ],
          "name": "stdout"
        },
        {
          "output_type": "execute_result",
          "data": {
            "text/plain": [
              "0.08968722820281982"
            ]
          },
          "metadata": {
            "tags": []
          },
          "execution_count": 11
        }
      ]
    },
    {
      "cell_type": "code",
      "metadata": {
        "id": "hcsx95iFuAO3"
      },
      "source": [
        "import matplotlib.pyplot as plt\r\n"
      ],
      "execution_count": 12,
      "outputs": []
    },
    {
      "cell_type": "code",
      "metadata": {
        "colab": {
          "base_uri": "https://localhost:8080/",
          "height": 281
        },
        "id": "4SgUqX5Put6e",
        "outputId": "7a7efbf5-9dac-492d-a59a-5423bfc7242e"
      },
      "source": [
        "plt.plot(hist.history['mse'], label='train')\r\n",
        "plt.plot(hist.history['val_mse'], label='test')\r\n",
        "plt.title('Loss / Mean Squared Error')\r\n",
        "#plt.ylabel('Loss')\r\n",
        "#plt.xlabel('Epoch')\r\n",
        "plt.legend()\r\n",
        "#plt.legend(['Train', 'Val'], loc='upper right')\r\n",
        "plt.show()"
      ],
      "execution_count": 13,
      "outputs": [
        {
          "output_type": "display_data",
          "data": {
            "image/png": "[encoded data removed]",
            "text/plain": [
              "<Figure size 432x288 with 1 Axes>"
            ]
          },
          "metadata": {
            "tags": [],
            "needs_background": "light"
          }
        }
      ]
    },
    {
      "cell_type": "code",
      "metadata": {
        "id": "5qvN_5T3uygt"
      },
      "source": [
        "#plt.plot(hist.history['accuracy'])\r\n",
        "#plt.plot(hist.history['val_accuracy'])\r\n",
        "#plt.title('Model accuracy')\r\n",
        "#plt.ylabel('Accuracy')\r\n",
        "#plt.xlabel('Epoch')\r\n",
        "#plt.legend(['Train', 'Val'], loc='lower right')\r\n",
        "#plt.show()"
      ],
      "execution_count": 14,
      "outputs": []
    },
    {
      "cell_type": "code",
      "metadata": {
        "id": "Cg9t6Q5eu83R"
      },
      "source": [
        ""
      ],
      "execution_count": null,
      "outputs": []
    }
  ]
}