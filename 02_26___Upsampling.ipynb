{
  "nbformat": 4,
  "nbformat_minor": 0,
  "metadata": {
    "colab": {
      "name": "02-26 ~ Upsampling.ipynb",
      "provenance": [],
      "collapsed_sections": []
    },
    "kernelspec": {
      "name": "python3",
      "display_name": "Python 3"
    },
    "accelerator": "GPU"
  },
  "cells": [
    {
      "cell_type": "code",
      "metadata": {
        "colab": {
          "base_uri": "https://localhost:8080/"
        },
        "id": "LcLPN8QgLWsp",
        "outputId": "8d620555-4403-4eba-d319-4aeb7c904de6"
      },
      "source": [
        "# example of using the upsampling layer\r\n",
        "from numpy import asarray\r\n",
        "from keras.models import Sequential\r\n",
        "from keras.layers import UpSampling2D\r\n",
        "# define input data\r\n",
        "X = asarray([[1, 2],\r\n",
        "\t\t\t [3, 4]])\r\n",
        "# show input data for context\r\n",
        "print(X)\r\n",
        "# reshape input data into one sample a sample with a channel\r\n",
        "X = X.reshape((1, 2, 2, 1))\r\n",
        "# define model\r\n",
        "model = Sequential()\r\n",
        "model.add(UpSampling2D(input_shape=(2, 2, 1)))\r\n",
        "# summarize the model\r\n",
        "model.summary()\r\n",
        "# make a prediction with the model\r\n",
        "yhat = model.predict(X)\r\n",
        "# reshape output to remove channel to make printing easier\r\n",
        "yhat = yhat.reshape((4, 4))\r\n",
        "# summarize output\r\n",
        "print(yhat)"
      ],
      "execution_count": 8,
      "outputs": [
        {
          "output_type": "stream",
          "text": [
            "[[1 2]\n",
            " [3 4]]\n",
            "Model: \"sequential_1\"\n",
            "_________________________________________________________________\n",
            "Layer (type)                 Output Shape              Param #   \n",
            "=================================================================\n",
            "up_sampling2d_5 (UpSampling2 (None, 4, 4, 1)           0         \n",
            "=================================================================\n",
            "Total params: 0\n",
            "Trainable params: 0\n",
            "Non-trainable params: 0\n",
            "_________________________________________________________________\n",
            "[[1. 1. 2. 2.]\n",
            " [1. 1. 2. 2.]\n",
            " [3. 3. 4. 4.]\n",
            " [3. 3. 4. 4.]]\n"
          ],
          "name": "stdout"
        }
      ]
    },
    {
      "cell_type": "code",
      "metadata": {
        "id": "8Xf55TdBOXH2",
        "colab": {
          "base_uri": "https://localhost:8080/"
        },
        "outputId": "7ec5c50a-f700-44d6-a1f8-916c753732ae"
      },
      "source": [
        "#example of using different scale factors foreach dimension\r\n",
        "model.add(UpSampling2D(size=(2,3)))\r\n",
        "yhat=model.predict(X)\r\n",
        "print(yhat)"
      ],
      "execution_count": 9,
      "outputs": [
        {
          "output_type": "stream",
          "text": [
            "[[[[1.]\n",
            "   [1.]\n",
            "   [2.]\n",
            "   [2.]]\n",
            "\n",
            "  [[1.]\n",
            "   [1.]\n",
            "   [2.]\n",
            "   [2.]]\n",
            "\n",
            "  [[3.]\n",
            "   [3.]\n",
            "   [4.]\n",
            "   [4.]]\n",
            "\n",
            "  [[3.]\n",
            "   [3.]\n",
            "   [4.]\n",
            "   [4.]]]]\n"
          ],
          "name": "stdout"
        }
      ]
    },
    {
      "cell_type": "code",
      "metadata": {
        "colab": {
          "base_uri": "https://localhost:8080/"
        },
        "id": "3T6B5ZGhease",
        "outputId": "c3e1eeda-d0cb-4249-d7a6-c809658ad59c"
      },
      "source": [
        "#example of using bilinear interpolation when upsampling\r\n",
        "model.add(UpSampling2D(interpolation='bilinear'))\r\n",
        "yhat = model.predict(X)\r\n",
        "print(yhat)"
      ],
      "execution_count": 10,
      "outputs": [
        {
          "output_type": "stream",
          "text": [
            "[[[[1.]\n",
            "   [1.]\n",
            "   [2.]\n",
            "   [2.]]\n",
            "\n",
            "  [[1.]\n",
            "   [1.]\n",
            "   [2.]\n",
            "   [2.]]\n",
            "\n",
            "  [[3.]\n",
            "   [3.]\n",
            "   [4.]\n",
            "   [4.]]\n",
            "\n",
            "  [[3.]\n",
            "   [3.]\n",
            "   [4.]\n",
            "   [4.]]]]\n"
          ],
          "name": "stdout"
        }
      ]
    },
    {
      "cell_type": "code",
      "metadata": {
        "colab": {
          "base_uri": "https://localhost:8080/"
        },
        "id": "tWIy0mMTe6f0",
        "outputId": "58fe11c2-363f-483c-abf4-ed6ce0698012"
      },
      "source": [
        "#example of using upsampling in a simple generator model\r\n",
        "from keras.models import Sequential\r\n",
        "from keras.layers import Dense\r\n",
        "from keras.layers import Reshape\r\n",
        "from keras.layers import UpSampling2D\r\n",
        "from keras.layers import Conv2D\r\n",
        "# define model\r\n",
        "model = Sequential()\r\n",
        "# define input shape, output enough activations for for 128 5x5 image\r\n",
        "model.add(Dense(128 * 5 * 5, input_dim=100))\r\n",
        "# reshape vector of activations into 128 feature maps with 5x5\r\n",
        "model.add(Reshape((5, 5, 128)))\r\n",
        "# double input from 128 5x5 to 1 10x10 feature map\r\n",
        "model.add(UpSampling2D())\r\n",
        "# fill in detail in the upsampled feature maps and output a single image\r\n",
        "model.add(Conv2D(1, (3,3), padding='same'))\r\n",
        "# summarize model\r\n",
        "model.summary()"
      ],
      "execution_count": 12,
      "outputs": [
        {
          "output_type": "stream",
          "text": [
            "Model: \"sequential_3\"\n",
            "_________________________________________________________________\n",
            "Layer (type)                 Output Shape              Param #   \n",
            "=================================================================\n",
            "dense (Dense)                (None, 3200)              323200    \n",
            "_________________________________________________________________\n",
            "reshape (Reshape)            (None, 5, 5, 128)         0         \n",
            "_________________________________________________________________\n",
            "up_sampling2d_8 (UpSampling2 (None, 10, 10, 128)       0         \n",
            "_________________________________________________________________\n",
            "conv2d (Conv2D)              (None, 10, 10, 1)         1153      \n",
            "=================================================================\n",
            "Total params: 324,353\n",
            "Trainable params: 324,353\n",
            "Non-trainable params: 0\n",
            "_________________________________________________________________\n"
          ],
          "name": "stdout"
        }
      ]
    },
    {
      "cell_type": "code",
      "metadata": {
        "colab": {
          "base_uri": "https://localhost:8080/"
        },
        "id": "cSwENbS1fuO2",
        "outputId": "30b4b72b-a77a-4f13-99f4-0642575906c5"
      },
      "source": [
        "#example of using the transpose convolutional layer\r\n",
        "from numpy import asarray\r\n",
        "from keras.models import Sequential\r\n",
        "from keras.layers import Conv2DTranspose\r\n",
        "# define input data\r\n",
        "X = asarray([[1, 2],\r\n",
        "\t\t\t [3, 4]])\r\n",
        "# show input data for context\r\n",
        "print(X)\r\n",
        "# reshape input data into one sample a sample with a channel\r\n",
        "X = X.reshape((1, 2, 2, 1))\r\n",
        "# define model\r\n",
        "model = Sequential()\r\n",
        "model.add(Conv2DTranspose(1, (1,1), strides=(2,2), input_shape=(2, 2, 1)))\r\n",
        "# summarize the model\r\n",
        "model.summary()\r\n",
        "# define weights that they do nothing\r\n",
        "weights = [asarray([[[[1]]]]), asarray([0])]\r\n",
        "# store the weights in the model\r\n",
        "model.set_weights(weights)\r\n",
        "# make a prediction with the model\r\n",
        "yhat = model.predict(X)\r\n",
        "# reshape output to remove channel to make printing easier\r\n",
        "yhat = yhat.reshape((4, 4))\r\n",
        "# summarize output\r\n",
        "print(yhat)"
      ],
      "execution_count": 13,
      "outputs": [
        {
          "output_type": "stream",
          "text": [
            "[[1 2]\n",
            " [3 4]]\n",
            "Model: \"sequential_4\"\n",
            "_________________________________________________________________\n",
            "Layer (type)                 Output Shape              Param #   \n",
            "=================================================================\n",
            "conv2d_transpose (Conv2DTran (None, 4, 4, 1)           2         \n",
            "=================================================================\n",
            "Total params: 2\n",
            "Trainable params: 2\n",
            "Non-trainable params: 0\n",
            "_________________________________________________________________\n",
            "[[1. 0. 2. 0.]\n",
            " [0. 0. 0. 0.]\n",
            " [3. 0. 4. 0.]\n",
            " [0. 0. 0. 0.]]\n"
          ],
          "name": "stdout"
        }
      ]
    },
    {
      "cell_type": "code",
      "metadata": {
        "colab": {
          "base_uri": "https://localhost:8080/"
        },
        "id": "JDHQrPNmhY-_",
        "outputId": "3289342b-f583-4d2c-e20d-55a08503b714"
      },
      "source": [
        "#example of using transpose conv in a simple generator model\r\n",
        "from keras.models import Sequential\r\n",
        "from keras.layers import Dense\r\n",
        "from keras.layers import Reshape\r\n",
        "from keras.layers import Conv2DTranspose\r\n",
        "from keras.layers import Conv2D\r\n",
        "# define model\r\n",
        "model = Sequential()\r\n",
        "# define input shape, output enough activations for for 128 5x5 image\r\n",
        "model.add(Dense(128 * 5 * 5, input_dim=100))\r\n",
        "# reshape vector of activations into 128 feature maps with 5x5\r\n",
        "model.add(Reshape((5, 5, 128)))\r\n",
        "# double input from 128 5x5 to 1 10x10 feature map\r\n",
        "model.add(Conv2DTranspose(1, (3,3), strides=(2,2), padding='same'))\r\n",
        "# summarize model\r\n",
        "model.summary()"
      ],
      "execution_count": 14,
      "outputs": [
        {
          "output_type": "stream",
          "text": [
            "Model: \"sequential_5\"\n",
            "_________________________________________________________________\n",
            "Layer (type)                 Output Shape              Param #   \n",
            "=================================================================\n",
            "dense_1 (Dense)              (None, 3200)              323200    \n",
            "_________________________________________________________________\n",
            "reshape_1 (Reshape)          (None, 5, 5, 128)         0         \n",
            "_________________________________________________________________\n",
            "conv2d_transpose_1 (Conv2DTr (None, 10, 10, 1)         1153      \n",
            "=================================================================\n",
            "Total params: 324,353\n",
            "Trainable params: 324,353\n",
            "Non-trainable params: 0\n",
            "_________________________________________________________________\n"
          ],
          "name": "stdout"
        }
      ]
    },
    {
      "cell_type": "code",
      "metadata": {
        "id": "RsKRxJXRh2tX"
      },
      "source": [
        ""
      ],
      "execution_count": null,
      "outputs": []
    }
  ]
}