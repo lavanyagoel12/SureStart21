{
  "nbformat": 4,
  "nbformat_minor": 0,
  "metadata": {
    "colab": {
      "name": "02-26 ~ Autoencoders.ipynb",
      "provenance": [],
      "collapsed_sections": []
    },
    "kernelspec": {
      "name": "python3",
      "display_name": "Python 3"
    },
    "accelerator": "GPU"
  },
  "cells": [
    {
      "cell_type": "code",
      "metadata": {
        "id": "R5WXG7jyjLyr"
      },
      "source": [
        "import keras\r\n",
        "from keras import layers\r\n",
        "\r\n",
        "# This is the size of our encoded representations\r\n",
        "encoding_dim = 32  # 32 floats -> compression of factor 24.5, assuming the input is 784 floats\r\n",
        "\r\n",
        "# This is our input image\r\n",
        "input_img = keras.Input(shape=(784,))\r\n",
        "# \"encoded\" is the encoded representation of the input\r\n",
        "encoded = layers.Dense(encoding_dim, activation='relu')(input_img)\r\n",
        "# \"decoded\" is the lossy reconstruction of the input\r\n",
        "decoded = layers.Dense(784, activation='sigmoid')(encoded)\r\n",
        "\r\n",
        "# This model maps an input to its reconstruction\r\n",
        "autoencoder = keras.Model(input_img, decoded)"
      ],
      "execution_count": 1,
      "outputs": []
    },
    {
      "cell_type": "code",
      "metadata": {
        "id": "OuZgqvtVjWNW"
      },
      "source": [
        "# This model maps an input to its encoded representation\r\n",
        "encoder = keras.Model(input_img, encoded)"
      ],
      "execution_count": 2,
      "outputs": []
    },
    {
      "cell_type": "code",
      "metadata": {
        "id": "_6RwzOD7jeXL"
      },
      "source": [
        "# This is our encoded (32-dimensional) input\r\n",
        "encoded_input = keras.Input(shape=(encoding_dim,))\r\n",
        "# Retrieve the last layer of the autoencoder model\r\n",
        "decoder_layer = autoencoder.layers[-1]\r\n",
        "# Create the decoder model\r\n",
        "decoder = keras.Model(encoded_input, decoder_layer(encoded_input))"
      ],
      "execution_count": 3,
      "outputs": []
    },
    {
      "cell_type": "code",
      "metadata": {
        "id": "Ic-Ld8zejjTB"
      },
      "source": [
        "autoencoder.compile(optimizer='adam', loss='binary_crossentropy')"
      ],
      "execution_count": 4,
      "outputs": []
    },
    {
      "cell_type": "code",
      "metadata": {
        "id": "9dgHCUKjjoMB",
        "colab": {
          "base_uri": "https://localhost:8080/"
        },
        "outputId": "c6a1bc0f-f7f0-401e-e0d9-d5d2f1949ad0"
      },
      "source": [
        "from keras.datasets import mnist\r\n",
        "import numpy as np\r\n",
        "(x_train, _), (x_test, _) = mnist.load_data()"
      ],
      "execution_count": 5,
      "outputs": [
        {
          "output_type": "stream",
          "text": [
            "Downloading data from https://storage.googleapis.com/tensorflow/tf-keras-datasets/mnist.npz\n",
            "11493376/11490434 [==============================] - 0s 0us/step\n"
          ],
          "name": "stdout"
        }
      ]
    },
    {
      "cell_type": "code",
      "metadata": {
        "colab": {
          "base_uri": "https://localhost:8080/"
        },
        "id": "Ec6Ro3nEjqoQ",
        "outputId": "23e15c85-9236-46b1-d256-7f41eae90169"
      },
      "source": [
        "x_train = x_train.astype('float32') / 255.\r\n",
        "x_test = x_test.astype('float32') / 255.\r\n",
        "x_train = x_train.reshape((len(x_train), np.prod(x_train.shape[1:])))\r\n",
        "x_test = x_test.reshape((len(x_test), np.prod(x_test.shape[1:])))\r\n",
        "print(x_train.shape)\r\n",
        "print(x_test.shape)"
      ],
      "execution_count": 6,
      "outputs": [
        {
          "output_type": "stream",
          "text": [
            "(60000, 784)\n",
            "(10000, 784)\n"
          ],
          "name": "stdout"
        }
      ]
    },
    {
      "cell_type": "code",
      "metadata": {
        "colab": {
          "base_uri": "https://localhost:8080/"
        },
        "id": "dks0Mfs_jt-F",
        "outputId": "1b99522d-3a34-414a-8aa6-dc5475099fe2"
      },
      "source": [
        "autoencoder.fit(x_train, x_train,\r\n",
        "                epochs=50,\r\n",
        "                batch_size=256,\r\n",
        "                shuffle=True,\r\n",
        "                validation_data=(x_test, x_test))"
      ],
      "execution_count": 7,
      "outputs": [
        {
          "output_type": "stream",
          "text": [
            "Epoch 1/50\n",
            "235/235 [==============================] - 4s 5ms/step - loss: 0.3829 - val_loss: 0.1891\n",
            "Epoch 2/50\n",
            "235/235 [==============================] - 1s 3ms/step - loss: 0.1795 - val_loss: 0.1531\n",
            "Epoch 3/50\n",
            "235/235 [==============================] - 1s 3ms/step - loss: 0.1488 - val_loss: 0.1331\n",
            "Epoch 4/50\n",
            "235/235 [==============================] - 1s 3ms/step - loss: 0.1313 - val_loss: 0.1209\n",
            "Epoch 5/50\n",
            "235/235 [==============================] - 1s 4ms/step - loss: 0.1199 - val_loss: 0.1125\n",
            "Epoch 6/50\n",
            "235/235 [==============================] - 1s 4ms/step - loss: 0.1119 - val_loss: 0.1066\n",
            "Epoch 7/50\n",
            "235/235 [==============================] - 1s 4ms/step - loss: 0.1068 - val_loss: 0.1025\n",
            "Epoch 8/50\n",
            "235/235 [==============================] - 1s 3ms/step - loss: 0.1030 - val_loss: 0.0994\n",
            "Epoch 9/50\n",
            "235/235 [==============================] - 1s 3ms/step - loss: 0.1001 - val_loss: 0.0973\n",
            "Epoch 10/50\n",
            "235/235 [==============================] - 1s 3ms/step - loss: 0.0980 - val_loss: 0.0956\n",
            "Epoch 11/50\n",
            "235/235 [==============================] - 1s 3ms/step - loss: 0.0966 - val_loss: 0.0946\n",
            "Epoch 12/50\n",
            "235/235 [==============================] - 1s 3ms/step - loss: 0.0955 - val_loss: 0.0939\n",
            "Epoch 13/50\n",
            "235/235 [==============================] - 1s 3ms/step - loss: 0.0949 - val_loss: 0.0933\n",
            "Epoch 14/50\n",
            "235/235 [==============================] - 1s 3ms/step - loss: 0.0946 - val_loss: 0.0931\n",
            "Epoch 15/50\n",
            "235/235 [==============================] - 1s 3ms/step - loss: 0.0942 - val_loss: 0.0928\n",
            "Epoch 16/50\n",
            "235/235 [==============================] - 1s 3ms/step - loss: 0.0940 - val_loss: 0.0927\n",
            "Epoch 17/50\n",
            "235/235 [==============================] - 1s 3ms/step - loss: 0.0937 - val_loss: 0.0925\n",
            "Epoch 18/50\n",
            "235/235 [==============================] - 1s 3ms/step - loss: 0.0936 - val_loss: 0.0924\n",
            "Epoch 19/50\n",
            "235/235 [==============================] - 1s 3ms/step - loss: 0.0936 - val_loss: 0.0923\n",
            "Epoch 20/50\n",
            "235/235 [==============================] - 1s 3ms/step - loss: 0.0934 - val_loss: 0.0922\n",
            "Epoch 21/50\n",
            "235/235 [==============================] - 1s 3ms/step - loss: 0.0933 - val_loss: 0.0922\n",
            "Epoch 22/50\n",
            "235/235 [==============================] - 1s 3ms/step - loss: 0.0934 - val_loss: 0.0921\n",
            "Epoch 23/50\n",
            "235/235 [==============================] - 1s 3ms/step - loss: 0.0931 - val_loss: 0.0920\n",
            "Epoch 24/50\n",
            "235/235 [==============================] - 1s 3ms/step - loss: 0.0930 - val_loss: 0.0920\n",
            "Epoch 25/50\n",
            "235/235 [==============================] - 1s 3ms/step - loss: 0.0932 - val_loss: 0.0920\n",
            "Epoch 26/50\n",
            "235/235 [==============================] - 1s 3ms/step - loss: 0.0930 - val_loss: 0.0920\n",
            "Epoch 27/50\n",
            "235/235 [==============================] - 1s 3ms/step - loss: 0.0931 - val_loss: 0.0919\n",
            "Epoch 28/50\n",
            "235/235 [==============================] - 1s 3ms/step - loss: 0.0933 - val_loss: 0.0920\n",
            "Epoch 29/50\n",
            "235/235 [==============================] - 1s 3ms/step - loss: 0.0931 - val_loss: 0.0919\n",
            "Epoch 30/50\n",
            "235/235 [==============================] - 1s 3ms/step - loss: 0.0929 - val_loss: 0.0919\n",
            "Epoch 31/50\n",
            "235/235 [==============================] - 1s 3ms/step - loss: 0.0929 - val_loss: 0.0918\n",
            "Epoch 32/50\n",
            "235/235 [==============================] - 1s 3ms/step - loss: 0.0928 - val_loss: 0.0919\n",
            "Epoch 33/50\n",
            "235/235 [==============================] - 1s 3ms/step - loss: 0.0929 - val_loss: 0.0918\n",
            "Epoch 34/50\n",
            "235/235 [==============================] - 1s 3ms/step - loss: 0.0928 - val_loss: 0.0917\n",
            "Epoch 35/50\n",
            "235/235 [==============================] - 1s 3ms/step - loss: 0.0930 - val_loss: 0.0917\n",
            "Epoch 36/50\n",
            "235/235 [==============================] - 1s 3ms/step - loss: 0.0928 - val_loss: 0.0917\n",
            "Epoch 37/50\n",
            "235/235 [==============================] - 1s 3ms/step - loss: 0.0927 - val_loss: 0.0917\n",
            "Epoch 38/50\n",
            "235/235 [==============================] - 1s 3ms/step - loss: 0.0929 - val_loss: 0.0917\n",
            "Epoch 39/50\n",
            "235/235 [==============================] - 1s 4ms/step - loss: 0.0929 - val_loss: 0.0917\n",
            "Epoch 40/50\n",
            "235/235 [==============================] - 1s 3ms/step - loss: 0.0926 - val_loss: 0.0917\n",
            "Epoch 41/50\n",
            "235/235 [==============================] - 1s 3ms/step - loss: 0.0925 - val_loss: 0.0917\n",
            "Epoch 42/50\n",
            "235/235 [==============================] - 1s 3ms/step - loss: 0.0927 - val_loss: 0.0916\n",
            "Epoch 43/50\n",
            "235/235 [==============================] - 1s 3ms/step - loss: 0.0927 - val_loss: 0.0917\n",
            "Epoch 44/50\n",
            "235/235 [==============================] - 1s 3ms/step - loss: 0.0927 - val_loss: 0.0916\n",
            "Epoch 45/50\n",
            "235/235 [==============================] - 1s 3ms/step - loss: 0.0927 - val_loss: 0.0916\n",
            "Epoch 46/50\n",
            "235/235 [==============================] - 1s 3ms/step - loss: 0.0928 - val_loss: 0.0916\n",
            "Epoch 47/50\n",
            "235/235 [==============================] - 1s 3ms/step - loss: 0.0928 - val_loss: 0.0916\n",
            "Epoch 48/50\n",
            "235/235 [==============================] - 1s 3ms/step - loss: 0.0926 - val_loss: 0.0916\n",
            "Epoch 49/50\n",
            "235/235 [==============================] - 1s 3ms/step - loss: 0.0927 - val_loss: 0.0916\n",
            "Epoch 50/50\n",
            "235/235 [==============================] - 1s 3ms/step - loss: 0.0925 - val_loss: 0.0917\n"
          ],
          "name": "stdout"
        },
        {
          "output_type": "execute_result",
          "data": {
            "text/plain": [
              "<tensorflow.python.keras.callbacks.History at 0x7ff3900247d0>"
            ]
          },
          "metadata": {
            "tags": []
          },
          "execution_count": 7
        }
      ]
    },
    {
      "cell_type": "code",
      "metadata": {
        "colab": {
          "base_uri": "https://localhost:8080/",
          "height": 248
        },
        "id": "GHUyCGNGjy-t",
        "outputId": "00976da2-ee60-4252-f01c-1ddb428a77ec"
      },
      "source": [
        "# Encode and decode some digits\r\n",
        "# Note that we take them from the *test* set\r\n",
        "encoded_imgs = encoder.predict(x_test)\r\n",
        "decoded_imgs = decoder.predict(encoded_imgs)\r\n",
        "\r\n",
        "# Use Matplotlib (don't ask)\r\n",
        "import matplotlib.pyplot as plt\r\n",
        "\r\n",
        "n = 10  # How many digits we will display\r\n",
        "plt.figure(figsize=(20, 4))\r\n",
        "for i in range(n):\r\n",
        "    # Display original\r\n",
        "    ax = plt.subplot(2, n, i + 1)\r\n",
        "    plt.imshow(x_test[i].reshape(28, 28))\r\n",
        "    plt.gray()\r\n",
        "    ax.get_xaxis().set_visible(False)\r\n",
        "    ax.get_yaxis().set_visible(False)\r\n",
        "\r\n",
        "    # Display reconstruction\r\n",
        "    ax = plt.subplot(2, n, i + 1 + n)\r\n",
        "    plt.imshow(decoded_imgs[i].reshape(28, 28))\r\n",
        "    plt.gray()\r\n",
        "    ax.get_xaxis().set_visible(False)\r\n",
        "    ax.get_yaxis().set_visible(False)\r\n",
        "plt.show()"
      ],
      "execution_count": 8,
      "outputs": [
        {
          "output_type": "display_data",
          "data": {
            "image/png": "[encoded data removed]",
            "text/plain": [
              "<Figure size 1440x288 with 20 Axes>"
            ]
          },
          "metadata": {
            "tags": [],
            "needs_background": "light"
          }
        }
      ]
    },
    {
      "cell_type": "code",
      "metadata": {
        "id": "SeJVeTiPkBh2"
      },
      "source": [
        "from keras import regularizers\r\n",
        "\r\n",
        "encoding_dim = 32\r\n",
        "\r\n",
        "input_img = keras.Input(shape=(784,))\r\n",
        "# Add a Dense layer with a L1 activity regularizer\r\n",
        "encoded = layers.Dense(encoding_dim, activation='relu',\r\n",
        "                activity_regularizer=regularizers.l1(10e-5))(input_img)\r\n",
        "decoded = layers.Dense(784, activation='sigmoid')(encoded)\r\n",
        "\r\n",
        "autoencoder = keras.Model(input_img, decoded)"
      ],
      "execution_count": 9,
      "outputs": []
    },
    {
      "cell_type": "code",
      "metadata": {
        "id": "YUuuSqlnlLAN"
      },
      "source": [
        "input_img = keras.Input(shape=(784,))\r\n",
        "encoded = layers.Dense(128, activation='relu')(input_img)\r\n",
        "encoded = layers.Dense(64, activation='relu')(encoded)\r\n",
        "encoded = layers.Dense(32, activation='relu')(encoded)\r\n",
        "\r\n",
        "decoded = layers.Dense(64, activation='relu')(encoded)\r\n",
        "decoded = layers.Dense(128, activation='relu')(decoded)\r\n",
        "decoded = layers.Dense(784, activation='sigmoid')(decoded)"
      ],
      "execution_count": 10,
      "outputs": []
    },
    {
      "cell_type": "code",
      "metadata": {
        "colab": {
          "base_uri": "https://localhost:8080/"
        },
        "id": "9dV7SudzlVhL",
        "outputId": "78ec6dfd-8a50-4be4-a1d7-e4b3456f7daf"
      },
      "source": [
        "autoencoder = keras.Model(input_img, decoded)\r\n",
        "autoencoder.compile(optimizer='adam', loss='binary_crossentropy')\r\n",
        "\r\n",
        "autoencoder.fit(x_train, x_train,\r\n",
        "                epochs=100,\r\n",
        "                batch_size=256,\r\n",
        "                shuffle=True,\r\n",
        "                validation_data=(x_test, x_test))"
      ],
      "execution_count": 11,
      "outputs": [
        {
          "output_type": "stream",
          "text": [
            "Epoch 1/100\n",
            "235/235 [==============================] - 1s 4ms/step - loss: 0.3408 - val_loss: 0.1701\n",
            "Epoch 2/100\n",
            "235/235 [==============================] - 1s 4ms/step - loss: 0.1591 - val_loss: 0.1383\n",
            "Epoch 3/100\n",
            "235/235 [==============================] - 1s 4ms/step - loss: 0.1366 - val_loss: 0.1267\n",
            "Epoch 4/100\n",
            "235/235 [==============================] - 1s 4ms/step - loss: 0.1253 - val_loss: 0.1190\n",
            "Epoch 5/100\n",
            "235/235 [==============================] - 1s 4ms/step - loss: 0.1191 - val_loss: 0.1142\n",
            "Epoch 6/100\n",
            "235/235 [==============================] - 1s 4ms/step - loss: 0.1146 - val_loss: 0.1111\n",
            "Epoch 7/100\n",
            "235/235 [==============================] - 1s 4ms/step - loss: 0.1117 - val_loss: 0.1094\n",
            "Epoch 8/100\n",
            "235/235 [==============================] - 1s 4ms/step - loss: 0.1089 - val_loss: 0.1062\n",
            "Epoch 9/100\n",
            "235/235 [==============================] - 1s 4ms/step - loss: 0.1065 - val_loss: 0.1034\n",
            "Epoch 10/100\n",
            "235/235 [==============================] - 1s 4ms/step - loss: 0.1041 - val_loss: 0.1012\n",
            "Epoch 11/100\n",
            "235/235 [==============================] - 1s 4ms/step - loss: 0.1018 - val_loss: 0.0995\n",
            "Epoch 12/100\n",
            "235/235 [==============================] - 1s 4ms/step - loss: 0.0999 - val_loss: 0.0982\n",
            "Epoch 13/100\n",
            "235/235 [==============================] - 1s 4ms/step - loss: 0.0986 - val_loss: 0.0970\n",
            "Epoch 14/100\n",
            "235/235 [==============================] - 1s 4ms/step - loss: 0.0978 - val_loss: 0.0958\n",
            "Epoch 15/100\n",
            "235/235 [==============================] - 1s 4ms/step - loss: 0.0966 - val_loss: 0.0951\n",
            "Epoch 16/100\n",
            "235/235 [==============================] - 1s 4ms/step - loss: 0.0959 - val_loss: 0.0943\n",
            "Epoch 17/100\n",
            "235/235 [==============================] - 1s 4ms/step - loss: 0.0950 - val_loss: 0.0939\n",
            "Epoch 18/100\n",
            "235/235 [==============================] - 1s 4ms/step - loss: 0.0942 - val_loss: 0.0931\n",
            "Epoch 19/100\n",
            "235/235 [==============================] - 1s 4ms/step - loss: 0.0936 - val_loss: 0.0927\n",
            "Epoch 20/100\n",
            "235/235 [==============================] - 1s 4ms/step - loss: 0.0932 - val_loss: 0.0920\n",
            "Epoch 21/100\n",
            "235/235 [==============================] - 1s 4ms/step - loss: 0.0924 - val_loss: 0.0915\n",
            "Epoch 22/100\n",
            "235/235 [==============================] - 1s 4ms/step - loss: 0.0920 - val_loss: 0.0907\n",
            "Epoch 23/100\n",
            "235/235 [==============================] - 1s 4ms/step - loss: 0.0915 - val_loss: 0.0904\n",
            "Epoch 24/100\n",
            "235/235 [==============================] - 1s 3ms/step - loss: 0.0909 - val_loss: 0.0904\n",
            "Epoch 25/100\n",
            "235/235 [==============================] - 1s 4ms/step - loss: 0.0908 - val_loss: 0.0897\n",
            "Epoch 26/100\n",
            "235/235 [==============================] - 1s 4ms/step - loss: 0.0901 - val_loss: 0.0894\n",
            "Epoch 27/100\n",
            "235/235 [==============================] - 1s 4ms/step - loss: 0.0899 - val_loss: 0.0892\n",
            "Epoch 28/100\n",
            "235/235 [==============================] - 1s 4ms/step - loss: 0.0893 - val_loss: 0.0887\n",
            "Epoch 29/100\n",
            "235/235 [==============================] - 1s 4ms/step - loss: 0.0890 - val_loss: 0.0885\n",
            "Epoch 30/100\n",
            "235/235 [==============================] - 1s 4ms/step - loss: 0.0888 - val_loss: 0.0883\n",
            "Epoch 31/100\n",
            "235/235 [==============================] - 1s 4ms/step - loss: 0.0888 - val_loss: 0.0881\n",
            "Epoch 32/100\n",
            "235/235 [==============================] - 1s 4ms/step - loss: 0.0885 - val_loss: 0.0877\n",
            "Epoch 33/100\n",
            "235/235 [==============================] - 1s 4ms/step - loss: 0.0881 - val_loss: 0.0874\n",
            "Epoch 34/100\n",
            "235/235 [==============================] - 1s 4ms/step - loss: 0.0877 - val_loss: 0.0870\n",
            "Epoch 35/100\n",
            "235/235 [==============================] - 1s 4ms/step - loss: 0.0874 - val_loss: 0.0868\n",
            "Epoch 36/100\n",
            "235/235 [==============================] - 1s 4ms/step - loss: 0.0874 - val_loss: 0.0867\n",
            "Epoch 37/100\n",
            "235/235 [==============================] - 1s 4ms/step - loss: 0.0872 - val_loss: 0.0865\n",
            "Epoch 38/100\n",
            "235/235 [==============================] - 1s 4ms/step - loss: 0.0868 - val_loss: 0.0864\n",
            "Epoch 39/100\n",
            "235/235 [==============================] - 1s 4ms/step - loss: 0.0869 - val_loss: 0.0862\n",
            "Epoch 40/100\n",
            "235/235 [==============================] - 1s 4ms/step - loss: 0.0866 - val_loss: 0.0859\n",
            "Epoch 41/100\n",
            "235/235 [==============================] - 1s 4ms/step - loss: 0.0865 - val_loss: 0.0859\n",
            "Epoch 42/100\n",
            "235/235 [==============================] - 1s 4ms/step - loss: 0.0864 - val_loss: 0.0858\n",
            "Epoch 43/100\n",
            "235/235 [==============================] - 1s 4ms/step - loss: 0.0862 - val_loss: 0.0857\n",
            "Epoch 44/100\n",
            "235/235 [==============================] - 1s 4ms/step - loss: 0.0860 - val_loss: 0.0855\n",
            "Epoch 45/100\n",
            "235/235 [==============================] - 1s 3ms/step - loss: 0.0860 - val_loss: 0.0853\n",
            "Epoch 46/100\n",
            "235/235 [==============================] - 1s 4ms/step - loss: 0.0858 - val_loss: 0.0854\n",
            "Epoch 47/100\n",
            "235/235 [==============================] - 1s 4ms/step - loss: 0.0855 - val_loss: 0.0852\n",
            "Epoch 48/100\n",
            "235/235 [==============================] - 1s 4ms/step - loss: 0.0855 - val_loss: 0.0848\n",
            "Epoch 49/100\n",
            "235/235 [==============================] - 1s 4ms/step - loss: 0.0853 - val_loss: 0.0846\n",
            "Epoch 50/100\n",
            "235/235 [==============================] - 1s 4ms/step - loss: 0.0851 - val_loss: 0.0846\n",
            "Epoch 51/100\n",
            "235/235 [==============================] - 1s 4ms/step - loss: 0.0849 - val_loss: 0.0845\n",
            "Epoch 52/100\n",
            "235/235 [==============================] - 1s 4ms/step - loss: 0.0847 - val_loss: 0.0841\n",
            "Epoch 53/100\n",
            "235/235 [==============================] - 1s 4ms/step - loss: 0.0844 - val_loss: 0.0840\n",
            "Epoch 54/100\n",
            "235/235 [==============================] - 1s 4ms/step - loss: 0.0843 - val_loss: 0.0840\n",
            "Epoch 55/100\n",
            "235/235 [==============================] - 1s 4ms/step - loss: 0.0844 - val_loss: 0.0838\n",
            "Epoch 56/100\n",
            "235/235 [==============================] - 1s 4ms/step - loss: 0.0842 - val_loss: 0.0838\n",
            "Epoch 57/100\n",
            "235/235 [==============================] - 1s 4ms/step - loss: 0.0838 - val_loss: 0.0839\n",
            "Epoch 58/100\n",
            "235/235 [==============================] - 1s 4ms/step - loss: 0.0839 - val_loss: 0.0836\n",
            "Epoch 59/100\n",
            "235/235 [==============================] - 1s 4ms/step - loss: 0.0839 - val_loss: 0.0835\n",
            "Epoch 60/100\n",
            "235/235 [==============================] - 1s 4ms/step - loss: 0.0838 - val_loss: 0.0834\n",
            "Epoch 61/100\n",
            "235/235 [==============================] - 1s 4ms/step - loss: 0.0837 - val_loss: 0.0834\n",
            "Epoch 62/100\n",
            "235/235 [==============================] - 1s 4ms/step - loss: 0.0836 - val_loss: 0.0831\n",
            "Epoch 63/100\n",
            "235/235 [==============================] - 1s 4ms/step - loss: 0.0835 - val_loss: 0.0832\n",
            "Epoch 64/100\n",
            "235/235 [==============================] - 1s 3ms/step - loss: 0.0834 - val_loss: 0.0833\n",
            "Epoch 65/100\n",
            "235/235 [==============================] - 1s 3ms/step - loss: 0.0833 - val_loss: 0.0831\n",
            "Epoch 66/100\n",
            "235/235 [==============================] - 1s 4ms/step - loss: 0.0833 - val_loss: 0.0832\n",
            "Epoch 67/100\n",
            "235/235 [==============================] - 1s 4ms/step - loss: 0.0832 - val_loss: 0.0830\n",
            "Epoch 68/100\n",
            "235/235 [==============================] - 1s 4ms/step - loss: 0.0831 - val_loss: 0.0831\n",
            "Epoch 69/100\n",
            "235/235 [==============================] - 1s 4ms/step - loss: 0.0831 - val_loss: 0.0834\n",
            "Epoch 70/100\n",
            "235/235 [==============================] - 1s 4ms/step - loss: 0.0830 - val_loss: 0.0830\n",
            "Epoch 71/100\n",
            "235/235 [==============================] - 1s 4ms/step - loss: 0.0832 - val_loss: 0.0831\n",
            "Epoch 72/100\n",
            "235/235 [==============================] - 1s 4ms/step - loss: 0.0831 - val_loss: 0.0831\n",
            "Epoch 73/100\n",
            "235/235 [==============================] - 1s 4ms/step - loss: 0.0832 - val_loss: 0.0827\n",
            "Epoch 74/100\n",
            "235/235 [==============================] - 1s 4ms/step - loss: 0.0831 - val_loss: 0.0831\n",
            "Epoch 75/100\n",
            "235/235 [==============================] - 1s 4ms/step - loss: 0.0829 - val_loss: 0.0829\n",
            "Epoch 76/100\n",
            "235/235 [==============================] - 1s 4ms/step - loss: 0.0828 - val_loss: 0.0829\n",
            "Epoch 77/100\n",
            "235/235 [==============================] - 1s 4ms/step - loss: 0.0831 - val_loss: 0.0828\n",
            "Epoch 78/100\n",
            "235/235 [==============================] - 1s 4ms/step - loss: 0.0827 - val_loss: 0.0829\n",
            "Epoch 79/100\n",
            "235/235 [==============================] - 1s 4ms/step - loss: 0.0828 - val_loss: 0.0825\n",
            "Epoch 80/100\n",
            "235/235 [==============================] - 1s 4ms/step - loss: 0.0828 - val_loss: 0.0826\n",
            "Epoch 81/100\n",
            "235/235 [==============================] - 1s 4ms/step - loss: 0.0828 - val_loss: 0.0826\n",
            "Epoch 82/100\n",
            "235/235 [==============================] - 1s 4ms/step - loss: 0.0827 - val_loss: 0.0827\n",
            "Epoch 83/100\n",
            "235/235 [==============================] - 1s 4ms/step - loss: 0.0826 - val_loss: 0.0823\n",
            "Epoch 84/100\n",
            "235/235 [==============================] - 1s 4ms/step - loss: 0.0826 - val_loss: 0.0825\n",
            "Epoch 85/100\n",
            "235/235 [==============================] - 1s 4ms/step - loss: 0.0824 - val_loss: 0.0822\n",
            "Epoch 86/100\n",
            "235/235 [==============================] - 1s 4ms/step - loss: 0.0826 - val_loss: 0.0824\n",
            "Epoch 87/100\n",
            "235/235 [==============================] - 1s 4ms/step - loss: 0.0824 - val_loss: 0.0825\n",
            "Epoch 88/100\n",
            "235/235 [==============================] - 1s 4ms/step - loss: 0.0824 - val_loss: 0.0826\n",
            "Epoch 89/100\n",
            "235/235 [==============================] - 1s 4ms/step - loss: 0.0824 - val_loss: 0.0822\n",
            "Epoch 90/100\n",
            "235/235 [==============================] - 1s 4ms/step - loss: 0.0823 - val_loss: 0.0824\n",
            "Epoch 91/100\n",
            "235/235 [==============================] - 1s 4ms/step - loss: 0.0824 - val_loss: 0.0822\n",
            "Epoch 92/100\n",
            "235/235 [==============================] - 1s 4ms/step - loss: 0.0823 - val_loss: 0.0824\n",
            "Epoch 93/100\n",
            "235/235 [==============================] - 1s 4ms/step - loss: 0.0822 - val_loss: 0.0822\n",
            "Epoch 94/100\n",
            "235/235 [==============================] - 1s 4ms/step - loss: 0.0823 - val_loss: 0.0827\n",
            "Epoch 95/100\n",
            "235/235 [==============================] - 1s 4ms/step - loss: 0.0822 - val_loss: 0.0822\n",
            "Epoch 96/100\n",
            "235/235 [==============================] - 1s 4ms/step - loss: 0.0821 - val_loss: 0.0825\n",
            "Epoch 97/100\n",
            "235/235 [==============================] - 1s 4ms/step - loss: 0.0825 - val_loss: 0.0824\n",
            "Epoch 98/100\n",
            "235/235 [==============================] - 1s 4ms/step - loss: 0.0821 - val_loss: 0.0823\n",
            "Epoch 99/100\n",
            "235/235 [==============================] - 1s 4ms/step - loss: 0.0823 - val_loss: 0.0822\n",
            "Epoch 100/100\n",
            "235/235 [==============================] - 1s 4ms/step - loss: 0.0821 - val_loss: 0.0819\n"
          ],
          "name": "stdout"
        },
        {
          "output_type": "execute_result",
          "data": {
            "text/plain": [
              "<tensorflow.python.keras.callbacks.History at 0x7ff333763d50>"
            ]
          },
          "metadata": {
            "tags": []
          },
          "execution_count": 11
        }
      ]
    },
    {
      "cell_type": "code",
      "metadata": {
        "id": "TSlg32JNlYYi"
      },
      "source": [
        "import keras\r\n",
        "from keras import layers\r\n",
        "\r\n",
        "input_img = keras.Input(shape=(28, 28, 1))\r\n",
        "\r\n",
        "x = layers.Conv2D(16, (3, 3), activation='relu', padding='same')(input_img)\r\n",
        "x = layers.MaxPooling2D((2, 2), padding='same')(x)\r\n",
        "x = layers.Conv2D(8, (3, 3), activation='relu', padding='same')(x)\r\n",
        "x = layers.MaxPooling2D((2, 2), padding='same')(x)\r\n",
        "x = layers.Conv2D(8, (3, 3), activation='relu', padding='same')(x)\r\n",
        "encoded = layers.MaxPooling2D((2, 2), padding='same')(x)\r\n",
        "\r\n",
        "# at this point the representation is (4, 4, 8) i.e. 128-dimensional\r\n",
        "\r\n",
        "x = layers.Conv2D(8, (3, 3), activation='relu', padding='same')(encoded)\r\n",
        "x = layers.UpSampling2D((2, 2))(x)\r\n",
        "x = layers.Conv2D(8, (3, 3), activation='relu', padding='same')(x)\r\n",
        "x = layers.UpSampling2D((2, 2))(x)\r\n",
        "x = layers.Conv2D(16, (3, 3), activation='relu')(x)\r\n",
        "x = layers.UpSampling2D((2, 2))(x)\r\n",
        "decoded = layers.Conv2D(1, (3, 3), activation='sigmoid', padding='same')(x)\r\n",
        "\r\n",
        "autoencoder = keras.Model(input_img, decoded)\r\n",
        "autoencoder.compile(optimizer='adam', loss='binary_crossentropy')"
      ],
      "execution_count": 12,
      "outputs": []
    },
    {
      "cell_type": "code",
      "metadata": {
        "id": "BgXGdo8_l1N6"
      },
      "source": [
        "from keras.datasets import mnist\r\n",
        "import numpy as np\r\n",
        "\r\n",
        "(x_train, _), (x_test, _) = mnist.load_data()\r\n",
        "\r\n",
        "x_train = x_train.astype('float32') / 255.\r\n",
        "x_test = x_test.astype('float32') / 255.\r\n",
        "x_train = np.reshape(x_train, (len(x_train), 28, 28, 1))\r\n",
        "x_test = np.reshape(x_test, (len(x_test), 28, 28, 1))"
      ],
      "execution_count": 13,
      "outputs": []
    },
    {
      "cell_type": "code",
      "metadata": {
        "colab": {
          "base_uri": "https://localhost:8080/"
        },
        "id": "yhzbAVQ1l5lo",
        "outputId": "2bd8ae2b-d6e8-4306-acc8-d6bc3d254a2a"
      },
      "source": [
        "#tensorboard --logdir=/tmp/autoencoder\r\n",
        "\r\n",
        "from keras.callbacks import TensorBoard\r\n",
        "\r\n",
        "autoencoder.fit(x_train, x_train,\r\n",
        "                epochs=50,\r\n",
        "                batch_size=128,\r\n",
        "                shuffle=True,\r\n",
        "                validation_data=(x_test, x_test),\r\n",
        "                callbacks=[TensorBoard(log_dir='/tmp/autoencoder')])\r\n"
      ],
      "execution_count": 14,
      "outputs": [
        {
          "output_type": "stream",
          "text": [
            "Epoch 1/50\n",
            "469/469 [==============================] - 34s 9ms/step - loss: 0.3247 - val_loss: 0.1451\n",
            "Epoch 2/50\n",
            "469/469 [==============================] - 3s 6ms/step - loss: 0.1397 - val_loss: 0.1255\n",
            "Epoch 3/50\n",
            "469/469 [==============================] - 3s 6ms/step - loss: 0.1244 - val_loss: 0.1172\n",
            "Epoch 4/50\n",
            "469/469 [==============================] - 3s 6ms/step - loss: 0.1165 - val_loss: 0.1120\n",
            "Epoch 5/50\n",
            "469/469 [==============================] - 3s 6ms/step - loss: 0.1122 - val_loss: 0.1085\n",
            "Epoch 6/50\n",
            "469/469 [==============================] - 3s 6ms/step - loss: 0.1089 - val_loss: 0.1054\n",
            "Epoch 7/50\n",
            "469/469 [==============================] - 3s 6ms/step - loss: 0.1059 - val_loss: 0.1035\n",
            "Epoch 8/50\n",
            "469/469 [==============================] - 3s 6ms/step - loss: 0.1041 - val_loss: 0.1016\n",
            "Epoch 9/50\n",
            "469/469 [==============================] - 3s 6ms/step - loss: 0.1024 - val_loss: 0.1005\n",
            "Epoch 10/50\n",
            "469/469 [==============================] - 3s 6ms/step - loss: 0.1015 - val_loss: 0.0996\n",
            "Epoch 11/50\n",
            "469/469 [==============================] - 3s 6ms/step - loss: 0.1004 - val_loss: 0.0988\n",
            "Epoch 12/50\n",
            "469/469 [==============================] - 3s 6ms/step - loss: 0.0993 - val_loss: 0.0979\n",
            "Epoch 13/50\n",
            "469/469 [==============================] - 3s 6ms/step - loss: 0.0985 - val_loss: 0.0976\n",
            "Epoch 14/50\n",
            "469/469 [==============================] - 3s 6ms/step - loss: 0.0980 - val_loss: 0.0966\n",
            "Epoch 15/50\n",
            "469/469 [==============================] - 3s 6ms/step - loss: 0.0974 - val_loss: 0.0960\n",
            "Epoch 16/50\n",
            "469/469 [==============================] - 3s 6ms/step - loss: 0.0970 - val_loss: 0.0958\n",
            "Epoch 17/50\n",
            "469/469 [==============================] - 3s 6ms/step - loss: 0.0965 - val_loss: 0.0951\n",
            "Epoch 18/50\n",
            "469/469 [==============================] - 3s 6ms/step - loss: 0.0961 - val_loss: 0.0948\n",
            "Epoch 19/50\n",
            "469/469 [==============================] - 3s 6ms/step - loss: 0.0957 - val_loss: 0.0949\n",
            "Epoch 20/50\n",
            "469/469 [==============================] - 3s 6ms/step - loss: 0.0955 - val_loss: 0.0943\n",
            "Epoch 21/50\n",
            "469/469 [==============================] - 3s 6ms/step - loss: 0.0951 - val_loss: 0.0936\n",
            "Epoch 22/50\n",
            "469/469 [==============================] - 3s 6ms/step - loss: 0.0945 - val_loss: 0.0938\n",
            "Epoch 23/50\n",
            "469/469 [==============================] - 3s 6ms/step - loss: 0.0942 - val_loss: 0.0931\n",
            "Epoch 24/50\n",
            "469/469 [==============================] - 3s 6ms/step - loss: 0.0939 - val_loss: 0.0930\n",
            "Epoch 25/50\n",
            "469/469 [==============================] - 3s 6ms/step - loss: 0.0939 - val_loss: 0.0925\n",
            "Epoch 26/50\n",
            "469/469 [==============================] - 3s 6ms/step - loss: 0.0936 - val_loss: 0.0923\n",
            "Epoch 27/50\n",
            "469/469 [==============================] - 3s 6ms/step - loss: 0.0936 - val_loss: 0.0920\n",
            "Epoch 28/50\n",
            "469/469 [==============================] - 3s 6ms/step - loss: 0.0931 - val_loss: 0.0920\n",
            "Epoch 29/50\n",
            "469/469 [==============================] - 3s 6ms/step - loss: 0.0929 - val_loss: 0.0918\n",
            "Epoch 30/50\n",
            "469/469 [==============================] - 3s 6ms/step - loss: 0.0926 - val_loss: 0.0915\n",
            "Epoch 31/50\n",
            "469/469 [==============================] - 3s 6ms/step - loss: 0.0927 - val_loss: 0.0914\n",
            "Epoch 32/50\n",
            "469/469 [==============================] - 3s 6ms/step - loss: 0.0926 - val_loss: 0.0912\n",
            "Epoch 33/50\n",
            "469/469 [==============================] - 3s 6ms/step - loss: 0.0921 - val_loss: 0.0910\n",
            "Epoch 34/50\n",
            "469/469 [==============================] - 3s 6ms/step - loss: 0.0923 - val_loss: 0.0909\n",
            "Epoch 35/50\n",
            "469/469 [==============================] - 3s 6ms/step - loss: 0.0920 - val_loss: 0.0912\n",
            "Epoch 36/50\n",
            "469/469 [==============================] - 3s 6ms/step - loss: 0.0918 - val_loss: 0.0906\n",
            "Epoch 37/50\n",
            "469/469 [==============================] - 3s 6ms/step - loss: 0.0920 - val_loss: 0.0908\n",
            "Epoch 38/50\n",
            "469/469 [==============================] - 3s 6ms/step - loss: 0.0915 - val_loss: 0.0905\n",
            "Epoch 39/50\n",
            "469/469 [==============================] - 3s 6ms/step - loss: 0.0914 - val_loss: 0.0910\n",
            "Epoch 40/50\n",
            "469/469 [==============================] - 3s 6ms/step - loss: 0.0912 - val_loss: 0.0902\n",
            "Epoch 41/50\n",
            "469/469 [==============================] - 3s 6ms/step - loss: 0.0910 - val_loss: 0.0904\n",
            "Epoch 42/50\n",
            "469/469 [==============================] - 3s 6ms/step - loss: 0.0912 - val_loss: 0.0900\n",
            "Epoch 43/50\n",
            "469/469 [==============================] - 3s 6ms/step - loss: 0.0909 - val_loss: 0.0899\n",
            "Epoch 44/50\n",
            "469/469 [==============================] - 3s 6ms/step - loss: 0.0907 - val_loss: 0.0898\n",
            "Epoch 45/50\n",
            "469/469 [==============================] - 3s 6ms/step - loss: 0.0909 - val_loss: 0.0898\n",
            "Epoch 46/50\n",
            "469/469 [==============================] - 3s 6ms/step - loss: 0.0909 - val_loss: 0.0898\n",
            "Epoch 47/50\n",
            "469/469 [==============================] - 3s 6ms/step - loss: 0.0906 - val_loss: 0.0895\n",
            "Epoch 48/50\n",
            "469/469 [==============================] - 3s 6ms/step - loss: 0.0904 - val_loss: 0.0895\n",
            "Epoch 49/50\n",
            "469/469 [==============================] - 3s 6ms/step - loss: 0.0903 - val_loss: 0.0893\n",
            "Epoch 50/50\n",
            "469/469 [==============================] - 3s 6ms/step - loss: 0.0906 - val_loss: 0.0893\n"
          ],
          "name": "stdout"
        },
        {
          "output_type": "execute_result",
          "data": {
            "text/plain": [
              "<tensorflow.python.keras.callbacks.History at 0x7ff331d35610>"
            ]
          },
          "metadata": {
            "tags": []
          },
          "execution_count": 14
        }
      ]
    },
    {
      "cell_type": "code",
      "metadata": {
        "colab": {
          "base_uri": "https://localhost:8080/",
          "height": 248
        },
        "id": "RT2BNURMmG0_",
        "outputId": "e2066e12-4bfe-46b4-fe40-f91bfdd5c29a"
      },
      "source": [
        "decoded_imgs = autoencoder.predict(x_test)\r\n",
        "\r\n",
        "n = 10\r\n",
        "plt.figure(figsize=(20, 4))\r\n",
        "for i in range(1, n + 1):\r\n",
        "    # Display original\r\n",
        "    ax = plt.subplot(2, n, i)\r\n",
        "    plt.imshow(x_test[i].reshape(28, 28))\r\n",
        "    plt.gray()\r\n",
        "    ax.get_xaxis().set_visible(False)\r\n",
        "    ax.get_yaxis().set_visible(False)\r\n",
        "\r\n",
        "    # Display reconstruction\r\n",
        "    ax = plt.subplot(2, n, i + n)\r\n",
        "    plt.imshow(decoded_imgs[i].reshape(28, 28))\r\n",
        "    plt.gray()\r\n",
        "    ax.get_xaxis().set_visible(False)\r\n",
        "    ax.get_yaxis().set_visible(False)\r\n",
        "plt.show()"
      ],
      "execution_count": 15,
      "outputs": [
        {
          "output_type": "display_data",
          "data": {
            "image/png": "[encoded data removed]",
            "text/plain": [
              "<Figure size 1440x288 with 20 Axes>"
            ]
          },
          "metadata": {
            "tags": [],
            "needs_background": "light"
          }
        }
      ]
    },
    {
      "cell_type": "code",
      "metadata": {
        "colab": {
          "base_uri": "https://localhost:8080/",
          "height": 469
        },
        "id": "MxKWGobonu8z",
        "outputId": "6cf4402f-a91f-47e0-fe74-b788699b1f2e"
      },
      "source": [
        "encoder = keras.Model(input_img, encoded)\r\n",
        "encoded_imgs = encoder.predict(x_test)\r\n",
        "\r\n",
        "n = 10\r\n",
        "plt.figure(figsize=(20, 8))\r\n",
        "for i in range(1, n + 1):\r\n",
        "    ax = plt.subplot(1, n, i)\r\n",
        "    plt.imshow(encoded_imgs[i].reshape((4, 4 * 8)).T)\r\n",
        "    plt.gray()\r\n",
        "    ax.get_xaxis().set_visible(False)\r\n",
        "    ax.get_yaxis().set_visible(False)\r\n",
        "plt.show()"
      ],
      "execution_count": 16,
      "outputs": [
        {
          "output_type": "display_data",
          "data": {
            "image/png": "[encoded data removed]",
            "text/plain": [
              "<Figure size 1440x576 with 10 Axes>"
            ]
          },
          "metadata": {
            "tags": [],
            "needs_background": "light"
          }
        }
      ]
    },
    {
      "cell_type": "code",
      "metadata": {
        "id": "GcHYPf6in3r_"
      },
      "source": [
        "from keras.datasets import mnist\r\n",
        "import numpy as np\r\n",
        "\r\n",
        "(x_train, _), (x_test, _) = mnist.load_data()\r\n",
        "\r\n",
        "x_train = x_train.astype('float32') / 255.\r\n",
        "x_test = x_test.astype('float32') / 255.\r\n",
        "x_train = np.reshape(x_train, (len(x_train), 28, 28, 1))\r\n",
        "x_test = np.reshape(x_test, (len(x_test), 28, 28, 1))\r\n",
        "\r\n",
        "noise_factor = 0.5\r\n",
        "x_train_noisy = x_train + noise_factor * np.random.normal(loc=0.0, scale=1.0, size=x_train.shape) \r\n",
        "x_test_noisy = x_test + noise_factor * np.random.normal(loc=0.0, scale=1.0, size=x_test.shape) \r\n",
        "\r\n",
        "x_train_noisy = np.clip(x_train_noisy, 0., 1.)\r\n",
        "x_test_noisy = np.clip(x_test_noisy, 0., 1.)"
      ],
      "execution_count": 17,
      "outputs": []
    },
    {
      "cell_type": "code",
      "metadata": {
        "colab": {
          "base_uri": "https://localhost:8080/",
          "height": 129
        },
        "id": "nFRKJxMIoEZK",
        "outputId": "ea372198-4154-4b41-bdfa-b93eb9c2b5e9"
      },
      "source": [
        "n = 10\r\n",
        "plt.figure(figsize=(20, 2))\r\n",
        "for i in range(1, n + 1):\r\n",
        "    ax = plt.subplot(1, n, i)\r\n",
        "    plt.imshow(x_test_noisy[i].reshape(28, 28))\r\n",
        "    plt.gray()\r\n",
        "    ax.get_xaxis().set_visible(False)\r\n",
        "    ax.get_yaxis().set_visible(False)\r\n",
        "plt.show()"
      ],
      "execution_count": 18,
      "outputs": [
        {
          "output_type": "display_data",
          "data": {
            "image/png": "[encoded data removed]",
            "text/plain": [
              "<Figure size 1440x144 with 10 Axes>"
            ]
          },
          "metadata": {
            "tags": [],
            "needs_background": "light"
          }
        }
      ]
    },
    {
      "cell_type": "code",
      "metadata": {
        "id": "t5WuABcNoIp1"
      },
      "source": [
        "input_img = keras.Input(shape=(28, 28, 1))\r\n",
        "\r\n",
        "x = layers.Conv2D(32, (3, 3), activation='relu', padding='same')(input_img)\r\n",
        "x = layers.MaxPooling2D((2, 2), padding='same')(x)\r\n",
        "x = layers.Conv2D(32, (3, 3), activation='relu', padding='same')(x)\r\n",
        "encoded = layers.MaxPooling2D((2, 2), padding='same')(x)\r\n",
        "\r\n",
        "# At this point the representation is (7, 7, 32)\r\n",
        "\r\n",
        "x = layers.Conv2D(32, (3, 3), activation='relu', padding='same')(encoded)\r\n",
        "x = layers.UpSampling2D((2, 2))(x)\r\n",
        "x = layers.Conv2D(32, (3, 3), activation='relu', padding='same')(x)\r\n",
        "x = layers.UpSampling2D((2, 2))(x)\r\n",
        "decoded = layers.Conv2D(1, (3, 3), activation='sigmoid', padding='same')(x)\r\n",
        "\r\n",
        "autoencoder = keras.Model(input_img, decoded)\r\n",
        "autoencoder.compile(optimizer='adam', loss='binary_crossentropy')"
      ],
      "execution_count": 19,
      "outputs": []
    },
    {
      "cell_type": "code",
      "metadata": {
        "colab": {
          "base_uri": "https://localhost:8080/"
        },
        "id": "HimItx5FoOHH",
        "outputId": "399a2292-de79-42cc-89ed-09e51af56644"
      },
      "source": [
        "autoencoder.fit(x_train_noisy, x_train,\r\n",
        "                epochs=100,\r\n",
        "                batch_size=128,\r\n",
        "                shuffle=True,\r\n",
        "                validation_data=(x_test_noisy, x_test),\r\n",
        "                callbacks=[TensorBoard(log_dir='/tmp/tb', histogram_freq=0, write_graph=False)])"
      ],
      "execution_count": 20,
      "outputs": [
        {
          "output_type": "stream",
          "text": [
            "Epoch 1/100\n",
            "469/469 [==============================] - 5s 9ms/step - loss: 0.2329 - val_loss: 0.1157\n",
            "Epoch 2/100\n",
            "469/469 [==============================] - 3s 7ms/step - loss: 0.1137 - val_loss: 0.1077\n",
            "Epoch 3/100\n",
            "469/469 [==============================] - 3s 7ms/step - loss: 0.1073 - val_loss: 0.1044\n",
            "Epoch 4/100\n",
            "469/469 [==============================] - 3s 7ms/step - loss: 0.1042 - val_loss: 0.1021\n",
            "Epoch 5/100\n",
            "469/469 [==============================] - 3s 7ms/step - loss: 0.1028 - val_loss: 0.1010\n",
            "Epoch 6/100\n",
            "469/469 [==============================] - 3s 7ms/step - loss: 0.1016 - val_loss: 0.1000\n",
            "Epoch 7/100\n",
            "469/469 [==============================] - 3s 7ms/step - loss: 0.1006 - val_loss: 0.0991\n",
            "Epoch 8/100\n",
            "469/469 [==============================] - 3s 7ms/step - loss: 0.0998 - val_loss: 0.0983\n",
            "Epoch 9/100\n",
            "469/469 [==============================] - 3s 7ms/step - loss: 0.0989 - val_loss: 0.0977\n",
            "Epoch 10/100\n",
            "469/469 [==============================] - 3s 7ms/step - loss: 0.0983 - val_loss: 0.0973\n",
            "Epoch 11/100\n",
            "469/469 [==============================] - 3s 7ms/step - loss: 0.0977 - val_loss: 0.0967\n",
            "Epoch 12/100\n",
            "469/469 [==============================] - 3s 7ms/step - loss: 0.0973 - val_loss: 0.0970\n",
            "Epoch 13/100\n",
            "469/469 [==============================] - 3s 7ms/step - loss: 0.0968 - val_loss: 0.0959\n",
            "Epoch 14/100\n",
            "469/469 [==============================] - 3s 7ms/step - loss: 0.0964 - val_loss: 0.0958\n",
            "Epoch 15/100\n",
            "469/469 [==============================] - 3s 7ms/step - loss: 0.0962 - val_loss: 0.0956\n",
            "Epoch 16/100\n",
            "469/469 [==============================] - 3s 7ms/step - loss: 0.0958 - val_loss: 0.0956\n",
            "Epoch 17/100\n",
            "469/469 [==============================] - 3s 7ms/step - loss: 0.0958 - val_loss: 0.0951\n",
            "Epoch 18/100\n",
            "469/469 [==============================] - 3s 7ms/step - loss: 0.0954 - val_loss: 0.0950\n",
            "Epoch 19/100\n",
            "469/469 [==============================] - 3s 7ms/step - loss: 0.0954 - val_loss: 0.0948\n",
            "Epoch 20/100\n",
            "469/469 [==============================] - 3s 7ms/step - loss: 0.0951 - val_loss: 0.0947\n",
            "Epoch 21/100\n",
            "469/469 [==============================] - 3s 7ms/step - loss: 0.0950 - val_loss: 0.0947\n",
            "Epoch 22/100\n",
            "469/469 [==============================] - 3s 7ms/step - loss: 0.0949 - val_loss: 0.0945\n",
            "Epoch 23/100\n",
            "469/469 [==============================] - 3s 7ms/step - loss: 0.0948 - val_loss: 0.0945\n",
            "Epoch 24/100\n",
            "469/469 [==============================] - 3s 7ms/step - loss: 0.0946 - val_loss: 0.0945\n",
            "Epoch 25/100\n",
            "469/469 [==============================] - 3s 7ms/step - loss: 0.0947 - val_loss: 0.0955\n",
            "Epoch 26/100\n",
            "469/469 [==============================] - 3s 7ms/step - loss: 0.0946 - val_loss: 0.0946\n",
            "Epoch 27/100\n",
            "469/469 [==============================] - 3s 7ms/step - loss: 0.0943 - val_loss: 0.0943\n",
            "Epoch 28/100\n",
            "469/469 [==============================] - 3s 7ms/step - loss: 0.0943 - val_loss: 0.0946\n",
            "Epoch 29/100\n",
            "469/469 [==============================] - 3s 7ms/step - loss: 0.0942 - val_loss: 0.0942\n",
            "Epoch 30/100\n",
            "469/469 [==============================] - 3s 7ms/step - loss: 0.0942 - val_loss: 0.0942\n",
            "Epoch 31/100\n",
            "469/469 [==============================] - 3s 7ms/step - loss: 0.0943 - val_loss: 0.0941\n",
            "Epoch 32/100\n",
            "469/469 [==============================] - 3s 7ms/step - loss: 0.0941 - val_loss: 0.0940\n",
            "Epoch 33/100\n",
            "469/469 [==============================] - 3s 7ms/step - loss: 0.0941 - val_loss: 0.0943\n",
            "Epoch 34/100\n",
            "469/469 [==============================] - 3s 7ms/step - loss: 0.0940 - val_loss: 0.0940\n",
            "Epoch 35/100\n",
            "469/469 [==============================] - 3s 7ms/step - loss: 0.0941 - val_loss: 0.0939\n",
            "Epoch 36/100\n",
            "469/469 [==============================] - 3s 7ms/step - loss: 0.0938 - val_loss: 0.0938\n",
            "Epoch 37/100\n",
            "469/469 [==============================] - 3s 7ms/step - loss: 0.0938 - val_loss: 0.0938\n",
            "Epoch 38/100\n",
            "469/469 [==============================] - 3s 7ms/step - loss: 0.0939 - val_loss: 0.0938\n",
            "Epoch 39/100\n",
            "469/469 [==============================] - 3s 7ms/step - loss: 0.0938 - val_loss: 0.0938\n",
            "Epoch 40/100\n",
            "469/469 [==============================] - 3s 7ms/step - loss: 0.0940 - val_loss: 0.0945\n",
            "Epoch 41/100\n",
            "469/469 [==============================] - 3s 7ms/step - loss: 0.0938 - val_loss: 0.0937\n",
            "Epoch 42/100\n",
            "469/469 [==============================] - 3s 7ms/step - loss: 0.0935 - val_loss: 0.0937\n",
            "Epoch 43/100\n",
            "469/469 [==============================] - 3s 7ms/step - loss: 0.0936 - val_loss: 0.0936\n",
            "Epoch 44/100\n",
            "469/469 [==============================] - 3s 7ms/step - loss: 0.0936 - val_loss: 0.0938\n",
            "Epoch 45/100\n",
            "469/469 [==============================] - 3s 7ms/step - loss: 0.0936 - val_loss: 0.0944\n",
            "Epoch 46/100\n",
            "469/469 [==============================] - 3s 7ms/step - loss: 0.0934 - val_loss: 0.0938\n",
            "Epoch 47/100\n",
            "469/469 [==============================] - 3s 7ms/step - loss: 0.0934 - val_loss: 0.0937\n",
            "Epoch 48/100\n",
            "469/469 [==============================] - 3s 7ms/step - loss: 0.0934 - val_loss: 0.0940\n",
            "Epoch 49/100\n",
            "469/469 [==============================] - 3s 7ms/step - loss: 0.0936 - val_loss: 0.0936\n",
            "Epoch 50/100\n",
            "469/469 [==============================] - 3s 7ms/step - loss: 0.0936 - val_loss: 0.0936\n",
            "Epoch 51/100\n",
            "469/469 [==============================] - 3s 7ms/step - loss: 0.0933 - val_loss: 0.0935\n",
            "Epoch 52/100\n",
            "469/469 [==============================] - 3s 7ms/step - loss: 0.0934 - val_loss: 0.0935\n",
            "Epoch 53/100\n",
            "469/469 [==============================] - 3s 7ms/step - loss: 0.0933 - val_loss: 0.0936\n",
            "Epoch 54/100\n",
            "469/469 [==============================] - 3s 7ms/step - loss: 0.0934 - val_loss: 0.0935\n",
            "Epoch 55/100\n",
            "469/469 [==============================] - 3s 7ms/step - loss: 0.0934 - val_loss: 0.0939\n",
            "Epoch 56/100\n",
            "469/469 [==============================] - 3s 7ms/step - loss: 0.0933 - val_loss: 0.0934\n",
            "Epoch 57/100\n",
            "469/469 [==============================] - 3s 7ms/step - loss: 0.0933 - val_loss: 0.0933\n",
            "Epoch 58/100\n",
            "469/469 [==============================] - 3s 7ms/step - loss: 0.0931 - val_loss: 0.0936\n",
            "Epoch 59/100\n",
            "469/469 [==============================] - 3s 7ms/step - loss: 0.0932 - val_loss: 0.0934\n",
            "Epoch 60/100\n",
            "469/469 [==============================] - 3s 7ms/step - loss: 0.0931 - val_loss: 0.0935\n",
            "Epoch 61/100\n",
            "469/469 [==============================] - 3s 7ms/step - loss: 0.0932 - val_loss: 0.0936\n",
            "Epoch 62/100\n",
            "469/469 [==============================] - 3s 7ms/step - loss: 0.0933 - val_loss: 0.0933\n",
            "Epoch 63/100\n",
            "469/469 [==============================] - 3s 7ms/step - loss: 0.0932 - val_loss: 0.0933\n",
            "Epoch 64/100\n",
            "469/469 [==============================] - 3s 7ms/step - loss: 0.0931 - val_loss: 0.0934\n",
            "Epoch 65/100\n",
            "469/469 [==============================] - 3s 7ms/step - loss: 0.0932 - val_loss: 0.0933\n",
            "Epoch 66/100\n",
            "469/469 [==============================] - 3s 7ms/step - loss: 0.0934 - val_loss: 0.0933\n",
            "Epoch 67/100\n",
            "469/469 [==============================] - 3s 7ms/step - loss: 0.0931 - val_loss: 0.0938\n",
            "Epoch 68/100\n",
            "469/469 [==============================] - 3s 7ms/step - loss: 0.0930 - val_loss: 0.0936\n",
            "Epoch 69/100\n",
            "469/469 [==============================] - 3s 7ms/step - loss: 0.0932 - val_loss: 0.0934\n",
            "Epoch 70/100\n",
            "469/469 [==============================] - 3s 7ms/step - loss: 0.0931 - val_loss: 0.0933\n",
            "Epoch 71/100\n",
            "469/469 [==============================] - 3s 7ms/step - loss: 0.0931 - val_loss: 0.0934\n",
            "Epoch 72/100\n",
            "469/469 [==============================] - 3s 7ms/step - loss: 0.0930 - val_loss: 0.0933\n",
            "Epoch 73/100\n",
            "469/469 [==============================] - 3s 7ms/step - loss: 0.0932 - val_loss: 0.0933\n",
            "Epoch 74/100\n",
            "469/469 [==============================] - 3s 7ms/step - loss: 0.0929 - val_loss: 0.0934\n",
            "Epoch 75/100\n",
            "469/469 [==============================] - 3s 7ms/step - loss: 0.0930 - val_loss: 0.0931\n",
            "Epoch 76/100\n",
            "469/469 [==============================] - 3s 7ms/step - loss: 0.0932 - val_loss: 0.0932\n",
            "Epoch 77/100\n",
            "469/469 [==============================] - 3s 7ms/step - loss: 0.0930 - val_loss: 0.0932\n",
            "Epoch 78/100\n",
            "469/469 [==============================] - 3s 7ms/step - loss: 0.0931 - val_loss: 0.0933\n",
            "Epoch 79/100\n",
            "469/469 [==============================] - 3s 7ms/step - loss: 0.0930 - val_loss: 0.0931\n",
            "Epoch 80/100\n",
            "469/469 [==============================] - 3s 7ms/step - loss: 0.0932 - val_loss: 0.0932\n",
            "Epoch 81/100\n",
            "469/469 [==============================] - 3s 7ms/step - loss: 0.0930 - val_loss: 0.0932\n",
            "Epoch 82/100\n",
            "469/469 [==============================] - 3s 7ms/step - loss: 0.0929 - val_loss: 0.0933\n",
            "Epoch 83/100\n",
            "469/469 [==============================] - 3s 7ms/step - loss: 0.0930 - val_loss: 0.0931\n",
            "Epoch 84/100\n",
            "469/469 [==============================] - 3s 7ms/step - loss: 0.0929 - val_loss: 0.0933\n",
            "Epoch 85/100\n",
            "469/469 [==============================] - 3s 7ms/step - loss: 0.0931 - val_loss: 0.0933\n",
            "Epoch 86/100\n",
            "469/469 [==============================] - 3s 7ms/step - loss: 0.0930 - val_loss: 0.0933\n",
            "Epoch 87/100\n",
            "469/469 [==============================] - 3s 7ms/step - loss: 0.0931 - val_loss: 0.0932\n",
            "Epoch 88/100\n",
            "469/469 [==============================] - 3s 7ms/step - loss: 0.0929 - val_loss: 0.0932\n",
            "Epoch 89/100\n",
            "469/469 [==============================] - 3s 7ms/step - loss: 0.0930 - val_loss: 0.0932\n",
            "Epoch 90/100\n",
            "469/469 [==============================] - 3s 7ms/step - loss: 0.0928 - val_loss: 0.0931\n",
            "Epoch 91/100\n",
            "469/469 [==============================] - 3s 7ms/step - loss: 0.0927 - val_loss: 0.0931\n",
            "Epoch 92/100\n",
            "469/469 [==============================] - 3s 7ms/step - loss: 0.0930 - val_loss: 0.0933\n",
            "Epoch 93/100\n",
            "469/469 [==============================] - 3s 7ms/step - loss: 0.0928 - val_loss: 0.0932\n",
            "Epoch 94/100\n",
            "469/469 [==============================] - 3s 7ms/step - loss: 0.0929 - val_loss: 0.0931\n",
            "Epoch 95/100\n",
            "469/469 [==============================] - 3s 7ms/step - loss: 0.0928 - val_loss: 0.0934\n",
            "Epoch 96/100\n",
            "469/469 [==============================] - 3s 7ms/step - loss: 0.0928 - val_loss: 0.0933\n",
            "Epoch 97/100\n",
            "469/469 [==============================] - 3s 7ms/step - loss: 0.0929 - val_loss: 0.0932\n",
            "Epoch 98/100\n",
            "469/469 [==============================] - 3s 7ms/step - loss: 0.0927 - val_loss: 0.0930\n",
            "Epoch 99/100\n",
            "469/469 [==============================] - 3s 7ms/step - loss: 0.0927 - val_loss: 0.0931\n",
            "Epoch 100/100\n",
            "469/469 [==============================] - 3s 7ms/step - loss: 0.0927 - val_loss: 0.0934\n"
          ],
          "name": "stdout"
        },
        {
          "output_type": "execute_result",
          "data": {
            "text/plain": [
              "<tensorflow.python.keras.callbacks.History at 0x7ff35042bfd0>"
            ]
          },
          "metadata": {
            "tags": []
          },
          "execution_count": 20
        }
      ]
    },
    {
      "cell_type": "code",
      "metadata": {
        "colab": {
          "base_uri": "https://localhost:8080/",
          "height": 248
        },
        "id": "i0QdWCHOoTpG",
        "outputId": "6be6d81f-1d6f-4f09-e434-759623aa15ee"
      },
      "source": [
        "decoded_imgs = autoencoder.predict(x_test)\r\n",
        "\r\n",
        "n = 10\r\n",
        "plt.figure(figsize=(20, 4))\r\n",
        "for i in range(1, n + 1):\r\n",
        "    # Display original\r\n",
        "    ax = plt.subplot(2, n, i)\r\n",
        "    plt.imshow(x_test_noisy[i].reshape(28, 28))\r\n",
        "    plt.gray()\r\n",
        "    ax.get_xaxis().set_visible(False)\r\n",
        "    ax.get_yaxis().set_visible(False)\r\n",
        "\r\n",
        "    # Display reconstruction\r\n",
        "    ax = plt.subplot(2, n, i + n)\r\n",
        "    plt.imshow(decoded_imgs[i].reshape(28, 28))\r\n",
        "    plt.gray()\r\n",
        "    ax.get_xaxis().set_visible(False)\r\n",
        "    ax.get_yaxis().set_visible(False)\r\n",
        "plt.show()"
      ],
      "execution_count": 21,
      "outputs": [
        {
          "output_type": "display_data",
          "data": {
            "image/png": "[encoded data removed]",
            "text/plain": [
              "<Figure size 1440x288 with 20 Axes>"
            ]
          },
          "metadata": {
            "tags": [],
            "needs_background": "light"
          }
        }
      ]
    },
    {
      "cell_type": "code",
      "metadata": {
        "id": "6Xlitu_UonLw"
      },
      "source": [
        "original_dim = 28 * 28\r\n",
        "intermediate_dim = 64\r\n",
        "latent_dim = 2\r\n",
        "\r\n",
        "inputs = keras.Input(shape=(original_dim,))\r\n",
        "h = layers.Dense(intermediate_dim, activation='relu')(inputs)\r\n",
        "z_mean = layers.Dense(latent_dim)(h)\r\n",
        "z_log_sigma = layers.Dense(latent_dim)(h)\r\n"
      ],
      "execution_count": 22,
      "outputs": []
    },
    {
      "cell_type": "code",
      "metadata": {
        "id": "c1DdkQQppNFh"
      },
      "source": [
        "from keras import backend as K\r\n",
        "\r\n",
        "def sampling(args):\r\n",
        "    z_mean, z_log_sigma = args\r\n",
        "    epsilon = K.random_normal(shape=(K.shape(z_mean)[0], latent_dim),\r\n",
        "                              mean=0., stddev=0.1)\r\n",
        "    return z_mean + K.exp(z_log_sigma) * epsilon\r\n",
        "\r\n",
        "z = layers.Lambda(sampling)([z_mean, z_log_sigma])"
      ],
      "execution_count": 23,
      "outputs": []
    },
    {
      "cell_type": "code",
      "metadata": {
        "id": "Gkk0_n1spQU8"
      },
      "source": [
        "# Create encoder\r\n",
        "encoder = keras.Model(inputs, [z_mean, z_log_sigma, z], name='encoder')\r\n",
        "\r\n",
        "# Create decoder\r\n",
        "latent_inputs = keras.Input(shape=(latent_dim,), name='z_sampling')\r\n",
        "x = layers.Dense(intermediate_dim, activation='relu')(latent_inputs)\r\n",
        "outputs = layers.Dense(original_dim, activation='sigmoid')(x)\r\n",
        "decoder = keras.Model(latent_inputs, outputs, name='decoder')\r\n",
        "\r\n",
        "# instantiate VAE model\r\n",
        "outputs = decoder(encoder(inputs)[2])\r\n",
        "vae = keras.Model(inputs, outputs, name='vae_mlp')"
      ],
      "execution_count": 24,
      "outputs": []
    },
    {
      "cell_type": "code",
      "metadata": {
        "id": "2ZPJgDk4p4vj"
      },
      "source": [
        "reconstruction_loss = keras.losses.binary_crossentropy(inputs, outputs)\r\n",
        "reconstruction_loss *= original_dim\r\n",
        "kl_loss = 1 + z_log_sigma - K.square(z_mean) - K.exp(z_log_sigma)\r\n",
        "kl_loss = K.sum(kl_loss, axis=-1)\r\n",
        "kl_loss *= -0.5\r\n",
        "vae_loss = K.mean(reconstruction_loss + kl_loss)\r\n",
        "vae.add_loss(vae_loss)\r\n",
        "vae.compile(optimizer='adam')"
      ],
      "execution_count": 25,
      "outputs": []
    },
    {
      "cell_type": "code",
      "metadata": {
        "colab": {
          "base_uri": "https://localhost:8080/"
        },
        "id": "CT_7_603p9bQ",
        "outputId": "bf6353ea-3f28-4951-e34c-469a2f9de90c"
      },
      "source": [
        "(x_train, y_train), (x_test, y_test) = mnist.load_data()\r\n",
        "\r\n",
        "x_train = x_train.astype('float32') / 255.\r\n",
        "x_test = x_test.astype('float32') / 255.\r\n",
        "x_train = x_train.reshape((len(x_train), np.prod(x_train.shape[1:])))\r\n",
        "x_test = x_test.reshape((len(x_test), np.prod(x_test.shape[1:])))\r\n",
        "\r\n",
        "vae.fit(x_train, x_train,\r\n",
        "        epochs=100,\r\n",
        "        batch_size=32,\r\n",
        "        validation_data=(x_test, x_test))\r\n"
      ],
      "execution_count": 26,
      "outputs": [
        {
          "output_type": "stream",
          "text": [
            "Epoch 1/100\n",
            "1875/1875 [==============================] - 5s 2ms/step - loss: 225.0136 - val_loss: 167.8118\n",
            "Epoch 2/100\n",
            "1875/1875 [==============================] - 5s 2ms/step - loss: 168.0390 - val_loss: 163.9603\n",
            "Epoch 3/100\n",
            "1875/1875 [==============================] - 5s 2ms/step - loss: 163.9826 - val_loss: 161.4345\n",
            "Epoch 4/100\n",
            "1875/1875 [==============================] - 5s 2ms/step - loss: 161.3055 - val_loss: 159.4635\n",
            "Epoch 5/100\n",
            "1875/1875 [==============================] - 5s 3ms/step - loss: 158.8628 - val_loss: 157.6258\n",
            "Epoch 6/100\n",
            "1875/1875 [==============================] - 5s 2ms/step - loss: 157.3427 - val_loss: 155.8259\n",
            "Epoch 7/100\n",
            "1875/1875 [==============================] - 5s 2ms/step - loss: 155.4465 - val_loss: 154.7550\n",
            "Epoch 8/100\n",
            "1875/1875 [==============================] - 5s 3ms/step - loss: 155.0095 - val_loss: 153.9631\n",
            "Epoch 9/100\n",
            "1875/1875 [==============================] - 5s 3ms/step - loss: 153.6488 - val_loss: 153.4068\n",
            "Epoch 10/100\n",
            "1875/1875 [==============================] - 5s 2ms/step - loss: 153.3872 - val_loss: 152.7923\n",
            "Epoch 11/100\n",
            "1875/1875 [==============================] - 5s 3ms/step - loss: 152.4930 - val_loss: 152.4389\n",
            "Epoch 12/100\n",
            "1875/1875 [==============================] - 5s 2ms/step - loss: 152.1393 - val_loss: 151.9842\n",
            "Epoch 13/100\n",
            "1875/1875 [==============================] - 5s 3ms/step - loss: 151.3789 - val_loss: 151.6796\n",
            "Epoch 14/100\n",
            "1875/1875 [==============================] - 5s 3ms/step - loss: 151.7836 - val_loss: 151.3262\n",
            "Epoch 15/100\n",
            "1875/1875 [==============================] - 5s 3ms/step - loss: 150.7720 - val_loss: 151.0675\n",
            "Epoch 16/100\n",
            "1875/1875 [==============================] - 5s 3ms/step - loss: 150.8599 - val_loss: 150.7865\n",
            "Epoch 17/100\n",
            "1875/1875 [==============================] - 5s 3ms/step - loss: 150.4593 - val_loss: 150.5440\n",
            "Epoch 18/100\n",
            "1875/1875 [==============================] - 5s 3ms/step - loss: 150.0104 - val_loss: 150.3638\n",
            "Epoch 19/100\n",
            "1875/1875 [==============================] - 5s 2ms/step - loss: 149.7453 - val_loss: 150.1793\n",
            "Epoch 20/100\n",
            "1875/1875 [==============================] - 5s 2ms/step - loss: 149.7166 - val_loss: 150.0193\n",
            "Epoch 21/100\n",
            "1875/1875 [==============================] - 5s 3ms/step - loss: 149.5751 - val_loss: 149.8968\n",
            "Epoch 22/100\n",
            "1875/1875 [==============================] - 5s 2ms/step - loss: 149.3706 - val_loss: 149.6025\n",
            "Epoch 23/100\n",
            "1875/1875 [==============================] - 4s 2ms/step - loss: 148.7515 - val_loss: 149.4413\n",
            "Epoch 24/100\n",
            "1875/1875 [==============================] - 5s 3ms/step - loss: 148.9519 - val_loss: 149.3186\n",
            "Epoch 25/100\n",
            "1875/1875 [==============================] - 5s 3ms/step - loss: 148.5315 - val_loss: 149.2813\n",
            "Epoch 26/100\n",
            "1875/1875 [==============================] - 5s 3ms/step - loss: 148.7404 - val_loss: 148.8454\n",
            "Epoch 27/100\n",
            "1875/1875 [==============================] - 5s 3ms/step - loss: 148.2249 - val_loss: 148.8078\n",
            "Epoch 28/100\n",
            "1875/1875 [==============================] - 5s 2ms/step - loss: 148.2401 - val_loss: 148.8593\n",
            "Epoch 29/100\n",
            "1875/1875 [==============================] - 5s 2ms/step - loss: 148.0415 - val_loss: 148.7503\n",
            "Epoch 30/100\n",
            "1875/1875 [==============================] - 5s 2ms/step - loss: 148.0050 - val_loss: 148.7116\n",
            "Epoch 31/100\n",
            "1875/1875 [==============================] - 5s 3ms/step - loss: 147.5940 - val_loss: 148.3797\n",
            "Epoch 32/100\n",
            "1875/1875 [==============================] - 5s 3ms/step - loss: 147.4324 - val_loss: 148.5615\n",
            "Epoch 33/100\n",
            "1875/1875 [==============================] - 5s 2ms/step - loss: 147.5012 - val_loss: 148.3651\n",
            "Epoch 34/100\n",
            "1875/1875 [==============================] - 5s 3ms/step - loss: 147.4196 - val_loss: 148.1966\n",
            "Epoch 35/100\n",
            "1875/1875 [==============================] - 4s 2ms/step - loss: 147.5066 - val_loss: 148.1808\n",
            "Epoch 36/100\n",
            "1875/1875 [==============================] - 5s 3ms/step - loss: 147.4971 - val_loss: 148.1629\n",
            "Epoch 37/100\n",
            "1875/1875 [==============================] - 5s 3ms/step - loss: 147.0634 - val_loss: 147.9904\n",
            "Epoch 38/100\n",
            "1875/1875 [==============================] - 5s 2ms/step - loss: 146.6638 - val_loss: 148.2980\n",
            "Epoch 39/100\n",
            "1875/1875 [==============================] - 5s 3ms/step - loss: 146.9880 - val_loss: 148.1250\n",
            "Epoch 40/100\n",
            "1875/1875 [==============================] - 5s 3ms/step - loss: 146.8104 - val_loss: 147.5924\n",
            "Epoch 41/100\n",
            "1875/1875 [==============================] - 5s 3ms/step - loss: 146.6655 - val_loss: 147.9249\n",
            "Epoch 42/100\n",
            "1875/1875 [==============================] - 5s 3ms/step - loss: 146.7525 - val_loss: 147.9434\n",
            "Epoch 43/100\n",
            "1875/1875 [==============================] - 5s 3ms/step - loss: 146.7132 - val_loss: 148.0981\n",
            "Epoch 44/100\n",
            "1875/1875 [==============================] - 5s 3ms/step - loss: 146.2513 - val_loss: 147.5814\n",
            "Epoch 45/100\n",
            "1875/1875 [==============================] - 5s 2ms/step - loss: 146.6257 - val_loss: 147.6164\n",
            "Epoch 46/100\n",
            "1875/1875 [==============================] - 5s 2ms/step - loss: 145.9417 - val_loss: 147.7930\n",
            "Epoch 47/100\n",
            "1875/1875 [==============================] - 5s 2ms/step - loss: 146.1390 - val_loss: 147.6114\n",
            "Epoch 48/100\n",
            "1875/1875 [==============================] - 5s 2ms/step - loss: 145.8342 - val_loss: 147.6479\n",
            "Epoch 49/100\n",
            "1875/1875 [==============================] - 5s 2ms/step - loss: 145.8940 - val_loss: 147.2719\n",
            "Epoch 50/100\n",
            "1875/1875 [==============================] - 5s 2ms/step - loss: 146.0634 - val_loss: 147.3526\n",
            "Epoch 51/100\n",
            "1875/1875 [==============================] - 5s 3ms/step - loss: 146.1009 - val_loss: 147.1546\n",
            "Epoch 52/100\n",
            "1875/1875 [==============================] - 5s 3ms/step - loss: 145.6385 - val_loss: 147.2910\n",
            "Epoch 53/100\n",
            "1875/1875 [==============================] - 5s 3ms/step - loss: 145.6273 - val_loss: 147.3786\n",
            "Epoch 54/100\n",
            "1875/1875 [==============================] - 5s 3ms/step - loss: 145.8931 - val_loss: 147.4200\n",
            "Epoch 55/100\n",
            "1875/1875 [==============================] - 5s 3ms/step - loss: 145.6003 - val_loss: 147.4309\n",
            "Epoch 56/100\n",
            "1875/1875 [==============================] - 5s 3ms/step - loss: 145.6139 - val_loss: 147.5006\n",
            "Epoch 57/100\n",
            "1875/1875 [==============================] - 5s 3ms/step - loss: 145.6284 - val_loss: 147.1529\n",
            "Epoch 58/100\n",
            "1875/1875 [==============================] - 5s 3ms/step - loss: 145.1702 - val_loss: 147.5930\n",
            "Epoch 59/100\n",
            "1875/1875 [==============================] - 5s 3ms/step - loss: 145.5140 - val_loss: 147.0549\n",
            "Epoch 60/100\n",
            "1875/1875 [==============================] - 5s 3ms/step - loss: 145.5667 - val_loss: 146.9237\n",
            "Epoch 61/100\n",
            "1875/1875 [==============================] - 5s 3ms/step - loss: 145.3255 - val_loss: 146.7067\n",
            "Epoch 62/100\n",
            "1875/1875 [==============================] - 5s 3ms/step - loss: 145.3849 - val_loss: 146.7365\n",
            "Epoch 63/100\n",
            "1875/1875 [==============================] - 5s 3ms/step - loss: 145.2597 - val_loss: 146.8915\n",
            "Epoch 64/100\n",
            "1875/1875 [==============================] - 5s 3ms/step - loss: 145.1867 - val_loss: 146.9044\n",
            "Epoch 65/100\n",
            "1875/1875 [==============================] - 5s 2ms/step - loss: 144.8695 - val_loss: 146.8631\n",
            "Epoch 66/100\n",
            "1875/1875 [==============================] - 5s 2ms/step - loss: 144.7016 - val_loss: 146.5680\n",
            "Epoch 67/100\n",
            "1875/1875 [==============================] - 5s 2ms/step - loss: 144.9365 - val_loss: 146.7616\n",
            "Epoch 68/100\n",
            "1875/1875 [==============================] - 5s 2ms/step - loss: 145.1054 - val_loss: 146.7722\n",
            "Epoch 69/100\n",
            "1875/1875 [==============================] - 5s 2ms/step - loss: 144.8892 - val_loss: 146.5319\n",
            "Epoch 70/100\n",
            "1875/1875 [==============================] - 5s 3ms/step - loss: 144.9372 - val_loss: 146.7694\n",
            "Epoch 71/100\n",
            "1875/1875 [==============================] - 5s 3ms/step - loss: 144.8455 - val_loss: 146.5829\n",
            "Epoch 72/100\n",
            "1875/1875 [==============================] - 5s 3ms/step - loss: 144.6176 - val_loss: 146.5261\n",
            "Epoch 73/100\n",
            "1875/1875 [==============================] - 5s 3ms/step - loss: 144.5542 - val_loss: 146.6851\n",
            "Epoch 74/100\n",
            "1875/1875 [==============================] - 5s 3ms/step - loss: 144.9308 - val_loss: 146.7899\n",
            "Epoch 75/100\n",
            "1875/1875 [==============================] - 5s 2ms/step - loss: 144.5499 - val_loss: 146.7840\n",
            "Epoch 76/100\n",
            "1875/1875 [==============================] - 5s 3ms/step - loss: 144.5021 - val_loss: 146.6158\n",
            "Epoch 77/100\n",
            "1875/1875 [==============================] - 5s 3ms/step - loss: 144.5465 - val_loss: 146.7354\n",
            "Epoch 78/100\n",
            "1875/1875 [==============================] - 5s 3ms/step - loss: 144.4220 - val_loss: 146.3556\n",
            "Epoch 79/100\n",
            "1875/1875 [==============================] - 5s 3ms/step - loss: 144.0823 - val_loss: 146.6758\n",
            "Epoch 80/100\n",
            "1875/1875 [==============================] - 5s 3ms/step - loss: 144.2937 - val_loss: 146.6975\n",
            "Epoch 81/100\n",
            "1875/1875 [==============================] - 5s 2ms/step - loss: 144.4346 - val_loss: 146.4688\n",
            "Epoch 82/100\n",
            "1875/1875 [==============================] - 5s 3ms/step - loss: 144.2823 - val_loss: 146.6211\n",
            "Epoch 83/100\n",
            "1875/1875 [==============================] - 5s 3ms/step - loss: 144.1319 - val_loss: 146.5530\n",
            "Epoch 84/100\n",
            "1875/1875 [==============================] - 5s 2ms/step - loss: 144.5185 - val_loss: 146.8753\n",
            "Epoch 85/100\n",
            "1875/1875 [==============================] - 5s 3ms/step - loss: 144.1503 - val_loss: 146.4705\n",
            "Epoch 86/100\n",
            "1875/1875 [==============================] - 5s 3ms/step - loss: 144.2992 - val_loss: 146.3504\n",
            "Epoch 87/100\n",
            "1875/1875 [==============================] - 5s 3ms/step - loss: 144.2581 - val_loss: 146.4554\n",
            "Epoch 88/100\n",
            "1875/1875 [==============================] - 5s 2ms/step - loss: 144.1464 - val_loss: 146.4791\n",
            "Epoch 89/100\n",
            "1875/1875 [==============================] - 5s 3ms/step - loss: 144.3937 - val_loss: 146.5188\n",
            "Epoch 90/100\n",
            "1875/1875 [==============================] - 5s 3ms/step - loss: 144.2714 - val_loss: 146.4113\n",
            "Epoch 91/100\n",
            "1875/1875 [==============================] - 5s 2ms/step - loss: 144.3441 - val_loss: 146.5964\n",
            "Epoch 92/100\n",
            "1875/1875 [==============================] - 5s 3ms/step - loss: 143.9793 - val_loss: 146.2105\n",
            "Epoch 93/100\n",
            "1875/1875 [==============================] - 5s 2ms/step - loss: 144.1136 - val_loss: 146.5405\n",
            "Epoch 94/100\n",
            "1875/1875 [==============================] - 5s 3ms/step - loss: 144.2530 - val_loss: 146.3687\n",
            "Epoch 95/100\n",
            "1875/1875 [==============================] - 5s 3ms/step - loss: 144.0837 - val_loss: 146.4178\n",
            "Epoch 96/100\n",
            "1875/1875 [==============================] - 5s 2ms/step - loss: 144.5866 - val_loss: 146.4421\n",
            "Epoch 97/100\n",
            "1875/1875 [==============================] - 5s 3ms/step - loss: 143.9532 - val_loss: 145.9800\n",
            "Epoch 98/100\n",
            "1875/1875 [==============================] - 5s 3ms/step - loss: 143.9480 - val_loss: 146.2529\n",
            "Epoch 99/100\n",
            "1875/1875 [==============================] - 5s 3ms/step - loss: 143.8526 - val_loss: 146.2197\n",
            "Epoch 100/100\n",
            "1875/1875 [==============================] - 5s 2ms/step - loss: 143.9379 - val_loss: 146.3962\n"
          ],
          "name": "stdout"
        },
        {
          "output_type": "execute_result",
          "data": {
            "text/plain": [
              "<tensorflow.python.keras.callbacks.History at 0x7ff350a41810>"
            ]
          },
          "metadata": {
            "tags": []
          },
          "execution_count": 26
        }
      ]
    },
    {
      "cell_type": "code",
      "metadata": {
        "colab": {
          "base_uri": "https://localhost:8080/",
          "height": 378
        },
        "id": "e7CxmEXlp_m-",
        "outputId": "668749ce-070f-46a6-deec-f7b5d75e4a9a"
      },
      "source": [
        "from keras.utils import to_categorical\r\n",
        "\r\n",
        "x_test_encoded = encoder.predict(x_test, batch_size=32)\r\n",
        "plt.figure(figsize=(6, 6))\r\n",
        "plt.scatter(x_test_encoded[0][:, 0], x_test_encoded[0][:, 1], c=y_test, cmap='hsv')\r\n",
        "plt.colorbar()\r\n",
        "plt.show()"
      ],
      "execution_count": 52,
      "outputs": [
        {
          "output_type": "display_data",
          "data": {
            "image/png": "[encoded data removed]",
            "text/plain": [
              "<Figure size 432x432 with 2 Axes>"
            ]
          },
          "metadata": {
            "tags": [],
            "needs_background": "light"
          }
        }
      ]
    },
    {
      "cell_type": "code",
      "metadata": {
        "id": "Ev5_2kwAuPAw"
      },
      "source": [
        ""
      ],
      "execution_count": null,
      "outputs": []
    }
  ]
}