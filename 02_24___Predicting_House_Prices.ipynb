{
  "nbformat": 4,
  "nbformat_minor": 0,
  "metadata": {
    "colab": {
      "name": "02-24 ~ Predicting House Prices.ipynb",
      "provenance": [],
      "collapsed_sections": []
    },
    "kernelspec": {
      "name": "python3",
      "display_name": "Python 3"
    }
  },
  "cells": [
    {
      "cell_type": "code",
      "metadata": {
        "colab": {
          "base_uri": "https://localhost:8080/"
        },
        "id": "iAaNY0tTp4Vv",
        "outputId": "5f15d9c4-badf-4547-dff8-74075b6f7997"
      },
      "source": [
        "import pandas as pd\r\n",
        "\r\n",
        "from google.colab import drive\r\n",
        "drive.mount('/content/drive')\r\n",
        "\r\n",
        "\r\n",
        "df = pd.read_csv(\"/content/drive/MyDrive/SS Data/housepricedata.csv\")\r\n"
      ],
      "execution_count": 1,
      "outputs": [
        {
          "output_type": "stream",
          "text": [
            "Mounted at /content/drive\n"
          ],
          "name": "stdout"
        }
      ]
    },
    {
      "cell_type": "code",
      "metadata": {
        "colab": {
          "base_uri": "https://localhost:8080/",
          "height": 439
        },
        "id": "DpJx5tadq4--",
        "outputId": "e64da961-ac37-4515-f661-c57f602c0d4d"
      },
      "source": [
        "df"
      ],
      "execution_count": 2,
      "outputs": [
        {
          "output_type": "execute_result",
          "data": {
            "text/html": [
              "<div>\n",
              "<style scoped>\n",
              "    .dataframe tbody tr th:only-of-type {\n",
              "        vertical-align: middle;\n",
              "    }\n",
              "\n",
              "    .dataframe tbody tr th {\n",
              "        vertical-align: top;\n",
              "    }\n",
              "\n",
              "    .dataframe thead th {\n",
              "        text-align: right;\n",
              "    }\n",
              "</style>\n",
              "<table border=\"1\" class=\"dataframe\">\n",
              "  <thead>\n",
              "    <tr style=\"text-align: right;\">\n",
              "      <th></th>\n",
              "      <th>LotArea</th>\n",
              "      <th>OverallQual</th>\n",
              "      <th>OverallCond</th>\n",
              "      <th>TotalBsmtSF</th>\n",
              "      <th>FullBath</th>\n",
              "      <th>HalfBath</th>\n",
              "      <th>BedroomAbvGr</th>\n",
              "      <th>TotRmsAbvGrd</th>\n",
              "      <th>Fireplaces</th>\n",
              "      <th>GarageArea</th>\n",
              "      <th>AboveMedianPrice</th>\n",
              "    </tr>\n",
              "  </thead>\n",
              "  <tbody>\n",
              "    <tr>\n",
              "      <th>0</th>\n",
              "      <td>8450</td>\n",
              "      <td>7</td>\n",
              "      <td>5</td>\n",
              "      <td>856</td>\n",
              "      <td>2</td>\n",
              "      <td>1</td>\n",
              "      <td>3</td>\n",
              "      <td>8</td>\n",
              "      <td>0</td>\n",
              "      <td>548</td>\n",
              "      <td>1</td>\n",
              "    </tr>\n",
              "    <tr>\n",
              "      <th>1</th>\n",
              "      <td>9600</td>\n",
              "      <td>6</td>\n",
              "      <td>8</td>\n",
              "      <td>1262</td>\n",
              "      <td>2</td>\n",
              "      <td>0</td>\n",
              "      <td>3</td>\n",
              "      <td>6</td>\n",
              "      <td>1</td>\n",
              "      <td>460</td>\n",
              "      <td>1</td>\n",
              "    </tr>\n",
              "    <tr>\n",
              "      <th>2</th>\n",
              "      <td>11250</td>\n",
              "      <td>7</td>\n",
              "      <td>5</td>\n",
              "      <td>920</td>\n",
              "      <td>2</td>\n",
              "      <td>1</td>\n",
              "      <td>3</td>\n",
              "      <td>6</td>\n",
              "      <td>1</td>\n",
              "      <td>608</td>\n",
              "      <td>1</td>\n",
              "    </tr>\n",
              "    <tr>\n",
              "      <th>3</th>\n",
              "      <td>9550</td>\n",
              "      <td>7</td>\n",
              "      <td>5</td>\n",
              "      <td>756</td>\n",
              "      <td>1</td>\n",
              "      <td>0</td>\n",
              "      <td>3</td>\n",
              "      <td>7</td>\n",
              "      <td>1</td>\n",
              "      <td>642</td>\n",
              "      <td>0</td>\n",
              "    </tr>\n",
              "    <tr>\n",
              "      <th>4</th>\n",
              "      <td>14260</td>\n",
              "      <td>8</td>\n",
              "      <td>5</td>\n",
              "      <td>1145</td>\n",
              "      <td>2</td>\n",
              "      <td>1</td>\n",
              "      <td>4</td>\n",
              "      <td>9</td>\n",
              "      <td>1</td>\n",
              "      <td>836</td>\n",
              "      <td>1</td>\n",
              "    </tr>\n",
              "    <tr>\n",
              "      <th>...</th>\n",
              "      <td>...</td>\n",
              "      <td>...</td>\n",
              "      <td>...</td>\n",
              "      <td>...</td>\n",
              "      <td>...</td>\n",
              "      <td>...</td>\n",
              "      <td>...</td>\n",
              "      <td>...</td>\n",
              "      <td>...</td>\n",
              "      <td>...</td>\n",
              "      <td>...</td>\n",
              "    </tr>\n",
              "    <tr>\n",
              "      <th>1455</th>\n",
              "      <td>7917</td>\n",
              "      <td>6</td>\n",
              "      <td>5</td>\n",
              "      <td>953</td>\n",
              "      <td>2</td>\n",
              "      <td>1</td>\n",
              "      <td>3</td>\n",
              "      <td>7</td>\n",
              "      <td>1</td>\n",
              "      <td>460</td>\n",
              "      <td>1</td>\n",
              "    </tr>\n",
              "    <tr>\n",
              "      <th>1456</th>\n",
              "      <td>13175</td>\n",
              "      <td>6</td>\n",
              "      <td>6</td>\n",
              "      <td>1542</td>\n",
              "      <td>2</td>\n",
              "      <td>0</td>\n",
              "      <td>3</td>\n",
              "      <td>7</td>\n",
              "      <td>2</td>\n",
              "      <td>500</td>\n",
              "      <td>1</td>\n",
              "    </tr>\n",
              "    <tr>\n",
              "      <th>1457</th>\n",
              "      <td>9042</td>\n",
              "      <td>7</td>\n",
              "      <td>9</td>\n",
              "      <td>1152</td>\n",
              "      <td>2</td>\n",
              "      <td>0</td>\n",
              "      <td>4</td>\n",
              "      <td>9</td>\n",
              "      <td>2</td>\n",
              "      <td>252</td>\n",
              "      <td>1</td>\n",
              "    </tr>\n",
              "    <tr>\n",
              "      <th>1458</th>\n",
              "      <td>9717</td>\n",
              "      <td>5</td>\n",
              "      <td>6</td>\n",
              "      <td>1078</td>\n",
              "      <td>1</td>\n",
              "      <td>0</td>\n",
              "      <td>2</td>\n",
              "      <td>5</td>\n",
              "      <td>0</td>\n",
              "      <td>240</td>\n",
              "      <td>0</td>\n",
              "    </tr>\n",
              "    <tr>\n",
              "      <th>1459</th>\n",
              "      <td>9937</td>\n",
              "      <td>5</td>\n",
              "      <td>6</td>\n",
              "      <td>1256</td>\n",
              "      <td>1</td>\n",
              "      <td>1</td>\n",
              "      <td>3</td>\n",
              "      <td>6</td>\n",
              "      <td>0</td>\n",
              "      <td>276</td>\n",
              "      <td>0</td>\n",
              "    </tr>\n",
              "  </tbody>\n",
              "</table>\n",
              "<p>1460 rows × 11 columns</p>\n",
              "</div>"
            ],
            "text/plain": [
              "      LotArea  OverallQual  ...  GarageArea  AboveMedianPrice\n",
              "0        8450            7  ...         548                 1\n",
              "1        9600            6  ...         460                 1\n",
              "2       11250            7  ...         608                 1\n",
              "3        9550            7  ...         642                 0\n",
              "4       14260            8  ...         836                 1\n",
              "...       ...          ...  ...         ...               ...\n",
              "1455     7917            6  ...         460                 1\n",
              "1456    13175            6  ...         500                 1\n",
              "1457     9042            7  ...         252                 1\n",
              "1458     9717            5  ...         240                 0\n",
              "1459     9937            5  ...         276                 0\n",
              "\n",
              "[1460 rows x 11 columns]"
            ]
          },
          "metadata": {
            "tags": []
          },
          "execution_count": 2
        }
      ]
    },
    {
      "cell_type": "code",
      "metadata": {
        "colab": {
          "base_uri": "https://localhost:8080/"
        },
        "id": "2gUxVmFwrBE3",
        "outputId": "dfeda877-7d6d-4e4c-df13-26b5f97b6851"
      },
      "source": [
        "dataset = df.values\r\n",
        "\r\n",
        "dataset"
      ],
      "execution_count": 4,
      "outputs": [
        {
          "output_type": "execute_result",
          "data": {
            "text/plain": [
              "array([[ 8450,     7,     5, ...,     0,   548,     1],\n",
              "       [ 9600,     6,     8, ...,     1,   460,     1],\n",
              "       [11250,     7,     5, ...,     1,   608,     1],\n",
              "       ...,\n",
              "       [ 9042,     7,     9, ...,     2,   252,     1],\n",
              "       [ 9717,     5,     6, ...,     0,   240,     0],\n",
              "       [ 9937,     5,     6, ...,     0,   276,     0]])"
            ]
          },
          "metadata": {
            "tags": []
          },
          "execution_count": 4
        }
      ]
    },
    {
      "cell_type": "code",
      "metadata": {
        "id": "1dn-rwdIrKVs"
      },
      "source": [
        "X = dataset[:,0:10]\r\n",
        "Y = dataset[:,10]"
      ],
      "execution_count": 6,
      "outputs": []
    },
    {
      "cell_type": "code",
      "metadata": {
        "colab": {
          "base_uri": "https://localhost:8080/"
        },
        "id": "aES6l0uvrViw",
        "outputId": "c7b19ec7-b391-4ada-868a-8b6ac13b8f21"
      },
      "source": [
        "from sklearn import preprocessing\r\n",
        "\r\n",
        "min_max_scaler = preprocessing.MinMaxScaler()\r\n",
        "X_scale = min_max_scaler.fit_transform(X)\r\n",
        "\r\n",
        "X_scale"
      ],
      "execution_count": 9,
      "outputs": [
        {
          "output_type": "execute_result",
          "data": {
            "text/plain": [
              "array([[0.0334198 , 0.66666667, 0.5       , ..., 0.5       , 0.        ,\n",
              "        0.3864598 ],\n",
              "       [0.03879502, 0.55555556, 0.875     , ..., 0.33333333, 0.33333333,\n",
              "        0.32440056],\n",
              "       [0.04650728, 0.66666667, 0.5       , ..., 0.33333333, 0.33333333,\n",
              "        0.42877292],\n",
              "       ...,\n",
              "       [0.03618687, 0.66666667, 1.        , ..., 0.58333333, 0.66666667,\n",
              "        0.17771509],\n",
              "       [0.03934189, 0.44444444, 0.625     , ..., 0.25      , 0.        ,\n",
              "        0.16925247],\n",
              "       [0.04037019, 0.44444444, 0.625     , ..., 0.33333333, 0.        ,\n",
              "        0.19464034]])"
            ]
          },
          "metadata": {
            "tags": []
          },
          "execution_count": 9
        }
      ]
    },
    {
      "cell_type": "code",
      "metadata": {
        "colab": {
          "base_uri": "https://localhost:8080/"
        },
        "id": "MlMXSrH_rpKK",
        "outputId": "2e7239ad-621c-43ed-c2a2-e9c674ae5a45"
      },
      "source": [
        "from sklearn.model_selection import train_test_split\r\n",
        "\r\n",
        "X_train, X_val_and_test, Y_train, Y_val_and_test = train_test_split(X_scale, Y, test_size=0.3)\r\n",
        "X_val, X_test, Y_val, Y_test = train_test_split(X_val_and_test, Y_val_and_test, test_size=0.5)\r\n",
        "\r\n",
        "print(X_train.shape, X_val.shape, X_test.shape, Y_train.shape, Y_val.shape, Y_test.shape)\r\n"
      ],
      "execution_count": 13,
      "outputs": [
        {
          "output_type": "stream",
          "text": [
            "(1022, 10) (219, 10) (219, 10) (1022,) (219,) (219,)\n"
          ],
          "name": "stdout"
        }
      ]
    },
    {
      "cell_type": "code",
      "metadata": {
        "id": "--rIdRhrsCz9"
      },
      "source": [
        "from keras.models import Sequential\r\n",
        "from keras.layers import Dense"
      ],
      "execution_count": 14,
      "outputs": []
    },
    {
      "cell_type": "code",
      "metadata": {
        "id": "t6oXRbgTs37n"
      },
      "source": [
        "model = Sequential([\r\n",
        "    Dense(32, activation='relu', input_shape=(10,)),\r\n",
        "    Dense(32, activation='relu'),\r\n",
        "    Dense(1, activation='sigmoid'),\r\n",
        "])"
      ],
      "execution_count": 24,
      "outputs": []
    },
    {
      "cell_type": "code",
      "metadata": {
        "id": "c2Y3MasXs9rq"
      },
      "source": [
        "model.compile(optimizer='sgd',\r\n",
        "              loss='binary_crossentropy',\r\n",
        "              metrics=['accuracy'])"
      ],
      "execution_count": 25,
      "outputs": []
    },
    {
      "cell_type": "code",
      "metadata": {
        "colab": {
          "base_uri": "https://localhost:8080/"
        },
        "id": "E-LSlXuLtMkO",
        "outputId": "27d185d1-8e5f-4b33-8602-094124b3b076"
      },
      "source": [
        "hist = model.fit(X_train, Y_train,\r\n",
        "          batch_size=32, epochs=100,\r\n",
        "          validation_data=(X_val, Y_val))"
      ],
      "execution_count": 26,
      "outputs": [
        {
          "output_type": "stream",
          "text": [
            "Epoch 1/100\n",
            "32/32 [==============================] - 1s 6ms/step - loss: 0.7083 - accuracy: 0.3191 - val_loss: 0.7045 - val_accuracy: 0.3516\n",
            "Epoch 2/100\n",
            "32/32 [==============================] - 0s 3ms/step - loss: 0.7011 - accuracy: 0.3779 - val_loss: 0.6973 - val_accuracy: 0.4566\n",
            "Epoch 3/100\n",
            "32/32 [==============================] - 0s 2ms/step - loss: 0.6938 - accuracy: 0.5353 - val_loss: 0.6903 - val_accuracy: 0.5160\n",
            "Epoch 4/100\n",
            "32/32 [==============================] - 0s 2ms/step - loss: 0.6894 - accuracy: 0.5104 - val_loss: 0.6837 - val_accuracy: 0.4977\n",
            "Epoch 5/100\n",
            "32/32 [==============================] - 0s 2ms/step - loss: 0.6836 - accuracy: 0.5069 - val_loss: 0.6785 - val_accuracy: 0.4977\n",
            "Epoch 6/100\n",
            "32/32 [==============================] - 0s 2ms/step - loss: 0.6729 - accuracy: 0.5565 - val_loss: 0.6736 - val_accuracy: 0.5023\n",
            "Epoch 7/100\n",
            "32/32 [==============================] - 0s 2ms/step - loss: 0.6720 - accuracy: 0.5273 - val_loss: 0.6690 - val_accuracy: 0.5160\n",
            "Epoch 8/100\n",
            "32/32 [==============================] - 0s 2ms/step - loss: 0.6708 - accuracy: 0.5318 - val_loss: 0.6644 - val_accuracy: 0.5525\n",
            "Epoch 9/100\n",
            "32/32 [==============================] - 0s 2ms/step - loss: 0.6655 - accuracy: 0.5561 - val_loss: 0.6599 - val_accuracy: 0.5890\n",
            "Epoch 10/100\n",
            "32/32 [==============================] - 0s 2ms/step - loss: 0.6596 - accuracy: 0.5998 - val_loss: 0.6556 - val_accuracy: 0.6438\n",
            "Epoch 11/100\n",
            "32/32 [==============================] - 0s 2ms/step - loss: 0.6572 - accuracy: 0.6314 - val_loss: 0.6512 - val_accuracy: 0.6941\n",
            "Epoch 12/100\n",
            "32/32 [==============================] - 0s 2ms/step - loss: 0.6518 - accuracy: 0.6524 - val_loss: 0.6468 - val_accuracy: 0.7260\n",
            "Epoch 13/100\n",
            "32/32 [==============================] - 0s 2ms/step - loss: 0.6488 - accuracy: 0.6940 - val_loss: 0.6421 - val_accuracy: 0.7534\n",
            "Epoch 14/100\n",
            "32/32 [==============================] - 0s 2ms/step - loss: 0.6460 - accuracy: 0.7014 - val_loss: 0.6372 - val_accuracy: 0.7671\n",
            "Epoch 15/100\n",
            "32/32 [==============================] - 0s 3ms/step - loss: 0.6407 - accuracy: 0.7301 - val_loss: 0.6318 - val_accuracy: 0.7945\n",
            "Epoch 16/100\n",
            "32/32 [==============================] - 0s 2ms/step - loss: 0.6314 - accuracy: 0.7519 - val_loss: 0.6260 - val_accuracy: 0.8174\n",
            "Epoch 17/100\n",
            "32/32 [==============================] - 0s 2ms/step - loss: 0.6297 - accuracy: 0.7737 - val_loss: 0.6198 - val_accuracy: 0.8265\n",
            "Epoch 18/100\n",
            "32/32 [==============================] - 0s 2ms/step - loss: 0.6226 - accuracy: 0.8047 - val_loss: 0.6133 - val_accuracy: 0.8356\n",
            "Epoch 19/100\n",
            "32/32 [==============================] - 0s 2ms/step - loss: 0.6182 - accuracy: 0.7927 - val_loss: 0.6062 - val_accuracy: 0.8447\n",
            "Epoch 20/100\n",
            "32/32 [==============================] - 0s 2ms/step - loss: 0.6146 - accuracy: 0.7947 - val_loss: 0.5986 - val_accuracy: 0.8447\n",
            "Epoch 21/100\n",
            "32/32 [==============================] - 0s 2ms/step - loss: 0.6070 - accuracy: 0.8288 - val_loss: 0.5910 - val_accuracy: 0.8493\n",
            "Epoch 22/100\n",
            "32/32 [==============================] - 0s 2ms/step - loss: 0.5992 - accuracy: 0.8381 - val_loss: 0.5832 - val_accuracy: 0.8493\n",
            "Epoch 23/100\n",
            "32/32 [==============================] - 0s 2ms/step - loss: 0.5940 - accuracy: 0.8351 - val_loss: 0.5752 - val_accuracy: 0.8584\n",
            "Epoch 24/100\n",
            "32/32 [==============================] - 0s 2ms/step - loss: 0.5854 - accuracy: 0.8340 - val_loss: 0.5668 - val_accuracy: 0.8676\n",
            "Epoch 25/100\n",
            "32/32 [==============================] - 0s 2ms/step - loss: 0.5794 - accuracy: 0.8422 - val_loss: 0.5582 - val_accuracy: 0.8721\n",
            "Epoch 26/100\n",
            "32/32 [==============================] - 0s 3ms/step - loss: 0.5706 - accuracy: 0.8375 - val_loss: 0.5494 - val_accuracy: 0.8721\n",
            "Epoch 27/100\n",
            "32/32 [==============================] - 0s 2ms/step - loss: 0.5651 - accuracy: 0.8507 - val_loss: 0.5402 - val_accuracy: 0.8767\n",
            "Epoch 28/100\n",
            "32/32 [==============================] - 0s 3ms/step - loss: 0.5510 - accuracy: 0.8414 - val_loss: 0.5308 - val_accuracy: 0.8767\n",
            "Epoch 29/100\n",
            "32/32 [==============================] - 0s 2ms/step - loss: 0.5427 - accuracy: 0.8681 - val_loss: 0.5212 - val_accuracy: 0.8767\n",
            "Epoch 30/100\n",
            "32/32 [==============================] - 0s 2ms/step - loss: 0.5369 - accuracy: 0.8748 - val_loss: 0.5114 - val_accuracy: 0.8721\n",
            "Epoch 31/100\n",
            "32/32 [==============================] - 0s 2ms/step - loss: 0.5228 - accuracy: 0.8733 - val_loss: 0.5014 - val_accuracy: 0.8721\n",
            "Epoch 32/100\n",
            "32/32 [==============================] - 0s 2ms/step - loss: 0.5134 - accuracy: 0.8648 - val_loss: 0.4912 - val_accuracy: 0.8721\n",
            "Epoch 33/100\n",
            "32/32 [==============================] - 0s 2ms/step - loss: 0.5081 - accuracy: 0.8632 - val_loss: 0.4810 - val_accuracy: 0.8721\n",
            "Epoch 34/100\n",
            "32/32 [==============================] - 0s 2ms/step - loss: 0.5046 - accuracy: 0.8644 - val_loss: 0.4709 - val_accuracy: 0.8721\n",
            "Epoch 35/100\n",
            "32/32 [==============================] - 0s 2ms/step - loss: 0.4857 - accuracy: 0.8756 - val_loss: 0.4611 - val_accuracy: 0.8721\n",
            "Epoch 36/100\n",
            "32/32 [==============================] - 0s 2ms/step - loss: 0.4839 - accuracy: 0.8561 - val_loss: 0.4514 - val_accuracy: 0.8721\n",
            "Epoch 37/100\n",
            "32/32 [==============================] - 0s 2ms/step - loss: 0.4701 - accuracy: 0.8608 - val_loss: 0.4420 - val_accuracy: 0.8721\n",
            "Epoch 38/100\n",
            "32/32 [==============================] - 0s 2ms/step - loss: 0.4555 - accuracy: 0.8748 - val_loss: 0.4329 - val_accuracy: 0.8767\n",
            "Epoch 39/100\n",
            "32/32 [==============================] - 0s 3ms/step - loss: 0.4508 - accuracy: 0.8778 - val_loss: 0.4238 - val_accuracy: 0.8767\n",
            "Epoch 40/100\n",
            "32/32 [==============================] - 0s 2ms/step - loss: 0.4460 - accuracy: 0.8822 - val_loss: 0.4153 - val_accuracy: 0.8767\n",
            "Epoch 41/100\n",
            "32/32 [==============================] - 0s 3ms/step - loss: 0.4410 - accuracy: 0.8618 - val_loss: 0.4074 - val_accuracy: 0.8676\n",
            "Epoch 42/100\n",
            "32/32 [==============================] - 0s 2ms/step - loss: 0.4234 - accuracy: 0.8735 - val_loss: 0.3993 - val_accuracy: 0.8721\n",
            "Epoch 43/100\n",
            "32/32 [==============================] - 0s 2ms/step - loss: 0.4270 - accuracy: 0.8650 - val_loss: 0.3914 - val_accuracy: 0.8767\n",
            "Epoch 44/100\n",
            "32/32 [==============================] - 0s 2ms/step - loss: 0.4142 - accuracy: 0.8682 - val_loss: 0.3841 - val_accuracy: 0.8767\n",
            "Epoch 45/100\n",
            "32/32 [==============================] - 0s 2ms/step - loss: 0.4008 - accuracy: 0.8794 - val_loss: 0.3773 - val_accuracy: 0.8813\n",
            "Epoch 46/100\n",
            "32/32 [==============================] - 0s 2ms/step - loss: 0.3945 - accuracy: 0.8778 - val_loss: 0.3714 - val_accuracy: 0.8676\n",
            "Epoch 47/100\n",
            "32/32 [==============================] - 0s 2ms/step - loss: 0.4007 - accuracy: 0.8706 - val_loss: 0.3650 - val_accuracy: 0.8721\n",
            "Epoch 48/100\n",
            "32/32 [==============================] - 0s 2ms/step - loss: 0.3713 - accuracy: 0.8814 - val_loss: 0.3589 - val_accuracy: 0.8767\n",
            "Epoch 49/100\n",
            "32/32 [==============================] - 0s 3ms/step - loss: 0.3900 - accuracy: 0.8584 - val_loss: 0.3534 - val_accuracy: 0.8813\n",
            "Epoch 50/100\n",
            "32/32 [==============================] - 0s 2ms/step - loss: 0.3870 - accuracy: 0.8656 - val_loss: 0.3488 - val_accuracy: 0.8813\n",
            "Epoch 51/100\n",
            "32/32 [==============================] - 0s 2ms/step - loss: 0.3757 - accuracy: 0.8796 - val_loss: 0.3433 - val_accuracy: 0.8858\n",
            "Epoch 52/100\n",
            "32/32 [==============================] - 0s 2ms/step - loss: 0.3496 - accuracy: 0.8859 - val_loss: 0.3402 - val_accuracy: 0.8813\n",
            "Epoch 53/100\n",
            "32/32 [==============================] - 0s 2ms/step - loss: 0.3635 - accuracy: 0.8674 - val_loss: 0.3344 - val_accuracy: 0.8813\n",
            "Epoch 54/100\n",
            "32/32 [==============================] - 0s 2ms/step - loss: 0.3519 - accuracy: 0.8771 - val_loss: 0.3300 - val_accuracy: 0.8813\n",
            "Epoch 55/100\n",
            "32/32 [==============================] - 0s 2ms/step - loss: 0.3705 - accuracy: 0.8654 - val_loss: 0.3261 - val_accuracy: 0.8813\n",
            "Epoch 56/100\n",
            "32/32 [==============================] - 0s 2ms/step - loss: 0.3508 - accuracy: 0.8804 - val_loss: 0.3238 - val_accuracy: 0.8767\n",
            "Epoch 57/100\n",
            "32/32 [==============================] - 0s 2ms/step - loss: 0.3487 - accuracy: 0.8702 - val_loss: 0.3199 - val_accuracy: 0.8767\n",
            "Epoch 58/100\n",
            "32/32 [==============================] - 0s 2ms/step - loss: 0.3479 - accuracy: 0.8678 - val_loss: 0.3158 - val_accuracy: 0.8858\n",
            "Epoch 59/100\n",
            "32/32 [==============================] - 0s 2ms/step - loss: 0.3451 - accuracy: 0.8757 - val_loss: 0.3128 - val_accuracy: 0.8858\n",
            "Epoch 60/100\n",
            "32/32 [==============================] - 0s 2ms/step - loss: 0.3406 - accuracy: 0.8830 - val_loss: 0.3101 - val_accuracy: 0.8813\n",
            "Epoch 61/100\n",
            "32/32 [==============================] - 0s 2ms/step - loss: 0.3378 - accuracy: 0.8797 - val_loss: 0.3073 - val_accuracy: 0.8858\n",
            "Epoch 62/100\n",
            "32/32 [==============================] - 0s 2ms/step - loss: 0.3274 - accuracy: 0.8838 - val_loss: 0.3058 - val_accuracy: 0.8813\n",
            "Epoch 63/100\n",
            "32/32 [==============================] - 0s 2ms/step - loss: 0.3282 - accuracy: 0.8748 - val_loss: 0.3024 - val_accuracy: 0.8858\n",
            "Epoch 64/100\n",
            "32/32 [==============================] - 0s 2ms/step - loss: 0.3219 - accuracy: 0.8867 - val_loss: 0.3003 - val_accuracy: 0.8858\n",
            "Epoch 65/100\n",
            "32/32 [==============================] - 0s 2ms/step - loss: 0.3463 - accuracy: 0.8591 - val_loss: 0.2980 - val_accuracy: 0.8858\n",
            "Epoch 66/100\n",
            "32/32 [==============================] - 0s 2ms/step - loss: 0.3254 - accuracy: 0.8705 - val_loss: 0.2968 - val_accuracy: 0.8813\n",
            "Epoch 67/100\n",
            "32/32 [==============================] - 0s 2ms/step - loss: 0.3284 - accuracy: 0.8623 - val_loss: 0.2943 - val_accuracy: 0.8858\n",
            "Epoch 68/100\n",
            "32/32 [==============================] - 0s 2ms/step - loss: 0.3402 - accuracy: 0.8531 - val_loss: 0.2926 - val_accuracy: 0.8858\n",
            "Epoch 69/100\n",
            "32/32 [==============================] - 0s 2ms/step - loss: 0.3118 - accuracy: 0.8783 - val_loss: 0.2906 - val_accuracy: 0.8858\n",
            "Epoch 70/100\n",
            "32/32 [==============================] - 0s 2ms/step - loss: 0.3456 - accuracy: 0.8584 - val_loss: 0.2895 - val_accuracy: 0.8858\n",
            "Epoch 71/100\n",
            "32/32 [==============================] - 0s 2ms/step - loss: 0.3156 - accuracy: 0.8720 - val_loss: 0.2874 - val_accuracy: 0.8858\n",
            "Epoch 72/100\n",
            "32/32 [==============================] - 0s 2ms/step - loss: 0.3093 - accuracy: 0.8784 - val_loss: 0.2858 - val_accuracy: 0.8858\n",
            "Epoch 73/100\n",
            "32/32 [==============================] - 0s 2ms/step - loss: 0.3137 - accuracy: 0.8789 - val_loss: 0.2844 - val_accuracy: 0.8858\n",
            "Epoch 74/100\n",
            "32/32 [==============================] - 0s 3ms/step - loss: 0.3030 - accuracy: 0.8736 - val_loss: 0.2849 - val_accuracy: 0.8858\n",
            "Epoch 75/100\n",
            "32/32 [==============================] - 0s 3ms/step - loss: 0.3175 - accuracy: 0.8716 - val_loss: 0.2819 - val_accuracy: 0.8858\n",
            "Epoch 76/100\n",
            "32/32 [==============================] - 0s 2ms/step - loss: 0.3106 - accuracy: 0.8772 - val_loss: 0.2804 - val_accuracy: 0.8858\n",
            "Epoch 77/100\n",
            "32/32 [==============================] - 0s 2ms/step - loss: 0.3041 - accuracy: 0.8749 - val_loss: 0.2793 - val_accuracy: 0.8858\n",
            "Epoch 78/100\n",
            "32/32 [==============================] - 0s 2ms/step - loss: 0.2907 - accuracy: 0.8844 - val_loss: 0.2781 - val_accuracy: 0.8904\n",
            "Epoch 79/100\n",
            "32/32 [==============================] - 0s 2ms/step - loss: 0.3524 - accuracy: 0.8324 - val_loss: 0.2772 - val_accuracy: 0.8904\n",
            "Epoch 80/100\n",
            "32/32 [==============================] - 0s 2ms/step - loss: 0.2975 - accuracy: 0.8825 - val_loss: 0.2761 - val_accuracy: 0.8904\n",
            "Epoch 81/100\n",
            "32/32 [==============================] - 0s 2ms/step - loss: 0.3033 - accuracy: 0.8716 - val_loss: 0.2751 - val_accuracy: 0.8813\n",
            "Epoch 82/100\n",
            "32/32 [==============================] - 0s 2ms/step - loss: 0.3049 - accuracy: 0.8749 - val_loss: 0.2737 - val_accuracy: 0.8904\n",
            "Epoch 83/100\n",
            "32/32 [==============================] - 0s 2ms/step - loss: 0.3194 - accuracy: 0.8697 - val_loss: 0.2730 - val_accuracy: 0.8858\n",
            "Epoch 84/100\n",
            "32/32 [==============================] - 0s 2ms/step - loss: 0.2874 - accuracy: 0.8875 - val_loss: 0.2727 - val_accuracy: 0.8904\n",
            "Epoch 85/100\n",
            "32/32 [==============================] - 0s 3ms/step - loss: 0.2978 - accuracy: 0.8714 - val_loss: 0.2713 - val_accuracy: 0.8813\n",
            "Epoch 86/100\n",
            "32/32 [==============================] - 0s 3ms/step - loss: 0.2890 - accuracy: 0.8721 - val_loss: 0.2705 - val_accuracy: 0.8813\n",
            "Epoch 87/100\n",
            "32/32 [==============================] - 0s 2ms/step - loss: 0.2924 - accuracy: 0.8813 - val_loss: 0.2696 - val_accuracy: 0.8950\n",
            "Epoch 88/100\n",
            "32/32 [==============================] - 0s 2ms/step - loss: 0.3250 - accuracy: 0.8560 - val_loss: 0.2683 - val_accuracy: 0.8904\n",
            "Epoch 89/100\n",
            "32/32 [==============================] - 0s 2ms/step - loss: 0.2826 - accuracy: 0.8884 - val_loss: 0.2691 - val_accuracy: 0.8950\n",
            "Epoch 90/100\n",
            "32/32 [==============================] - 0s 2ms/step - loss: 0.2983 - accuracy: 0.8823 - val_loss: 0.2671 - val_accuracy: 0.8858\n",
            "Epoch 91/100\n",
            "32/32 [==============================] - 0s 2ms/step - loss: 0.3002 - accuracy: 0.8714 - val_loss: 0.2660 - val_accuracy: 0.8813\n",
            "Epoch 92/100\n",
            "32/32 [==============================] - 0s 2ms/step - loss: 0.3045 - accuracy: 0.8769 - val_loss: 0.2652 - val_accuracy: 0.8858\n",
            "Epoch 93/100\n",
            "32/32 [==============================] - 0s 2ms/step - loss: 0.3040 - accuracy: 0.8627 - val_loss: 0.2644 - val_accuracy: 0.8858\n",
            "Epoch 94/100\n",
            "32/32 [==============================] - 0s 2ms/step - loss: 0.3049 - accuracy: 0.8669 - val_loss: 0.2637 - val_accuracy: 0.8813\n",
            "Epoch 95/100\n",
            "32/32 [==============================] - 0s 2ms/step - loss: 0.3040 - accuracy: 0.8659 - val_loss: 0.2629 - val_accuracy: 0.8813\n",
            "Epoch 96/100\n",
            "32/32 [==============================] - 0s 2ms/step - loss: 0.2978 - accuracy: 0.8780 - val_loss: 0.2623 - val_accuracy: 0.8858\n",
            "Epoch 97/100\n",
            "32/32 [==============================] - 0s 2ms/step - loss: 0.3110 - accuracy: 0.8644 - val_loss: 0.2618 - val_accuracy: 0.8950\n",
            "Epoch 98/100\n",
            "32/32 [==============================] - 0s 2ms/step - loss: 0.3156 - accuracy: 0.8689 - val_loss: 0.2615 - val_accuracy: 0.8950\n",
            "Epoch 99/100\n",
            "32/32 [==============================] - 0s 2ms/step - loss: 0.2960 - accuracy: 0.8773 - val_loss: 0.2602 - val_accuracy: 0.8858\n",
            "Epoch 100/100\n",
            "32/32 [==============================] - 0s 2ms/step - loss: 0.2912 - accuracy: 0.8844 - val_loss: 0.2596 - val_accuracy: 0.8950\n"
          ],
          "name": "stdout"
        }
      ]
    },
    {
      "cell_type": "code",
      "metadata": {
        "colab": {
          "base_uri": "https://localhost:8080/"
        },
        "id": "gV-8drQ5tShz",
        "outputId": "74afbdca-7adb-426f-95a4-55de0db61236"
      },
      "source": [
        "model.evaluate(X_test, Y_test)[1]"
      ],
      "execution_count": 27,
      "outputs": [
        {
          "output_type": "stream",
          "text": [
            "7/7 [==============================] - 0s 2ms/step - loss: 0.2695 - accuracy: 0.9087\n"
          ],
          "name": "stdout"
        },
        {
          "output_type": "execute_result",
          "data": {
            "text/plain": [
              "0.9086757898330688"
            ]
          },
          "metadata": {
            "tags": []
          },
          "execution_count": 27
        }
      ]
    },
    {
      "cell_type": "code",
      "metadata": {
        "id": "hcsx95iFuAO3"
      },
      "source": [
        "import matplotlib.pyplot as plt\r\n"
      ],
      "execution_count": 28,
      "outputs": []
    },
    {
      "cell_type": "code",
      "metadata": {
        "colab": {
          "base_uri": "https://localhost:8080/",
          "height": 295
        },
        "id": "4SgUqX5Put6e",
        "outputId": "0685be2a-6d39-4a2d-94a6-6e89b06a47f4"
      },
      "source": [
        "plt.plot(hist.history['loss'])\r\n",
        "plt.plot(hist.history['val_loss'])\r\n",
        "plt.title('Model loss')\r\n",
        "plt.ylabel('Loss')\r\n",
        "plt.xlabel('Epoch')\r\n",
        "plt.legend(['Train', 'Val'], loc='upper right')\r\n",
        "plt.show()"
      ],
      "execution_count": 29,
      "outputs": [
        {
          "output_type": "display_data",
          "data": {
            "image/png": "[encoded data removed]",
            "text/plain": [
              "<Figure size 432x288 with 1 Axes>"
            ]
          },
          "metadata": {
            "tags": [],
            "needs_background": "light"
          }
        }
      ]
    },
    {
      "cell_type": "code",
      "metadata": {
        "colab": {
          "base_uri": "https://localhost:8080/",
          "height": 295
        },
        "id": "5qvN_5T3uygt",
        "outputId": "51af71e2-da60-40df-93a4-04ceb70116a1"
      },
      "source": [
        "plt.plot(hist.history['accuracy'])\r\n",
        "plt.plot(hist.history['val_accuracy'])\r\n",
        "plt.title('Model accuracy')\r\n",
        "plt.ylabel('Accuracy')\r\n",
        "plt.xlabel('Epoch')\r\n",
        "plt.legend(['Train', 'Val'], loc='lower right')\r\n",
        "plt.show()"
      ],
      "execution_count": 32,
      "outputs": [
        {
          "output_type": "display_data",
          "data": {
            "image/png": "[encoded data removed]",
            "text/plain": [
              "<Figure size 432x288 with 1 Axes>"
            ]
          },
          "metadata": {
            "tags": [],
            "needs_background": "light"
          }
        }
      ]
    },
    {
      "cell_type": "code",
      "metadata": {
        "id": "Cg9t6Q5eu83R"
      },
      "source": [
        ""
      ],
      "execution_count": null,
      "outputs": []
    }
  ]
}