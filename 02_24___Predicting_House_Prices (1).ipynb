{
  "nbformat": 4,
  "nbformat_minor": 0,
  "metadata": {
    "colab": {
      "name": "02-24 ~ Predicting House Prices.ipynb",
      "provenance": [],
      "collapsed_sections": []
    },
    "kernelspec": {
      "name": "python3",
      "display_name": "Python 3"
    }
  },
  "cells": [
    {
      "cell_type": "code",
      "metadata": {
        "colab": {
          "base_uri": "https://localhost:8080/"
        },
        "id": "iAaNY0tTp4Vv",
        "outputId": "1a71432f-e122-41fd-b573-4b54b8a67296"
      },
      "source": [
        "import pandas as pd\r\n",
        "\r\n",
        "from google.colab import drive\r\n",
        "drive.mount('/content/drive')\r\n",
        "\r\n",
        "\r\n",
        "df = pd.read_csv(\"/content/drive/MyDrive/SS Data/housepricedata.csv\")\r\n"
      ],
      "execution_count": 75,
      "outputs": [
        {
          "output_type": "stream",
          "text": [
            "Drive already mounted at /content/drive; to attempt to forcibly remount, call drive.mount(\"/content/drive\", force_remount=True).\n"
          ],
          "name": "stdout"
        }
      ]
    },
    {
      "cell_type": "code",
      "metadata": {
        "colab": {
          "base_uri": "https://localhost:8080/",
          "height": 439
        },
        "id": "DpJx5tadq4--",
        "outputId": "ad5433e1-5a88-4bf9-91a3-99ea83872d9f"
      },
      "source": [
        "df"
      ],
      "execution_count": 76,
      "outputs": [
        {
          "output_type": "execute_result",
          "data": {
            "text/html": [
              "<div>\n",
              "<style scoped>\n",
              "    .dataframe tbody tr th:only-of-type {\n",
              "        vertical-align: middle;\n",
              "    }\n",
              "\n",
              "    .dataframe tbody tr th {\n",
              "        vertical-align: top;\n",
              "    }\n",
              "\n",
              "    .dataframe thead th {\n",
              "        text-align: right;\n",
              "    }\n",
              "</style>\n",
              "<table border=\"1\" class=\"dataframe\">\n",
              "  <thead>\n",
              "    <tr style=\"text-align: right;\">\n",
              "      <th></th>\n",
              "      <th>LotArea</th>\n",
              "      <th>OverallQual</th>\n",
              "      <th>OverallCond</th>\n",
              "      <th>TotalBsmtSF</th>\n",
              "      <th>FullBath</th>\n",
              "      <th>HalfBath</th>\n",
              "      <th>BedroomAbvGr</th>\n",
              "      <th>TotRmsAbvGrd</th>\n",
              "      <th>Fireplaces</th>\n",
              "      <th>GarageArea</th>\n",
              "      <th>AboveMedianPrice</th>\n",
              "    </tr>\n",
              "  </thead>\n",
              "  <tbody>\n",
              "    <tr>\n",
              "      <th>0</th>\n",
              "      <td>8450</td>\n",
              "      <td>7</td>\n",
              "      <td>5</td>\n",
              "      <td>856</td>\n",
              "      <td>2</td>\n",
              "      <td>1</td>\n",
              "      <td>3</td>\n",
              "      <td>8</td>\n",
              "      <td>0</td>\n",
              "      <td>548</td>\n",
              "      <td>1</td>\n",
              "    </tr>\n",
              "    <tr>\n",
              "      <th>1</th>\n",
              "      <td>9600</td>\n",
              "      <td>6</td>\n",
              "      <td>8</td>\n",
              "      <td>1262</td>\n",
              "      <td>2</td>\n",
              "      <td>0</td>\n",
              "      <td>3</td>\n",
              "      <td>6</td>\n",
              "      <td>1</td>\n",
              "      <td>460</td>\n",
              "      <td>1</td>\n",
              "    </tr>\n",
              "    <tr>\n",
              "      <th>2</th>\n",
              "      <td>11250</td>\n",
              "      <td>7</td>\n",
              "      <td>5</td>\n",
              "      <td>920</td>\n",
              "      <td>2</td>\n",
              "      <td>1</td>\n",
              "      <td>3</td>\n",
              "      <td>6</td>\n",
              "      <td>1</td>\n",
              "      <td>608</td>\n",
              "      <td>1</td>\n",
              "    </tr>\n",
              "    <tr>\n",
              "      <th>3</th>\n",
              "      <td>9550</td>\n",
              "      <td>7</td>\n",
              "      <td>5</td>\n",
              "      <td>756</td>\n",
              "      <td>1</td>\n",
              "      <td>0</td>\n",
              "      <td>3</td>\n",
              "      <td>7</td>\n",
              "      <td>1</td>\n",
              "      <td>642</td>\n",
              "      <td>0</td>\n",
              "    </tr>\n",
              "    <tr>\n",
              "      <th>4</th>\n",
              "      <td>14260</td>\n",
              "      <td>8</td>\n",
              "      <td>5</td>\n",
              "      <td>1145</td>\n",
              "      <td>2</td>\n",
              "      <td>1</td>\n",
              "      <td>4</td>\n",
              "      <td>9</td>\n",
              "      <td>1</td>\n",
              "      <td>836</td>\n",
              "      <td>1</td>\n",
              "    </tr>\n",
              "    <tr>\n",
              "      <th>...</th>\n",
              "      <td>...</td>\n",
              "      <td>...</td>\n",
              "      <td>...</td>\n",
              "      <td>...</td>\n",
              "      <td>...</td>\n",
              "      <td>...</td>\n",
              "      <td>...</td>\n",
              "      <td>...</td>\n",
              "      <td>...</td>\n",
              "      <td>...</td>\n",
              "      <td>...</td>\n",
              "    </tr>\n",
              "    <tr>\n",
              "      <th>1455</th>\n",
              "      <td>7917</td>\n",
              "      <td>6</td>\n",
              "      <td>5</td>\n",
              "      <td>953</td>\n",
              "      <td>2</td>\n",
              "      <td>1</td>\n",
              "      <td>3</td>\n",
              "      <td>7</td>\n",
              "      <td>1</td>\n",
              "      <td>460</td>\n",
              "      <td>1</td>\n",
              "    </tr>\n",
              "    <tr>\n",
              "      <th>1456</th>\n",
              "      <td>13175</td>\n",
              "      <td>6</td>\n",
              "      <td>6</td>\n",
              "      <td>1542</td>\n",
              "      <td>2</td>\n",
              "      <td>0</td>\n",
              "      <td>3</td>\n",
              "      <td>7</td>\n",
              "      <td>2</td>\n",
              "      <td>500</td>\n",
              "      <td>1</td>\n",
              "    </tr>\n",
              "    <tr>\n",
              "      <th>1457</th>\n",
              "      <td>9042</td>\n",
              "      <td>7</td>\n",
              "      <td>9</td>\n",
              "      <td>1152</td>\n",
              "      <td>2</td>\n",
              "      <td>0</td>\n",
              "      <td>4</td>\n",
              "      <td>9</td>\n",
              "      <td>2</td>\n",
              "      <td>252</td>\n",
              "      <td>1</td>\n",
              "    </tr>\n",
              "    <tr>\n",
              "      <th>1458</th>\n",
              "      <td>9717</td>\n",
              "      <td>5</td>\n",
              "      <td>6</td>\n",
              "      <td>1078</td>\n",
              "      <td>1</td>\n",
              "      <td>0</td>\n",
              "      <td>2</td>\n",
              "      <td>5</td>\n",
              "      <td>0</td>\n",
              "      <td>240</td>\n",
              "      <td>0</td>\n",
              "    </tr>\n",
              "    <tr>\n",
              "      <th>1459</th>\n",
              "      <td>9937</td>\n",
              "      <td>5</td>\n",
              "      <td>6</td>\n",
              "      <td>1256</td>\n",
              "      <td>1</td>\n",
              "      <td>1</td>\n",
              "      <td>3</td>\n",
              "      <td>6</td>\n",
              "      <td>0</td>\n",
              "      <td>276</td>\n",
              "      <td>0</td>\n",
              "    </tr>\n",
              "  </tbody>\n",
              "</table>\n",
              "<p>1460 rows × 11 columns</p>\n",
              "</div>"
            ],
            "text/plain": [
              "      LotArea  OverallQual  ...  GarageArea  AboveMedianPrice\n",
              "0        8450            7  ...         548                 1\n",
              "1        9600            6  ...         460                 1\n",
              "2       11250            7  ...         608                 1\n",
              "3        9550            7  ...         642                 0\n",
              "4       14260            8  ...         836                 1\n",
              "...       ...          ...  ...         ...               ...\n",
              "1455     7917            6  ...         460                 1\n",
              "1456    13175            6  ...         500                 1\n",
              "1457     9042            7  ...         252                 1\n",
              "1458     9717            5  ...         240                 0\n",
              "1459     9937            5  ...         276                 0\n",
              "\n",
              "[1460 rows x 11 columns]"
            ]
          },
          "metadata": {
            "tags": []
          },
          "execution_count": 76
        }
      ]
    },
    {
      "cell_type": "code",
      "metadata": {
        "colab": {
          "base_uri": "https://localhost:8080/"
        },
        "id": "2gUxVmFwrBE3",
        "outputId": "3ffcdfe5-b36f-4702-e96f-a84d5f9da049"
      },
      "source": [
        "dataset = df.values\r\n",
        "\r\n",
        "dataset"
      ],
      "execution_count": 77,
      "outputs": [
        {
          "output_type": "execute_result",
          "data": {
            "text/plain": [
              "array([[ 8450,     7,     5, ...,     0,   548,     1],\n",
              "       [ 9600,     6,     8, ...,     1,   460,     1],\n",
              "       [11250,     7,     5, ...,     1,   608,     1],\n",
              "       ...,\n",
              "       [ 9042,     7,     9, ...,     2,   252,     1],\n",
              "       [ 9717,     5,     6, ...,     0,   240,     0],\n",
              "       [ 9937,     5,     6, ...,     0,   276,     0]])"
            ]
          },
          "metadata": {
            "tags": []
          },
          "execution_count": 77
        }
      ]
    },
    {
      "cell_type": "code",
      "metadata": {
        "id": "1dn-rwdIrKVs"
      },
      "source": [
        "X = dataset[:,0:10]\r\n",
        "Y = dataset[:,10]"
      ],
      "execution_count": 78,
      "outputs": []
    },
    {
      "cell_type": "code",
      "metadata": {
        "colab": {
          "base_uri": "https://localhost:8080/"
        },
        "id": "aES6l0uvrViw",
        "outputId": "e448c876-1e6c-4f3f-b1e6-f1a5f8f13e49"
      },
      "source": [
        "from sklearn import preprocessing\r\n",
        "\r\n",
        "min_max_scaler = preprocessing.MinMaxScaler()\r\n",
        "X_scale = min_max_scaler.fit_transform(X)\r\n",
        "\r\n",
        "X_scale"
      ],
      "execution_count": 79,
      "outputs": [
        {
          "output_type": "execute_result",
          "data": {
            "text/plain": [
              "array([[0.0334198 , 0.66666667, 0.5       , ..., 0.5       , 0.        ,\n",
              "        0.3864598 ],\n",
              "       [0.03879502, 0.55555556, 0.875     , ..., 0.33333333, 0.33333333,\n",
              "        0.32440056],\n",
              "       [0.04650728, 0.66666667, 0.5       , ..., 0.33333333, 0.33333333,\n",
              "        0.42877292],\n",
              "       ...,\n",
              "       [0.03618687, 0.66666667, 1.        , ..., 0.58333333, 0.66666667,\n",
              "        0.17771509],\n",
              "       [0.03934189, 0.44444444, 0.625     , ..., 0.25      , 0.        ,\n",
              "        0.16925247],\n",
              "       [0.04037019, 0.44444444, 0.625     , ..., 0.33333333, 0.        ,\n",
              "        0.19464034]])"
            ]
          },
          "metadata": {
            "tags": []
          },
          "execution_count": 79
        }
      ]
    },
    {
      "cell_type": "code",
      "metadata": {
        "colab": {
          "base_uri": "https://localhost:8080/"
        },
        "id": "MlMXSrH_rpKK",
        "outputId": "a2541cd5-3184-4e10-9fd0-48ebcc1067bd"
      },
      "source": [
        "from sklearn.model_selection import train_test_split\r\n",
        "\r\n",
        "X_train, X_val_and_test, Y_train, Y_val_and_test = train_test_split(X_scale, Y, test_size=0.3)\r\n",
        "X_val, X_test, Y_val, Y_test = train_test_split(X_val_and_test, Y_val_and_test, test_size=0.5)\r\n",
        "\r\n",
        "print(X_train.shape, X_val.shape, X_test.shape, Y_train.shape, Y_val.shape, Y_test.shape)\r\n"
      ],
      "execution_count": 80,
      "outputs": [
        {
          "output_type": "stream",
          "text": [
            "(1022, 10) (219, 10) (219, 10) (1022,) (219,) (219,)\n"
          ],
          "name": "stdout"
        }
      ]
    },
    {
      "cell_type": "code",
      "metadata": {
        "id": "--rIdRhrsCz9"
      },
      "source": [
        "from keras.models import Sequential\r\n",
        "from keras.layers import Dense\r\n",
        "#from keras.metrics import MeanSquaredError"
      ],
      "execution_count": 104,
      "outputs": []
    },
    {
      "cell_type": "code",
      "metadata": {
        "id": "t6oXRbgTs37n"
      },
      "source": [
        "model = Sequential([\r\n",
        "    Dense(32, activation='relu', input_shape=(10,)),\r\n",
        "    Dense(32, activation='relu'),\r\n",
        "    Dense(1, activation='sigmoid'),\r\n",
        "])"
      ],
      "execution_count": 105,
      "outputs": []
    },
    {
      "cell_type": "code",
      "metadata": {
        "id": "c2Y3MasXs9rq"
      },
      "source": [
        "model.compile(optimizer='sgd',\r\n",
        "              loss='binary_crossentropy',\r\n",
        "              metrics=['mse'])"
      ],
      "execution_count": 106,
      "outputs": []
    },
    {
      "cell_type": "code",
      "metadata": {
        "colab": {
          "base_uri": "https://localhost:8080/"
        },
        "id": "E-LSlXuLtMkO",
        "outputId": "46367f36-74a6-435b-fbb6-e7f8d55fafae"
      },
      "source": [
        "hist = model.fit(X_train, Y_train,\r\n",
        "          batch_size=32, epochs=100,\r\n",
        "          validation_data=(X_val, Y_val))"
      ],
      "execution_count": 107,
      "outputs": [
        {
          "output_type": "stream",
          "text": [
            "Epoch 1/100\n",
            "32/32 [==============================] - 1s 7ms/step - loss: 0.6854 - mse: 0.2463 - val_loss: 0.6777 - val_mse: 0.2424\n",
            "Epoch 2/100\n",
            "32/32 [==============================] - 0s 2ms/step - loss: 0.6844 - mse: 0.2457 - val_loss: 0.6749 - val_mse: 0.2410\n",
            "Epoch 3/100\n",
            "32/32 [==============================] - 0s 2ms/step - loss: 0.6783 - mse: 0.2427 - val_loss: 0.6723 - val_mse: 0.2396\n",
            "Epoch 4/100\n",
            "32/32 [==============================] - 0s 3ms/step - loss: 0.6761 - mse: 0.2415 - val_loss: 0.6695 - val_mse: 0.2382\n",
            "Epoch 5/100\n",
            "32/32 [==============================] - 0s 2ms/step - loss: 0.6728 - mse: 0.2399 - val_loss: 0.6664 - val_mse: 0.2367\n",
            "Epoch 6/100\n",
            "32/32 [==============================] - 0s 2ms/step - loss: 0.6698 - mse: 0.2384 - val_loss: 0.6631 - val_mse: 0.2350\n",
            "Epoch 7/100\n",
            "32/32 [==============================] - 0s 2ms/step - loss: 0.6673 - mse: 0.2372 - val_loss: 0.6598 - val_mse: 0.2334\n",
            "Epoch 8/100\n",
            "32/32 [==============================] - 0s 2ms/step - loss: 0.6623 - mse: 0.2347 - val_loss: 0.6567 - val_mse: 0.2318\n",
            "Epoch 9/100\n",
            "32/32 [==============================] - 0s 2ms/step - loss: 0.6566 - mse: 0.2318 - val_loss: 0.6536 - val_mse: 0.2303\n",
            "Epoch 10/100\n",
            "32/32 [==============================] - 0s 2ms/step - loss: 0.6592 - mse: 0.2331 - val_loss: 0.6501 - val_mse: 0.2286\n",
            "Epoch 11/100\n",
            "32/32 [==============================] - 0s 2ms/step - loss: 0.6521 - mse: 0.2296 - val_loss: 0.6465 - val_mse: 0.2268\n",
            "Epoch 12/100\n",
            "32/32 [==============================] - 0s 2ms/step - loss: 0.6491 - mse: 0.2281 - val_loss: 0.6425 - val_mse: 0.2248\n",
            "Epoch 13/100\n",
            "32/32 [==============================] - 0s 2ms/step - loss: 0.6444 - mse: 0.2258 - val_loss: 0.6383 - val_mse: 0.2228\n",
            "Epoch 14/100\n",
            "32/32 [==============================] - 0s 2ms/step - loss: 0.6380 - mse: 0.2227 - val_loss: 0.6341 - val_mse: 0.2207\n",
            "Epoch 15/100\n",
            "32/32 [==============================] - 0s 2ms/step - loss: 0.6328 - mse: 0.2200 - val_loss: 0.6298 - val_mse: 0.2186\n",
            "Epoch 16/100\n",
            "32/32 [==============================] - 0s 2ms/step - loss: 0.6317 - mse: 0.2195 - val_loss: 0.6251 - val_mse: 0.2163\n",
            "Epoch 17/100\n",
            "32/32 [==============================] - 0s 2ms/step - loss: 0.6249 - mse: 0.2163 - val_loss: 0.6202 - val_mse: 0.2139\n",
            "Epoch 18/100\n",
            "32/32 [==============================] - 0s 2ms/step - loss: 0.6222 - mse: 0.2148 - val_loss: 0.6154 - val_mse: 0.2115\n",
            "Epoch 19/100\n",
            "32/32 [==============================] - 0s 2ms/step - loss: 0.6143 - mse: 0.2110 - val_loss: 0.6101 - val_mse: 0.2090\n",
            "Epoch 20/100\n",
            "32/32 [==============================] - 0s 2ms/step - loss: 0.6091 - mse: 0.2085 - val_loss: 0.6046 - val_mse: 0.2063\n",
            "Epoch 21/100\n",
            "32/32 [==============================] - 0s 2ms/step - loss: 0.6007 - mse: 0.2044 - val_loss: 0.5989 - val_mse: 0.2036\n",
            "Epoch 22/100\n",
            "32/32 [==============================] - 0s 2ms/step - loss: 0.5972 - mse: 0.2027 - val_loss: 0.5927 - val_mse: 0.2006\n",
            "Epoch 23/100\n",
            "32/32 [==============================] - 0s 2ms/step - loss: 0.5920 - mse: 0.2003 - val_loss: 0.5864 - val_mse: 0.1976\n",
            "Epoch 24/100\n",
            "32/32 [==============================] - 0s 2ms/step - loss: 0.5808 - mse: 0.1949 - val_loss: 0.5801 - val_mse: 0.1946\n",
            "Epoch 25/100\n",
            "32/32 [==============================] - 0s 2ms/step - loss: 0.5794 - mse: 0.1942 - val_loss: 0.5730 - val_mse: 0.1913\n",
            "Epoch 26/100\n",
            "32/32 [==============================] - 0s 2ms/step - loss: 0.5708 - mse: 0.1901 - val_loss: 0.5656 - val_mse: 0.1879\n",
            "Epoch 27/100\n",
            "32/32 [==============================] - 0s 2ms/step - loss: 0.5709 - mse: 0.1903 - val_loss: 0.5587 - val_mse: 0.1846\n",
            "Epoch 28/100\n",
            "32/32 [==============================] - 0s 2ms/step - loss: 0.5570 - mse: 0.1837 - val_loss: 0.5511 - val_mse: 0.1812\n",
            "Epoch 29/100\n",
            "32/32 [==============================] - 0s 2ms/step - loss: 0.5508 - mse: 0.1804 - val_loss: 0.5440 - val_mse: 0.1779\n",
            "Epoch 30/100\n",
            "32/32 [==============================] - 0s 2ms/step - loss: 0.5443 - mse: 0.1779 - val_loss: 0.5369 - val_mse: 0.1746\n",
            "Epoch 31/100\n",
            "32/32 [==============================] - 0s 2ms/step - loss: 0.5383 - mse: 0.1753 - val_loss: 0.5294 - val_mse: 0.1712\n",
            "Epoch 32/100\n",
            "32/32 [==============================] - 0s 2ms/step - loss: 0.5335 - mse: 0.1728 - val_loss: 0.5211 - val_mse: 0.1676\n",
            "Epoch 33/100\n",
            "32/32 [==============================] - 0s 2ms/step - loss: 0.5231 - mse: 0.1684 - val_loss: 0.5130 - val_mse: 0.1640\n",
            "Epoch 34/100\n",
            "32/32 [==============================] - 0s 2ms/step - loss: 0.5090 - mse: 0.1622 - val_loss: 0.5050 - val_mse: 0.1606\n",
            "Epoch 35/100\n",
            "32/32 [==============================] - 0s 2ms/step - loss: 0.5112 - mse: 0.1622 - val_loss: 0.4970 - val_mse: 0.1572\n",
            "Epoch 36/100\n",
            "32/32 [==============================] - 0s 2ms/step - loss: 0.4898 - mse: 0.1537 - val_loss: 0.4895 - val_mse: 0.1540\n",
            "Epoch 37/100\n",
            "32/32 [==============================] - 0s 3ms/step - loss: 0.4911 - mse: 0.1544 - val_loss: 0.4816 - val_mse: 0.1507\n",
            "Epoch 38/100\n",
            "32/32 [==============================] - 0s 3ms/step - loss: 0.4886 - mse: 0.1535 - val_loss: 0.4738 - val_mse: 0.1475\n",
            "Epoch 39/100\n",
            "32/32 [==============================] - 0s 2ms/step - loss: 0.4681 - mse: 0.1437 - val_loss: 0.4668 - val_mse: 0.1446\n",
            "Epoch 40/100\n",
            "32/32 [==============================] - 0s 2ms/step - loss: 0.4570 - mse: 0.1399 - val_loss: 0.4597 - val_mse: 0.1417\n",
            "Epoch 41/100\n",
            "32/32 [==============================] - 0s 2ms/step - loss: 0.4558 - mse: 0.1382 - val_loss: 0.4533 - val_mse: 0.1391\n",
            "Epoch 42/100\n",
            "32/32 [==============================] - 0s 2ms/step - loss: 0.4408 - mse: 0.1327 - val_loss: 0.4454 - val_mse: 0.1361\n",
            "Epoch 43/100\n",
            "32/32 [==============================] - 0s 2ms/step - loss: 0.4410 - mse: 0.1336 - val_loss: 0.4383 - val_mse: 0.1335\n",
            "Epoch 44/100\n",
            "32/32 [==============================] - 0s 2ms/step - loss: 0.4347 - mse: 0.1307 - val_loss: 0.4325 - val_mse: 0.1312\n",
            "Epoch 45/100\n",
            "32/32 [==============================] - 0s 2ms/step - loss: 0.4228 - mse: 0.1257 - val_loss: 0.4248 - val_mse: 0.1286\n",
            "Epoch 46/100\n",
            "32/32 [==============================] - 0s 2ms/step - loss: 0.4287 - mse: 0.1272 - val_loss: 0.4188 - val_mse: 0.1263\n",
            "Epoch 47/100\n",
            "32/32 [==============================] - 0s 2ms/step - loss: 0.4206 - mse: 0.1265 - val_loss: 0.4132 - val_mse: 0.1242\n",
            "Epoch 48/100\n",
            "32/32 [==============================] - 0s 2ms/step - loss: 0.4053 - mse: 0.1175 - val_loss: 0.4085 - val_mse: 0.1224\n",
            "Epoch 49/100\n",
            "32/32 [==============================] - 0s 2ms/step - loss: 0.4083 - mse: 0.1200 - val_loss: 0.4020 - val_mse: 0.1203\n",
            "Epoch 50/100\n",
            "32/32 [==============================] - 0s 3ms/step - loss: 0.3955 - mse: 0.1162 - val_loss: 0.3967 - val_mse: 0.1185\n",
            "Epoch 51/100\n",
            "32/32 [==============================] - 0s 2ms/step - loss: 0.3866 - mse: 0.1129 - val_loss: 0.3913 - val_mse: 0.1167\n",
            "Epoch 52/100\n",
            "32/32 [==============================] - 0s 2ms/step - loss: 0.3934 - mse: 0.1127 - val_loss: 0.3860 - val_mse: 0.1150\n",
            "Epoch 53/100\n",
            "32/32 [==============================] - 0s 2ms/step - loss: 0.4043 - mse: 0.1162 - val_loss: 0.3807 - val_mse: 0.1136\n",
            "Epoch 54/100\n",
            "32/32 [==============================] - 0s 2ms/step - loss: 0.3896 - mse: 0.1153 - val_loss: 0.3765 - val_mse: 0.1120\n",
            "Epoch 55/100\n",
            "32/32 [==============================] - 0s 3ms/step - loss: 0.3699 - mse: 0.1086 - val_loss: 0.3720 - val_mse: 0.1106\n",
            "Epoch 56/100\n",
            "32/32 [==============================] - 0s 3ms/step - loss: 0.3708 - mse: 0.1073 - val_loss: 0.3681 - val_mse: 0.1094\n",
            "Epoch 57/100\n",
            "32/32 [==============================] - 0s 2ms/step - loss: 0.3417 - mse: 0.0976 - val_loss: 0.3661 - val_mse: 0.1086\n",
            "Epoch 58/100\n",
            "32/32 [==============================] - 0s 3ms/step - loss: 0.3749 - mse: 0.1100 - val_loss: 0.3623 - val_mse: 0.1075\n",
            "Epoch 59/100\n",
            "32/32 [==============================] - 0s 2ms/step - loss: 0.3410 - mse: 0.0972 - val_loss: 0.3569 - val_mse: 0.1060\n",
            "Epoch 60/100\n",
            "32/32 [==============================] - 0s 2ms/step - loss: 0.3682 - mse: 0.1030 - val_loss: 0.3546 - val_mse: 0.1053\n",
            "Epoch 61/100\n",
            "32/32 [==============================] - 0s 2ms/step - loss: 0.3296 - mse: 0.0942 - val_loss: 0.3516 - val_mse: 0.1044\n",
            "Epoch 62/100\n",
            "32/32 [==============================] - 0s 2ms/step - loss: 0.3603 - mse: 0.1064 - val_loss: 0.3470 - val_mse: 0.1032\n",
            "Epoch 63/100\n",
            "32/32 [==============================] - 0s 2ms/step - loss: 0.3441 - mse: 0.0953 - val_loss: 0.3440 - val_mse: 0.1023\n",
            "Epoch 64/100\n",
            "32/32 [==============================] - 0s 2ms/step - loss: 0.3410 - mse: 0.0990 - val_loss: 0.3414 - val_mse: 0.1016\n",
            "Epoch 65/100\n",
            "32/32 [==============================] - 0s 2ms/step - loss: 0.3377 - mse: 0.0972 - val_loss: 0.3384 - val_mse: 0.1008\n",
            "Epoch 66/100\n",
            "32/32 [==============================] - 0s 2ms/step - loss: 0.3589 - mse: 0.0997 - val_loss: 0.3357 - val_mse: 0.1001\n",
            "Epoch 67/100\n",
            "32/32 [==============================] - 0s 2ms/step - loss: 0.3375 - mse: 0.0951 - val_loss: 0.3326 - val_mse: 0.0993\n",
            "Epoch 68/100\n",
            "32/32 [==============================] - 0s 2ms/step - loss: 0.3603 - mse: 0.0994 - val_loss: 0.3301 - val_mse: 0.0987\n",
            "Epoch 69/100\n",
            "32/32 [==============================] - 0s 2ms/step - loss: 0.3292 - mse: 0.0920 - val_loss: 0.3294 - val_mse: 0.0984\n",
            "Epoch 70/100\n",
            "32/32 [==============================] - 0s 2ms/step - loss: 0.2995 - mse: 0.0845 - val_loss: 0.3260 - val_mse: 0.0976\n",
            "Epoch 71/100\n",
            "32/32 [==============================] - 0s 2ms/step - loss: 0.3131 - mse: 0.0897 - val_loss: 0.3243 - val_mse: 0.0971\n",
            "Epoch 72/100\n",
            "32/32 [==============================] - 0s 2ms/step - loss: 0.3037 - mse: 0.0862 - val_loss: 0.3231 - val_mse: 0.0969\n",
            "Epoch 73/100\n",
            "32/32 [==============================] - 0s 2ms/step - loss: 0.3033 - mse: 0.0854 - val_loss: 0.3199 - val_mse: 0.0961\n",
            "Epoch 74/100\n",
            "32/32 [==============================] - 0s 2ms/step - loss: 0.3146 - mse: 0.0910 - val_loss: 0.3184 - val_mse: 0.0957\n",
            "Epoch 75/100\n",
            "32/32 [==============================] - 0s 3ms/step - loss: 0.3224 - mse: 0.0941 - val_loss: 0.3176 - val_mse: 0.0955\n",
            "Epoch 76/100\n",
            "32/32 [==============================] - 0s 3ms/step - loss: 0.3101 - mse: 0.0914 - val_loss: 0.3176 - val_mse: 0.0956\n",
            "Epoch 77/100\n",
            "32/32 [==============================] - 0s 2ms/step - loss: 0.3278 - mse: 0.0949 - val_loss: 0.3136 - val_mse: 0.0945\n",
            "Epoch 78/100\n",
            "32/32 [==============================] - 0s 2ms/step - loss: 0.3216 - mse: 0.0960 - val_loss: 0.3122 - val_mse: 0.0942\n",
            "Epoch 79/100\n",
            "32/32 [==============================] - 0s 2ms/step - loss: 0.3033 - mse: 0.0866 - val_loss: 0.3109 - val_mse: 0.0938\n",
            "Epoch 80/100\n",
            "32/32 [==============================] - 0s 2ms/step - loss: 0.3200 - mse: 0.0941 - val_loss: 0.3084 - val_mse: 0.0933\n",
            "Epoch 81/100\n",
            "32/32 [==============================] - 0s 3ms/step - loss: 0.3390 - mse: 0.0993 - val_loss: 0.3073 - val_mse: 0.0930\n",
            "Epoch 82/100\n",
            "32/32 [==============================] - 0s 2ms/step - loss: 0.3011 - mse: 0.0873 - val_loss: 0.3061 - val_mse: 0.0927\n",
            "Epoch 83/100\n",
            "32/32 [==============================] - 0s 2ms/step - loss: 0.2841 - mse: 0.0809 - val_loss: 0.3060 - val_mse: 0.0927\n",
            "Epoch 84/100\n",
            "32/32 [==============================] - 0s 2ms/step - loss: 0.3084 - mse: 0.0876 - val_loss: 0.3043 - val_mse: 0.0922\n",
            "Epoch 85/100\n",
            "32/32 [==============================] - 0s 2ms/step - loss: 0.3030 - mse: 0.0872 - val_loss: 0.3018 - val_mse: 0.0917\n",
            "Epoch 86/100\n",
            "32/32 [==============================] - 0s 2ms/step - loss: 0.3151 - mse: 0.0912 - val_loss: 0.3006 - val_mse: 0.0914\n",
            "Epoch 87/100\n",
            "32/32 [==============================] - 0s 2ms/step - loss: 0.2866 - mse: 0.0819 - val_loss: 0.3014 - val_mse: 0.0916\n",
            "Epoch 88/100\n",
            "32/32 [==============================] - 0s 3ms/step - loss: 0.2694 - mse: 0.0754 - val_loss: 0.2988 - val_mse: 0.0908\n",
            "Epoch 89/100\n",
            "32/32 [==============================] - 0s 2ms/step - loss: 0.3071 - mse: 0.0833 - val_loss: 0.2976 - val_mse: 0.0906\n",
            "Epoch 90/100\n",
            "32/32 [==============================] - 0s 2ms/step - loss: 0.2742 - mse: 0.0803 - val_loss: 0.2997 - val_mse: 0.0913\n",
            "Epoch 91/100\n",
            "32/32 [==============================] - 0s 2ms/step - loss: 0.2907 - mse: 0.0874 - val_loss: 0.2955 - val_mse: 0.0900\n",
            "Epoch 92/100\n",
            "32/32 [==============================] - 0s 3ms/step - loss: 0.2802 - mse: 0.0828 - val_loss: 0.2948 - val_mse: 0.0898\n",
            "Epoch 93/100\n",
            "32/32 [==============================] - 0s 3ms/step - loss: 0.3166 - mse: 0.0908 - val_loss: 0.2941 - val_mse: 0.0897\n",
            "Epoch 94/100\n",
            "32/32 [==============================] - 0s 2ms/step - loss: 0.2952 - mse: 0.0872 - val_loss: 0.2932 - val_mse: 0.0894\n",
            "Epoch 95/100\n",
            "32/32 [==============================] - 0s 3ms/step - loss: 0.3056 - mse: 0.0896 - val_loss: 0.2918 - val_mse: 0.0891\n",
            "Epoch 96/100\n",
            "32/32 [==============================] - 0s 2ms/step - loss: 0.2986 - mse: 0.0864 - val_loss: 0.2907 - val_mse: 0.0888\n",
            "Epoch 97/100\n",
            "32/32 [==============================] - 0s 2ms/step - loss: 0.2753 - mse: 0.0806 - val_loss: 0.2895 - val_mse: 0.0886\n",
            "Epoch 98/100\n",
            "32/32 [==============================] - 0s 2ms/step - loss: 0.2900 - mse: 0.0836 - val_loss: 0.2900 - val_mse: 0.0887\n",
            "Epoch 99/100\n",
            "32/32 [==============================] - 0s 2ms/step - loss: 0.3411 - mse: 0.0961 - val_loss: 0.2887 - val_mse: 0.0883\n",
            "Epoch 100/100\n",
            "32/32 [==============================] - 0s 3ms/step - loss: 0.3139 - mse: 0.0910 - val_loss: 0.2870 - val_mse: 0.0880\n"
          ],
          "name": "stdout"
        }
      ]
    },
    {
      "cell_type": "code",
      "metadata": {
        "colab": {
          "base_uri": "https://localhost:8080/"
        },
        "id": "gV-8drQ5tShz",
        "outputId": "98307fe9-2e90-4599-ff4f-7996140ba45c"
      },
      "source": [
        "model.evaluate(X_test, Y_test)[1]"
      ],
      "execution_count": 108,
      "outputs": [
        {
          "output_type": "stream",
          "text": [
            "7/7 [==============================] - 0s 2ms/step - loss: 0.2757 - mse: 0.0820\n"
          ],
          "name": "stdout"
        },
        {
          "output_type": "execute_result",
          "data": {
            "text/plain": [
              "0.08197592943906784"
            ]
          },
          "metadata": {
            "tags": []
          },
          "execution_count": 108
        }
      ]
    },
    {
      "cell_type": "code",
      "metadata": {
        "id": "hcsx95iFuAO3"
      },
      "source": [
        "import matplotlib.pyplot as plt\r\n"
      ],
      "execution_count": 109,
      "outputs": []
    },
    {
      "cell_type": "code",
      "metadata": {
        "colab": {
          "base_uri": "https://localhost:8080/",
          "height": 281
        },
        "id": "4SgUqX5Put6e",
        "outputId": "46a36b32-a960-4e16-969e-953aaf444fb6"
      },
      "source": [
        "plt.plot(hist.history['loss'], label='train')\r\n",
        "plt.plot(hist.history['val_loss'], label='test')\r\n",
        "plt.title('Loss / Mean Squared Error')\r\n",
        "#plt.ylabel('Loss')\r\n",
        "#plt.xlabel('Epoch')\r\n",
        "plt.legend()\r\n",
        "#plt.legend(['Train', 'Val'], loc='upper right')\r\n",
        "plt.show()"
      ],
      "execution_count": 110,
      "outputs": [
        {
          "output_type": "display_data",
          "data": {
            "image/png": "[encoded data removed]",
            "text/plain": [
              "<Figure size 432x288 with 1 Axes>"
            ]
          },
          "metadata": {
            "tags": [],
            "needs_background": "light"
          }
        }
      ]
    },
    {
      "cell_type": "code",
      "metadata": {
        "id": "5qvN_5T3uygt"
      },
      "source": [
        "#plt.plot(hist.history['accuracy'])\r\n",
        "#plt.plot(hist.history['val_accuracy'])\r\n",
        "#plt.title('Model accuracy')\r\n",
        "#plt.ylabel('Accuracy')\r\n",
        "#plt.xlabel('Epoch')\r\n",
        "#plt.legend(['Train', 'Val'], loc='lower right')\r\n",
        "#plt.show()"
      ],
      "execution_count": 94,
      "outputs": []
    },
    {
      "cell_type": "code",
      "metadata": {
        "id": "Cg9t6Q5eu83R"
      },
      "source": [
        ""
      ],
      "execution_count": null,
      "outputs": []
    }
  ]
}